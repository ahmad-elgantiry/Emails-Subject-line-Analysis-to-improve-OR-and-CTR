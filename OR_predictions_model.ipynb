{
 "cells": [
  {
   "cell_type": "markdown",
   "metadata": {},
   "source": [
    "### Building a Model To predict Emails Open Rates (OR%) , Based on the following Features \n",
    "- Time ( month of the year , quarter of the year , day of the week )\n",
    "- Pirority of email , main or reminder \n",
    "- Category ( interval , final )\n",
    "- Number of emails sent in each subject\n",
    "- Constructed Features\n",
    " - Length of the subject \n",
    " - Personalization of Email\n",
    " - Having emoji or not\n",
    " - Casual tone or formal \n",
    " - Urgency at the subject \n",
    " - Metion of price or discount in the subject \n",
    " - Imperative tone in the subject \n",
    " - Mention of product in the subject"
   ]
  },
  {
   "cell_type": "code",
   "execution_count": 1,
   "metadata": {},
   "outputs": [],
   "source": [
    "#importing libraries \n",
    "import pandas as pd\n",
    "from sklearn.model_selection import train_test_split\n",
    "from sklearn.preprocessing import OneHotEncoder\n",
    "from sklearn.compose import ColumnTransformer\n",
    "from sklearn.pipeline import Pipeline\n",
    "from sklearn.linear_model import LinearRegression\n",
    "from sklearn.metrics import mean_squared_error, r2_score,mean_absolute_error\n",
    "import statsmodels.api as sm\n",
    "import matplotlib.pyplot as plt\n"
   ]
  },
  {
   "cell_type": "code",
   "execution_count": 2,
   "metadata": {},
   "outputs": [],
   "source": [
    "#r reading the data as a dataframe\n",
    "df = pd.read_csv(\"model_data.csv\")"
   ]
  },
  {
   "cell_type": "code",
   "execution_count": 3,
   "metadata": {},
   "outputs": [
    {
     "name": "stdout",
     "output_type": "stream",
     "text": [
      "<class 'pandas.core.frame.DataFrame'>\n",
      "RangeIndex: 1279 entries, 0 to 1278\n",
      "Data columns (total 17 columns):\n",
      " #   Column             Non-Null Count  Dtype  \n",
      "---  ------             --------------  -----  \n",
      " 0   Sent date          1279 non-null   object \n",
      " 1   DD                 1279 non-null   object \n",
      " 2   Category name      1279 non-null   object \n",
      " 3   Main vs REM        1279 non-null   object \n",
      " 4   Subject            1279 non-null   object \n",
      " 5   Sendings           1279 non-null   int64  \n",
      " 6   OR clean %         1279 non-null   float64\n",
      " 7   length of subject  1279 non-null   int64  \n",
      " 8   Personalization    1279 non-null   int64  \n",
      " 9   Emoji              1279 non-null   int64  \n",
      " 10  Urgency            1279 non-null   int64  \n",
      " 11  Tone               1279 non-null   int64  \n",
      " 12  Price or Discount  1279 non-null   int64  \n",
      " 13  imperative         1279 non-null   int64  \n",
      " 14  product            1279 non-null   int64  \n",
      " 15  Month              1279 non-null   int64  \n",
      " 16  letter_count       1279 non-null   int64  \n",
      "dtypes: float64(1), int64(11), object(5)\n",
      "memory usage: 170.0+ KB\n"
     ]
    }
   ],
   "source": [
    "df.info()"
   ]
  },
  {
   "cell_type": "code",
   "execution_count": 4,
   "metadata": {},
   "outputs": [],
   "source": [
    "columns_to_drop = [ \"translation\", \"CTR clean %\",\"Date\",\"Month\",\"Subject\"]  \n",
    "df = df.drop(columns=columns_to_drop, errors='ignore')"
   ]
  },
  {
   "cell_type": "code",
   "execution_count": 5,
   "metadata": {},
   "outputs": [],
   "source": [
    "# Convert to datetime\n",
    "df['Sent date'] = pd.to_datetime(df['Sent date'], errors='coerce')\n",
    "\n",
    "# Create a Month column (numeric)\n",
    "df['Month'] = df['Sent date'].dt.month\n"
   ]
  },
  {
   "cell_type": "code",
   "execution_count": 6,
   "metadata": {},
   "outputs": [
    {
     "name": "stdout",
     "output_type": "stream",
     "text": [
      "<class 'pandas.core.frame.DataFrame'>\n",
      "RangeIndex: 1279 entries, 0 to 1278\n",
      "Data columns (total 16 columns):\n",
      " #   Column             Non-Null Count  Dtype         \n",
      "---  ------             --------------  -----         \n",
      " 0   Sent date          1279 non-null   datetime64[ns]\n",
      " 1   DD                 1279 non-null   object        \n",
      " 2   Category name      1279 non-null   object        \n",
      " 3   Main vs REM        1279 non-null   object        \n",
      " 4   Sendings           1279 non-null   int64         \n",
      " 5   OR clean %         1279 non-null   float64       \n",
      " 6   length of subject  1279 non-null   int64         \n",
      " 7   Personalization    1279 non-null   int64         \n",
      " 8   Emoji              1279 non-null   int64         \n",
      " 9   Urgency            1279 non-null   int64         \n",
      " 10  Tone               1279 non-null   int64         \n",
      " 11  Price or Discount  1279 non-null   int64         \n",
      " 12  imperative         1279 non-null   int64         \n",
      " 13  product            1279 non-null   int64         \n",
      " 14  letter_count       1279 non-null   int64         \n",
      " 15  Month              1279 non-null   int32         \n",
      "dtypes: datetime64[ns](1), float64(1), int32(1), int64(10), object(3)\n",
      "memory usage: 155.0+ KB\n"
     ]
    }
   ],
   "source": [
    "df.info()"
   ]
  },
  {
   "cell_type": "code",
   "execution_count": 7,
   "metadata": {},
   "outputs": [
    {
     "data": {
      "text/plain": [
       "Index(['Sent date', 'DD', 'Category name', 'Main vs REM', 'Sendings',\n",
       "       'OR clean %', 'length of subject', 'Personalization', 'Emoji',\n",
       "       'Urgency', 'Tone', 'Price or Discount', 'imperative ', 'product',\n",
       "       'letter_count', 'Month'],\n",
       "      dtype='object')"
      ]
     },
     "execution_count": 7,
     "metadata": {},
     "output_type": "execute_result"
    }
   ],
   "source": [
    "df.columns"
   ]
  },
  {
   "cell_type": "code",
   "execution_count": 8,
   "metadata": {},
   "outputs": [],
   "source": [
    "categorical_columns = [\n",
    "    'DD',\n",
    "    'Category name',\n",
    "    'Main vs REM',\n",
    "    'Personalization',\n",
    "    'Emoji',\n",
    "    'Urgency',\n",
    "    'Tone',\n",
    "    'Price or Discount',\n",
    "    'imperative ',\n",
    "    'product',\n",
    "    'length of subject',\n",
    "    'Month'\n",
    "]\n",
    "\n",
    "for col in categorical_columns:\n",
    "    if col in df.columns:\n",
    "        df[col] = df[col].astype('category')\n",
    "    else:\n",
    "        print(f\"Warning: Column '{col}' not found in DataFrame.\")\n"
   ]
  },
  {
   "cell_type": "code",
   "execution_count": 9,
   "metadata": {},
   "outputs": [
    {
     "name": "stdout",
     "output_type": "stream",
     "text": [
      "Sent date            datetime64[ns]\n",
      "DD                         category\n",
      "Category name              category\n",
      "Main vs REM                category\n",
      "Sendings                      int64\n",
      "OR clean %                  float64\n",
      "length of subject          category\n",
      "Personalization            category\n",
      "Emoji                      category\n",
      "Urgency                    category\n",
      "Tone                       category\n",
      "Price or Discount          category\n",
      "imperative                 category\n",
      "product                    category\n",
      "letter_count                  int64\n",
      "Month                      category\n",
      "dtype: object\n"
     ]
    }
   ],
   "source": [
    "print(df.dtypes)\n"
   ]
  },
  {
   "cell_type": "code",
   "execution_count": null,
   "metadata": {},
   "outputs": [],
   "source": [
    "df.columns"
   ]
  },
  {
   "cell_type": "code",
   "execution_count": 12,
   "metadata": {},
   "outputs": [
    {
     "name": "stdout",
     "output_type": "stream",
     "text": [
      "  Personalization Emoji Urgency Tone Price or Discount imperative  product\n",
      "0              no    no      no   no               yes          no     yes\n",
      "1              no    no      no   no                no          no     yes\n",
      "2              no   yes      no  yes                no          no      no\n",
      "3              no   yes     yes  yes               yes          no      no\n",
      "4              no    no      no   no               yes          no     yes\n",
      "0    short\n",
      "1    short\n",
      "2    short\n",
      "3     long\n",
      "4    short\n",
      "Name: length of subject, dtype: category\n",
      "Categories (2, object): ['short', 'long']\n"
     ]
    }
   ],
   "source": [
    "# List the columns where you want to replace 1/0\n",
    "cols_to_replace = ['Personalization',\"Emoji\",'Urgency',\"Tone\",'Price or Discount','imperative ','product']\n",
    "  \n",
    "\n",
    "# Replace 1 → 'yes' and 0 → 'no' in those columns\n",
    "df[cols_to_replace] = df[cols_to_replace].replace({1: 'yes', 0: 'no'})\n",
    "df['length of subject']=df['length of subject'].replace({1: \"long\", 0:\"short\"})\n",
    "\n",
    "# (optional) ensure they are treated as categorical\n",
    "df[cols_to_replace] = df[cols_to_replace].astype('category')\n",
    "\n",
    "# Quick check\n",
    "print(df[cols_to_replace].head())\n",
    "print(df['length of subject'].head())\n",
    "\n"
   ]
  },
  {
   "cell_type": "markdown",
   "metadata": {},
   "source": [
    "Next , I will confirm that the values in \"OR clean %\" is a valid percentage "
   ]
  },
  {
   "cell_type": "code",
   "execution_count": 13,
   "metadata": {},
   "outputs": [
    {
     "name": "stdout",
     "output_type": "stream",
     "text": [
      "All values in 'OR clean %' are valid percentages (0 to 1).\n"
     ]
    }
   ],
   "source": [
    "# Check if all values are between 0 and 1\n",
    "valid_percentage = df['OR clean %'].between(0, 1).all()\n",
    "\n",
    "if valid_percentage:\n",
    "    print(\"All values in 'OR clean %' are valid percentages (0 to 1).\")\n",
    "else:\n",
    "    # Show which rows are invalid\n",
    "    invalid_rows = df[~df['OR clean %'].between(0, 1)]\n",
    "    print(\"Some values are outside 0 to 1:\")\n",
    "    display(invalid_rows)\n"
   ]
  },
  {
   "cell_type": "code",
   "execution_count": 14,
   "metadata": {},
   "outputs": [
    {
     "name": "stdout",
     "output_type": "stream",
     "text": [
      "Outliers in 'Sendings':\n"
     ]
    },
    {
     "data": {
      "text/html": [
       "<div>\n",
       "<style scoped>\n",
       "    .dataframe tbody tr th:only-of-type {\n",
       "        vertical-align: middle;\n",
       "    }\n",
       "\n",
       "    .dataframe tbody tr th {\n",
       "        vertical-align: top;\n",
       "    }\n",
       "\n",
       "    .dataframe thead th {\n",
       "        text-align: right;\n",
       "    }\n",
       "</style>\n",
       "<table border=\"1\" class=\"dataframe\">\n",
       "  <thead>\n",
       "    <tr style=\"text-align: right;\">\n",
       "      <th></th>\n",
       "      <th>Sent date</th>\n",
       "      <th>DD</th>\n",
       "      <th>Category name</th>\n",
       "      <th>Main vs REM</th>\n",
       "      <th>Sendings</th>\n",
       "      <th>OR clean %</th>\n",
       "      <th>length of subject</th>\n",
       "      <th>Personalization</th>\n",
       "      <th>Emoji</th>\n",
       "      <th>Urgency</th>\n",
       "      <th>Tone</th>\n",
       "      <th>Price or Discount</th>\n",
       "      <th>imperative</th>\n",
       "      <th>product</th>\n",
       "      <th>letter_count</th>\n",
       "      <th>Month</th>\n",
       "    </tr>\n",
       "  </thead>\n",
       "  <tbody>\n",
       "    <tr>\n",
       "      <th>787</th>\n",
       "      <td>2024-12-10</td>\n",
       "      <td>Sunday</td>\n",
       "      <td>NL Interval</td>\n",
       "      <td>MAIN</td>\n",
       "      <td>241155</td>\n",
       "      <td>0.0706</td>\n",
       "      <td>short</td>\n",
       "      <td>no</td>\n",
       "      <td>no</td>\n",
       "      <td>yes</td>\n",
       "      <td>no</td>\n",
       "      <td>yes</td>\n",
       "      <td>no</td>\n",
       "      <td>yes</td>\n",
       "      <td>30</td>\n",
       "      <td>12</td>\n",
       "    </tr>\n",
       "    <tr>\n",
       "      <th>846</th>\n",
       "      <td>2024-11-19</td>\n",
       "      <td>Sunday</td>\n",
       "      <td>NL Interval</td>\n",
       "      <td>MAIN</td>\n",
       "      <td>239688</td>\n",
       "      <td>0.0724</td>\n",
       "      <td>short</td>\n",
       "      <td>no</td>\n",
       "      <td>no</td>\n",
       "      <td>yes</td>\n",
       "      <td>no</td>\n",
       "      <td>yes</td>\n",
       "      <td>no</td>\n",
       "      <td>yes</td>\n",
       "      <td>30</td>\n",
       "      <td>11</td>\n",
       "    </tr>\n",
       "    <tr>\n",
       "      <th>869</th>\n",
       "      <td>2024-11-15</td>\n",
       "      <td>Wednesday</td>\n",
       "      <td>NL Interval</td>\n",
       "      <td>MAIN</td>\n",
       "      <td>239832</td>\n",
       "      <td>0.0811</td>\n",
       "      <td>short</td>\n",
       "      <td>no</td>\n",
       "      <td>no</td>\n",
       "      <td>no</td>\n",
       "      <td>yes</td>\n",
       "      <td>yes</td>\n",
       "      <td>yes</td>\n",
       "      <td>yes</td>\n",
       "      <td>33</td>\n",
       "      <td>11</td>\n",
       "    </tr>\n",
       "    <tr>\n",
       "      <th>870</th>\n",
       "      <td>2024-11-24</td>\n",
       "      <td>Friday</td>\n",
       "      <td>NL Interval</td>\n",
       "      <td>MAIN</td>\n",
       "      <td>241218</td>\n",
       "      <td>0.0694</td>\n",
       "      <td>short</td>\n",
       "      <td>no</td>\n",
       "      <td>no</td>\n",
       "      <td>no</td>\n",
       "      <td>no</td>\n",
       "      <td>yes</td>\n",
       "      <td>no</td>\n",
       "      <td>yes</td>\n",
       "      <td>30</td>\n",
       "      <td>11</td>\n",
       "    </tr>\n",
       "    <tr>\n",
       "      <th>885</th>\n",
       "      <td>2024-11-29</td>\n",
       "      <td>Wednesday</td>\n",
       "      <td>NL Interval</td>\n",
       "      <td>MAIN</td>\n",
       "      <td>241500</td>\n",
       "      <td>0.0815</td>\n",
       "      <td>short</td>\n",
       "      <td>no</td>\n",
       "      <td>no</td>\n",
       "      <td>yes</td>\n",
       "      <td>yes</td>\n",
       "      <td>yes</td>\n",
       "      <td>yes</td>\n",
       "      <td>yes</td>\n",
       "      <td>28</td>\n",
       "      <td>11</td>\n",
       "    </tr>\n",
       "    <tr>\n",
       "      <th>...</th>\n",
       "      <td>...</td>\n",
       "      <td>...</td>\n",
       "      <td>...</td>\n",
       "      <td>...</td>\n",
       "      <td>...</td>\n",
       "      <td>...</td>\n",
       "      <td>...</td>\n",
       "      <td>...</td>\n",
       "      <td>...</td>\n",
       "      <td>...</td>\n",
       "      <td>...</td>\n",
       "      <td>...</td>\n",
       "      <td>...</td>\n",
       "      <td>...</td>\n",
       "      <td>...</td>\n",
       "      <td>...</td>\n",
       "    </tr>\n",
       "    <tr>\n",
       "      <th>1252</th>\n",
       "      <td>2024-11-10</td>\n",
       "      <td>Friday</td>\n",
       "      <td>NL Interval</td>\n",
       "      <td>MAIN</td>\n",
       "      <td>239778</td>\n",
       "      <td>0.0758</td>\n",
       "      <td>short</td>\n",
       "      <td>no</td>\n",
       "      <td>yes</td>\n",
       "      <td>no</td>\n",
       "      <td>yes</td>\n",
       "      <td>yes</td>\n",
       "      <td>no</td>\n",
       "      <td>yes</td>\n",
       "      <td>38</td>\n",
       "      <td>11</td>\n",
       "    </tr>\n",
       "    <tr>\n",
       "      <th>1258</th>\n",
       "      <td>2024-10-20</td>\n",
       "      <td>Friday</td>\n",
       "      <td>NL Interval</td>\n",
       "      <td>MAIN</td>\n",
       "      <td>239931</td>\n",
       "      <td>0.0760</td>\n",
       "      <td>short</td>\n",
       "      <td>no</td>\n",
       "      <td>yes</td>\n",
       "      <td>no</td>\n",
       "      <td>yes</td>\n",
       "      <td>yes</td>\n",
       "      <td>no</td>\n",
       "      <td>yes</td>\n",
       "      <td>38</td>\n",
       "      <td>10</td>\n",
       "    </tr>\n",
       "    <tr>\n",
       "      <th>1261</th>\n",
       "      <td>2024-11-01</td>\n",
       "      <td>Wednesday</td>\n",
       "      <td>NL Interval</td>\n",
       "      <td>MAIN</td>\n",
       "      <td>239781</td>\n",
       "      <td>0.0790</td>\n",
       "      <td>short</td>\n",
       "      <td>no</td>\n",
       "      <td>yes</td>\n",
       "      <td>yes</td>\n",
       "      <td>yes</td>\n",
       "      <td>yes</td>\n",
       "      <td>no</td>\n",
       "      <td>yes</td>\n",
       "      <td>30</td>\n",
       "      <td>11</td>\n",
       "    </tr>\n",
       "    <tr>\n",
       "      <th>1268</th>\n",
       "      <td>2024-08-25</td>\n",
       "      <td>Friday</td>\n",
       "      <td>NL Interval</td>\n",
       "      <td>MAIN</td>\n",
       "      <td>237564</td>\n",
       "      <td>0.0637</td>\n",
       "      <td>short</td>\n",
       "      <td>no</td>\n",
       "      <td>no</td>\n",
       "      <td>yes</td>\n",
       "      <td>no</td>\n",
       "      <td>yes</td>\n",
       "      <td>no</td>\n",
       "      <td>yes</td>\n",
       "      <td>28</td>\n",
       "      <td>8</td>\n",
       "    </tr>\n",
       "    <tr>\n",
       "      <th>1271</th>\n",
       "      <td>2024-12-22</td>\n",
       "      <td>Friday</td>\n",
       "      <td>NL Interval</td>\n",
       "      <td>MAIN</td>\n",
       "      <td>244071</td>\n",
       "      <td>0.0666</td>\n",
       "      <td>short</td>\n",
       "      <td>no</td>\n",
       "      <td>yes</td>\n",
       "      <td>no</td>\n",
       "      <td>yes</td>\n",
       "      <td>yes</td>\n",
       "      <td>no</td>\n",
       "      <td>yes</td>\n",
       "      <td>38</td>\n",
       "      <td>12</td>\n",
       "    </tr>\n",
       "  </tbody>\n",
       "</table>\n",
       "<p>61 rows × 16 columns</p>\n",
       "</div>"
      ],
      "text/plain": [
       "      Sent date         DD Category name Main vs REM  Sendings  OR clean %  \\\n",
       "787  2024-12-10     Sunday   NL Interval        MAIN    241155      0.0706   \n",
       "846  2024-11-19     Sunday   NL Interval        MAIN    239688      0.0724   \n",
       "869  2024-11-15  Wednesday   NL Interval        MAIN    239832      0.0811   \n",
       "870  2024-11-24     Friday   NL Interval        MAIN    241218      0.0694   \n",
       "885  2024-11-29  Wednesday   NL Interval        MAIN    241500      0.0815   \n",
       "...         ...        ...           ...         ...       ...         ...   \n",
       "1252 2024-11-10     Friday   NL Interval        MAIN    239778      0.0758   \n",
       "1258 2024-10-20     Friday   NL Interval        MAIN    239931      0.0760   \n",
       "1261 2024-11-01  Wednesday   NL Interval        MAIN    239781      0.0790   \n",
       "1268 2024-08-25     Friday   NL Interval        MAIN    237564      0.0637   \n",
       "1271 2024-12-22     Friday   NL Interval        MAIN    244071      0.0666   \n",
       "\n",
       "     length of subject Personalization Emoji Urgency Tone Price or Discount  \\\n",
       "787              short              no    no     yes   no               yes   \n",
       "846              short              no    no     yes   no               yes   \n",
       "869              short              no    no      no  yes               yes   \n",
       "870              short              no    no      no   no               yes   \n",
       "885              short              no    no     yes  yes               yes   \n",
       "...                ...             ...   ...     ...  ...               ...   \n",
       "1252             short              no   yes      no  yes               yes   \n",
       "1258             short              no   yes      no  yes               yes   \n",
       "1261             short              no   yes     yes  yes               yes   \n",
       "1268             short              no    no     yes   no               yes   \n",
       "1271             short              no   yes      no  yes               yes   \n",
       "\n",
       "     imperative  product  letter_count Month  \n",
       "787           no     yes            30    12  \n",
       "846           no     yes            30    11  \n",
       "869          yes     yes            33    11  \n",
       "870           no     yes            30    11  \n",
       "885          yes     yes            28    11  \n",
       "...          ...     ...           ...   ...  \n",
       "1252          no     yes            38    11  \n",
       "1258          no     yes            38    10  \n",
       "1261          no     yes            30    11  \n",
       "1268          no     yes            28     8  \n",
       "1271          no     yes            38    12  \n",
       "\n",
       "[61 rows x 16 columns]"
      ]
     },
     "metadata": {},
     "output_type": "display_data"
    },
    {
     "name": "stdout",
     "output_type": "stream",
     "text": [
      "Outliers in 'OR clean %':\n"
     ]
    },
    {
     "data": {
      "text/html": [
       "<div>\n",
       "<style scoped>\n",
       "    .dataframe tbody tr th:only-of-type {\n",
       "        vertical-align: middle;\n",
       "    }\n",
       "\n",
       "    .dataframe tbody tr th {\n",
       "        vertical-align: top;\n",
       "    }\n",
       "\n",
       "    .dataframe thead th {\n",
       "        text-align: right;\n",
       "    }\n",
       "</style>\n",
       "<table border=\"1\" class=\"dataframe\">\n",
       "  <thead>\n",
       "    <tr style=\"text-align: right;\">\n",
       "      <th></th>\n",
       "      <th>Sent date</th>\n",
       "      <th>DD</th>\n",
       "      <th>Category name</th>\n",
       "      <th>Main vs REM</th>\n",
       "      <th>Sendings</th>\n",
       "      <th>OR clean %</th>\n",
       "      <th>length of subject</th>\n",
       "      <th>Personalization</th>\n",
       "      <th>Emoji</th>\n",
       "      <th>Urgency</th>\n",
       "      <th>Tone</th>\n",
       "      <th>Price or Discount</th>\n",
       "      <th>imperative</th>\n",
       "      <th>product</th>\n",
       "      <th>letter_count</th>\n",
       "      <th>Month</th>\n",
       "    </tr>\n",
       "  </thead>\n",
       "  <tbody>\n",
       "    <tr>\n",
       "      <th>1</th>\n",
       "      <td>2024-08-02</td>\n",
       "      <td>Wednesday</td>\n",
       "      <td>NL Interval</td>\n",
       "      <td>MAIN</td>\n",
       "      <td>246</td>\n",
       "      <td>0.2927</td>\n",
       "      <td>short</td>\n",
       "      <td>no</td>\n",
       "      <td>no</td>\n",
       "      <td>no</td>\n",
       "      <td>no</td>\n",
       "      <td>no</td>\n",
       "      <td>no</td>\n",
       "      <td>yes</td>\n",
       "      <td>42</td>\n",
       "      <td>8</td>\n",
       "    </tr>\n",
       "    <tr>\n",
       "      <th>10</th>\n",
       "      <td>2024-11-01</td>\n",
       "      <td>Wednesday</td>\n",
       "      <td>NL Interval</td>\n",
       "      <td>MAIN</td>\n",
       "      <td>339</td>\n",
       "      <td>0.2566</td>\n",
       "      <td>short</td>\n",
       "      <td>no</td>\n",
       "      <td>yes</td>\n",
       "      <td>no</td>\n",
       "      <td>yes</td>\n",
       "      <td>yes</td>\n",
       "      <td>no</td>\n",
       "      <td>no</td>\n",
       "      <td>26</td>\n",
       "      <td>11</td>\n",
       "    </tr>\n",
       "    <tr>\n",
       "      <th>22</th>\n",
       "      <td>2024-07-02</td>\n",
       "      <td>Sunday</td>\n",
       "      <td>NL Interval</td>\n",
       "      <td>MAIN</td>\n",
       "      <td>315</td>\n",
       "      <td>0.2571</td>\n",
       "      <td>short</td>\n",
       "      <td>no</td>\n",
       "      <td>no</td>\n",
       "      <td>no</td>\n",
       "      <td>no</td>\n",
       "      <td>yes</td>\n",
       "      <td>no</td>\n",
       "      <td>yes</td>\n",
       "      <td>25</td>\n",
       "      <td>7</td>\n",
       "    </tr>\n",
       "    <tr>\n",
       "      <th>36</th>\n",
       "      <td>2024-12-03</td>\n",
       "      <td>Sunday</td>\n",
       "      <td>NL Interval</td>\n",
       "      <td>MAIN</td>\n",
       "      <td>345</td>\n",
       "      <td>0.2609</td>\n",
       "      <td>short</td>\n",
       "      <td>no</td>\n",
       "      <td>no</td>\n",
       "      <td>no</td>\n",
       "      <td>no</td>\n",
       "      <td>no</td>\n",
       "      <td>no</td>\n",
       "      <td>yes</td>\n",
       "      <td>42</td>\n",
       "      <td>12</td>\n",
       "    </tr>\n",
       "    <tr>\n",
       "      <th>37</th>\n",
       "      <td>2024-07-02</td>\n",
       "      <td>Sunday</td>\n",
       "      <td>NL Interval</td>\n",
       "      <td>MAIN</td>\n",
       "      <td>279</td>\n",
       "      <td>0.2581</td>\n",
       "      <td>short</td>\n",
       "      <td>no</td>\n",
       "      <td>no</td>\n",
       "      <td>no</td>\n",
       "      <td>no</td>\n",
       "      <td>no</td>\n",
       "      <td>no</td>\n",
       "      <td>yes</td>\n",
       "      <td>43</td>\n",
       "      <td>7</td>\n",
       "    </tr>\n",
       "    <tr>\n",
       "      <th>68</th>\n",
       "      <td>2024-03-01</td>\n",
       "      <td>Wednesday</td>\n",
       "      <td>NL Interval</td>\n",
       "      <td>MAIN</td>\n",
       "      <td>228</td>\n",
       "      <td>0.2763</td>\n",
       "      <td>short</td>\n",
       "      <td>no</td>\n",
       "      <td>no</td>\n",
       "      <td>no</td>\n",
       "      <td>no</td>\n",
       "      <td>no</td>\n",
       "      <td>no</td>\n",
       "      <td>yes</td>\n",
       "      <td>42</td>\n",
       "      <td>3</td>\n",
       "    </tr>\n",
       "    <tr>\n",
       "      <th>108</th>\n",
       "      <td>2024-03-01</td>\n",
       "      <td>Wednesday</td>\n",
       "      <td>NL Interval</td>\n",
       "      <td>MAIN</td>\n",
       "      <td>300</td>\n",
       "      <td>0.3200</td>\n",
       "      <td>short</td>\n",
       "      <td>no</td>\n",
       "      <td>no</td>\n",
       "      <td>no</td>\n",
       "      <td>no</td>\n",
       "      <td>no</td>\n",
       "      <td>no</td>\n",
       "      <td>yes</td>\n",
       "      <td>43</td>\n",
       "      <td>3</td>\n",
       "    </tr>\n",
       "    <tr>\n",
       "      <th>124</th>\n",
       "      <td>2024-03-22</td>\n",
       "      <td>Wednesday</td>\n",
       "      <td>NL Interval</td>\n",
       "      <td>MAIN</td>\n",
       "      <td>1188</td>\n",
       "      <td>0.3157</td>\n",
       "      <td>short</td>\n",
       "      <td>no</td>\n",
       "      <td>yes</td>\n",
       "      <td>yes</td>\n",
       "      <td>yes</td>\n",
       "      <td>yes</td>\n",
       "      <td>no</td>\n",
       "      <td>yes</td>\n",
       "      <td>30</td>\n",
       "      <td>3</td>\n",
       "    </tr>\n",
       "    <tr>\n",
       "      <th>317</th>\n",
       "      <td>2024-10-01</td>\n",
       "      <td>Sunday</td>\n",
       "      <td>NL Interval</td>\n",
       "      <td>MAIN</td>\n",
       "      <td>345</td>\n",
       "      <td>0.2957</td>\n",
       "      <td>short</td>\n",
       "      <td>no</td>\n",
       "      <td>yes</td>\n",
       "      <td>no</td>\n",
       "      <td>yes</td>\n",
       "      <td>yes</td>\n",
       "      <td>no</td>\n",
       "      <td>no</td>\n",
       "      <td>26</td>\n",
       "      <td>10</td>\n",
       "    </tr>\n",
       "    <tr>\n",
       "      <th>638</th>\n",
       "      <td>2024-03-29</td>\n",
       "      <td>Wednesday</td>\n",
       "      <td>NL Interval</td>\n",
       "      <td>MAIN</td>\n",
       "      <td>1383</td>\n",
       "      <td>0.2625</td>\n",
       "      <td>short</td>\n",
       "      <td>no</td>\n",
       "      <td>yes</td>\n",
       "      <td>yes</td>\n",
       "      <td>yes</td>\n",
       "      <td>yes</td>\n",
       "      <td>no</td>\n",
       "      <td>yes</td>\n",
       "      <td>30</td>\n",
       "      <td>3</td>\n",
       "    </tr>\n",
       "    <tr>\n",
       "      <th>806</th>\n",
       "      <td>2024-03-01</td>\n",
       "      <td>Wednesday</td>\n",
       "      <td>NL Interval</td>\n",
       "      <td>MAIN</td>\n",
       "      <td>186</td>\n",
       "      <td>0.2742</td>\n",
       "      <td>short</td>\n",
       "      <td>no</td>\n",
       "      <td>no</td>\n",
       "      <td>no</td>\n",
       "      <td>no</td>\n",
       "      <td>yes</td>\n",
       "      <td>no</td>\n",
       "      <td>yes</td>\n",
       "      <td>25</td>\n",
       "      <td>3</td>\n",
       "    </tr>\n",
       "  </tbody>\n",
       "</table>\n",
       "</div>"
      ],
      "text/plain": [
       "     Sent date         DD Category name Main vs REM  Sendings  OR clean %  \\\n",
       "1   2024-08-02  Wednesday   NL Interval        MAIN       246      0.2927   \n",
       "10  2024-11-01  Wednesday   NL Interval        MAIN       339      0.2566   \n",
       "22  2024-07-02     Sunday   NL Interval        MAIN       315      0.2571   \n",
       "36  2024-12-03     Sunday   NL Interval        MAIN       345      0.2609   \n",
       "37  2024-07-02     Sunday   NL Interval        MAIN       279      0.2581   \n",
       "68  2024-03-01  Wednesday   NL Interval        MAIN       228      0.2763   \n",
       "108 2024-03-01  Wednesday   NL Interval        MAIN       300      0.3200   \n",
       "124 2024-03-22  Wednesday   NL Interval        MAIN      1188      0.3157   \n",
       "317 2024-10-01     Sunday   NL Interval        MAIN       345      0.2957   \n",
       "638 2024-03-29  Wednesday   NL Interval        MAIN      1383      0.2625   \n",
       "806 2024-03-01  Wednesday   NL Interval        MAIN       186      0.2742   \n",
       "\n",
       "    length of subject Personalization Emoji Urgency Tone Price or Discount  \\\n",
       "1               short              no    no      no   no                no   \n",
       "10              short              no   yes      no  yes               yes   \n",
       "22              short              no    no      no   no               yes   \n",
       "36              short              no    no      no   no                no   \n",
       "37              short              no    no      no   no                no   \n",
       "68              short              no    no      no   no                no   \n",
       "108             short              no    no      no   no                no   \n",
       "124             short              no   yes     yes  yes               yes   \n",
       "317             short              no   yes      no  yes               yes   \n",
       "638             short              no   yes     yes  yes               yes   \n",
       "806             short              no    no      no   no               yes   \n",
       "\n",
       "    imperative  product  letter_count Month  \n",
       "1            no     yes            42     8  \n",
       "10           no      no            26    11  \n",
       "22           no     yes            25     7  \n",
       "36           no     yes            42    12  \n",
       "37           no     yes            43     7  \n",
       "68           no     yes            42     3  \n",
       "108          no     yes            43     3  \n",
       "124          no     yes            30     3  \n",
       "317          no      no            26    10  \n",
       "638          no     yes            30     3  \n",
       "806          no     yes            25     3  "
      ]
     },
     "metadata": {},
     "output_type": "display_data"
    }
   ],
   "source": [
    "import pandas as pd\n",
    "import numpy as np\n",
    "from scipy import stats\n",
    "\n",
    "def get_column_outliers(df, columns=['Sendings', 'OR clean %'], threshold=3):\n",
    "    \"\"\"\n",
    "    Detect outliers in each specified numeric column using Z-score.\n",
    "    \n",
    "    Parameters:\n",
    "    - df: pandas DataFrame\n",
    "    - columns: list of column names to check\n",
    "    - threshold: Z-score cutoff (default 3)\n",
    "    \n",
    "    Returns:\n",
    "    - Dictionary: column name -> DataFrame of outlier rows\n",
    "    \"\"\"\n",
    "    outlier_dict = {}\n",
    "    \n",
    "    for col in columns:\n",
    "        if col in df.columns:\n",
    "            col_data = df[col]\n",
    "            z_scores = np.abs(stats.zscore(col_data.dropna()))\n",
    "            col_outliers = df.loc[col_data.dropna().index[z_scores > threshold]]\n",
    "            outlier_dict[col] = col_outliers\n",
    "        else:\n",
    "            print(f\"Warning: Column '{col}' not found in DataFrame.\")\n",
    "            outlier_dict[col] = pd.DataFrame()  # empty DataFrame if column not found\n",
    "    \n",
    "    return outlier_dict\n",
    "\n",
    "# Example usage\n",
    "outliers = get_column_outliers(df, columns=['Sendings', 'OR clean %'], threshold=3)\n",
    "\n",
    "print(\"Outliers in 'Sendings':\")\n",
    "display(outliers['Sendings'])\n",
    "\n",
    "print(\"Outliers in 'OR clean %':\")\n",
    "display(outliers['OR clean %'])\n"
   ]
  },
  {
   "cell_type": "code",
   "execution_count": 15,
   "metadata": {},
   "outputs": [
    {
     "name": "stdout",
     "output_type": "stream",
     "text": [
      "Sendings: capped below 357.000, capped above 241306.620\n",
      "OR clean %: capped below 0.057, capped above 0.229\n"
     ]
    }
   ],
   "source": [
    "\n",
    "\n",
    "\n",
    "\n",
    "# Set Winsorization thresholds (percentiles)\n",
    "lower_pct = 0.01  # 1st percentile\n",
    "upper_pct = 0.99  # 99th percentile\n",
    "\n",
    "# List of columns to Winsorize\n",
    "columns_to_winsorize = ['Sendings', 'OR clean %']\n",
    "\n",
    "for col in columns_to_winsorize:\n",
    "    lower = df[col].quantile(lower_pct)\n",
    "    upper = df[col].quantile(upper_pct)\n",
    "    df[col] = np.clip(df[col], lower, upper)  # Cap values at thresholds\n",
    "    print(f\"{col}: capped below {lower:.3f}, capped above {upper:.3f}\")\n",
    "\n",
    "# Now df has Winsorized columns ready for modeling\n"
   ]
  },
  {
   "cell_type": "markdown",
   "metadata": {},
   "source": [
    "- Confirming that Data is valid for regression models \n",
    " - Cheking correlation \n",
    " - Ckeking multicoliniarity"
   ]
  },
  {
   "cell_type": "code",
   "execution_count": 16,
   "metadata": {},
   "outputs": [
    {
     "name": "stdout",
     "output_type": "stream",
     "text": [
      "\n",
      "✅ Correlation with target:\n",
      "OR clean %      1.000000\n",
      "letter_count    0.004514\n",
      "Sendings       -0.395565\n",
      "Name: OR clean %, dtype: float64\n"
     ]
    }
   ],
   "source": [
    "# code to check correlation \n",
    "target = \"OR clean %\"  \n",
    "\n",
    "numeric_df = df.select_dtypes(include=['int64', 'float64'])\n",
    "corr_with_target = numeric_df.corr()[target].sort_values(ascending=False)\n",
    "\n",
    "print(\"\\n✅ Correlation with target:\")\n",
    "print(corr_with_target)"
   ]
  },
  {
   "cell_type": "code",
   "execution_count": 17,
   "metadata": {},
   "outputs": [
    {
     "name": "stdout",
     "output_type": "stream",
     "text": [
      "\n",
      "✅ VIF to detect multicollinearity:\n",
      "        feature       VIF\n",
      "0      Sendings  1.450841\n",
      "1  letter_count  1.450841\n"
     ]
    }
   ],
   "source": [
    "# code to check multicolinearity \n",
    "from statsmodels.stats.outliers_influence import variance_inflation_factor\n",
    "import pandas as pd\n",
    "\n",
    "X = numeric_df.drop(columns=[target])  \n",
    "vif_data = pd.DataFrame()\n",
    "vif_data[\"feature\"] = X.columns\n",
    "vif_data[\"VIF\"] = [variance_inflation_factor(X.values, i) for i in range(X.shape[1])]\n",
    "\n",
    "print(\"\\n✅ VIF to detect multicollinearity:\")\n",
    "print(vif_data)"
   ]
  },
  {
   "cell_type": "markdown",
   "metadata": {},
   "source": [
    "The previous result shows that there is no multicolinearity effect \n"
   ]
  },
  {
   "cell_type": "markdown",
   "metadata": {},
   "source": [
    "### Building bionomial GLM  model "
   ]
  },
  {
   "cell_type": "code",
   "execution_count": 18,
   "metadata": {},
   "outputs": [
    {
     "data": {
      "text/plain": [
       "Index(['Sent date', 'DD', 'Category name', 'Main vs REM', 'Sendings',\n",
       "       'OR clean %', 'length of subject', 'Personalization', 'Emoji',\n",
       "       'Urgency', 'Tone', 'Price or Discount', 'imperative ', 'product',\n",
       "       'letter_count', 'Month'],\n",
       "      dtype='object')"
      ]
     },
     "execution_count": 18,
     "metadata": {},
     "output_type": "execute_result"
    }
   ],
   "source": [
    "df.columns"
   ]
  },
  {
   "cell_type": "code",
   "execution_count": 19,
   "metadata": {},
   "outputs": [
    {
     "data": {
      "text/plain": [
       "Sent date            datetime64[ns]\n",
       "DD                         category\n",
       "Category name              category\n",
       "Main vs REM                category\n",
       "Sendings                    float64\n",
       "OR clean %                  float64\n",
       "length of subject          category\n",
       "Personalization            category\n",
       "Emoji                      category\n",
       "Urgency                    category\n",
       "Tone                       category\n",
       "Price or Discount          category\n",
       "imperative                 category\n",
       "product                    category\n",
       "letter_count                  int64\n",
       "Month                      category\n",
       "dtype: object"
      ]
     },
     "execution_count": 19,
     "metadata": {},
     "output_type": "execute_result"
    }
   ],
   "source": [
    "df.dtypes"
   ]
  },
  {
   "cell_type": "code",
   "execution_count": 20,
   "metadata": {},
   "outputs": [],
   "source": [
    "df['opens'] = (df['OR clean %'] * df['Sendings']).round().astype(int)\n",
    "df['fails'] = (df['Sendings'] - df['opens']).round().astype(int)"
   ]
  },
  {
   "cell_type": "code",
   "execution_count": 21,
   "metadata": {},
   "outputs": [],
   "source": [
    "# Define categorical columns\n",
    "categorical_cols = [\n",
    "    'DD', 'Category name', 'Main vs REM',\n",
    "    'length of subject', 'Personalization', 'Emoji',\n",
    "    'Urgency', 'Tone', 'Price or Discount',\n",
    "    'imperative ', 'product', 'Month'\n",
    "]\n",
    "\n",
    "# ✅ Create a copy of df for modeling\n",
    "df_model = df.copy()\n",
    "\n",
    "# Create dummies (one-hot encoding) on the copy\n",
    "df_model = pd.get_dummies(df_model, columns=categorical_cols, drop_first=True)\n",
    "\n",
    "# Select predictor columns (exclude target, weights, and identifiers)\n",
    "predictor_cols = [\n",
    "    c for c in df_model.columns\n",
    "    if c not in ['OR clean %', 'Sendings', 'opens', 'fails', 'Sent date']\n",
    "]\n",
    "\n",
    "# Convert predictors to numeric safely\n",
    "df_model[predictor_cols] = (\n",
    "    df_model[predictor_cols]\n",
    "    .apply(pd.to_numeric, errors='coerce')\n",
    "    .fillna(0)\n",
    "    .astype(float)\n",
    ")\n"
   ]
  },
  {
   "cell_type": "code",
   "execution_count": 22,
   "metadata": {},
   "outputs": [],
   "source": [
    "X = df_model[predictor_cols]\n",
    "y = df_model[['opens','fails']].to_numpy()"
   ]
  },
  {
   "cell_type": "code",
   "execution_count": 23,
   "metadata": {},
   "outputs": [
    {
     "data": {
      "text/plain": [
       "Index(['letter_count', 'DD_Monday', 'DD_Saturday', 'DD_Sunday', 'DD_Thursday',\n",
       "       'DD_Tuesday', 'DD_Wednesday', 'Category name_NL Interval',\n",
       "       'Main vs REM_REM', 'length of subject_long', 'Personalization_yes',\n",
       "       'Emoji_yes', 'Urgency_yes', 'Tone_yes', 'Price or Discount_yes',\n",
       "       'imperative _yes', 'product_yes', 'Month_2', 'Month_3', 'Month_4',\n",
       "       'Month_5', 'Month_6', 'Month_7', 'Month_8', 'Month_9', 'Month_10',\n",
       "       'Month_11', 'Month_12'],\n",
       "      dtype='object')"
      ]
     },
     "execution_count": 23,
     "metadata": {},
     "output_type": "execute_result"
    }
   ],
   "source": [
    "X.columns"
   ]
  },
  {
   "cell_type": "code",
   "execution_count": 24,
   "metadata": {},
   "outputs": [],
   "source": [
    "X_train, X_test, y_train, y_test = train_test_split(\n",
    "    X, y, test_size=0.2, random_state=42\n",
    ")"
   ]
  },
  {
   "cell_type": "code",
   "execution_count": 25,
   "metadata": {},
   "outputs": [],
   "source": [
    "X_train = sm.add_constant(X_train)\n",
    "X_test = sm.add_constant(X_test, has_constant='add')"
   ]
  },
  {
   "cell_type": "code",
   "execution_count": null,
   "metadata": {},
   "outputs": [],
   "source": []
  },
  {
   "cell_type": "code",
   "execution_count": 26,
   "metadata": {},
   "outputs": [
    {
     "name": "stdout",
     "output_type": "stream",
     "text": [
      "                 Generalized Linear Model Regression Results                  \n",
      "==============================================================================\n",
      "Dep. Variable:           ['y1', 'y2']   No. Observations:                 1023\n",
      "Model:                            GLM   Df Residuals:                      994\n",
      "Model Family:                Binomial   Df Model:                           28\n",
      "Link Function:                  Logit   Scale:                          1.0000\n",
      "Method:                          IRLS   Log-Likelihood:            -1.1978e+05\n",
      "Date:                Sun, 19 Oct 2025   Deviance:                   2.2985e+05\n",
      "Time:                        14:35:44   Pearson chi2:                 2.39e+05\n",
      "No. Iterations:                     6   Pseudo R-squ. (CS):              1.000\n",
      "Covariance Type:            nonrobust                                         \n",
      "=============================================================================================\n",
      "                                coef    std err          z      P>|z|      [0.025      0.975]\n",
      "---------------------------------------------------------------------------------------------\n",
      "const                        -1.4343      0.007   -214.959      0.000      -1.447      -1.421\n",
      "letter_count                 -0.0238      0.000   -201.466      0.000      -0.024      -0.024\n",
      "DD_Monday                     0.2788      0.005     56.012      0.000       0.269       0.289\n",
      "DD_Saturday                   0.3072      0.005     56.828      0.000       0.297       0.318\n",
      "DD_Sunday                     0.1052      0.002     63.226      0.000       0.102       0.109\n",
      "DD_Thursday                   0.2609      0.005     51.792      0.000       0.251       0.271\n",
      "DD_Tuesday                    0.0120      0.005      2.322      0.020       0.002       0.022\n",
      "DD_Wednesday                  0.2582      0.002    167.001      0.000       0.255       0.261\n",
      "Category name_NL Interval     0.5478      0.007     82.434      0.000       0.535       0.561\n",
      "Main vs REM_REM               0.2361      0.008     28.394      0.000       0.220       0.252\n",
      "length of subject_long        0.5301      0.003    167.620      0.000       0.524       0.536\n",
      "Personalization_yes          -0.1237      0.009    -13.955      0.000      -0.141      -0.106\n",
      "Emoji_yes                    -0.0010      0.003     -0.309      0.757      -0.007       0.005\n",
      "Urgency_yes                  -0.4229      0.001   -331.464      0.000      -0.425      -0.420\n",
      "Tone_yes                     -0.0593      0.002    -24.642      0.000      -0.064      -0.055\n",
      "Price or Discount_yes        -0.4632      0.002   -301.229      0.000      -0.466      -0.460\n",
      "imperative _yes              -0.2022      0.003    -69.304      0.000      -0.208      -0.196\n",
      "product_yes                   0.0589      0.002     34.440      0.000       0.056       0.062\n",
      "Month_2                      -0.0647      0.002    -26.040      0.000      -0.070      -0.060\n",
      "Month_3                      -0.0939      0.002    -37.875      0.000      -0.099      -0.089\n",
      "Month_4                      -0.1171      0.002    -47.470      0.000      -0.122      -0.112\n",
      "Month_5                      -0.1564      0.002    -62.868      0.000      -0.161      -0.151\n",
      "Month_6                      -0.1951      0.003    -75.923      0.000      -0.200      -0.190\n",
      "Month_7                      -0.1386      0.002    -56.754      0.000      -0.143      -0.134\n",
      "Month_8                      -0.1889      0.002    -78.601      0.000      -0.194      -0.184\n",
      "Month_9                      -0.1576      0.002    -63.796      0.000      -0.162      -0.153\n",
      "Month_10                     -0.1440      0.002    -60.311      0.000      -0.149      -0.139\n",
      "Month_11                     -0.1554      0.002    -63.477      0.000      -0.160      -0.151\n",
      "Month_12                     -0.1847      0.002    -76.839      0.000      -0.189      -0.180\n",
      "=============================================================================================\n"
     ]
    }
   ],
   "source": [
    "glm_binom = sm.GLM(y_train, X_train, family=sm.families.Binomial())\n",
    "model_result = glm_binom.fit()\n",
    "print(model_result.summary())"
   ]
  },
  {
   "cell_type": "code",
   "execution_count": 27,
   "metadata": {},
   "outputs": [],
   "source": [
    "y_pred_or = model_result.predict(X_test)"
   ]
  },
  {
   "cell_type": "code",
   "execution_count": 28,
   "metadata": {},
   "outputs": [],
   "source": [
    "y_test_rate = y_test[:,0] / (y_test[:,0] + y_test[:,1])"
   ]
  },
  {
   "cell_type": "code",
   "execution_count": 29,
   "metadata": {},
   "outputs": [
    {
     "name": "stdout",
     "output_type": "stream",
     "text": [
      "MAE on test set: 0.0283\n"
     ]
    }
   ],
   "source": [
    "mae = mean_absolute_error(y_test_rate, y_pred_or)\n",
    "print(f\"MAE on test set: {mae:.4f}\")"
   ]
  },
  {
   "cell_type": "code",
   "execution_count": 30,
   "metadata": {},
   "outputs": [
    {
     "name": "stdout",
     "output_type": "stream",
     "text": [
      "Top-decile lift: 1.18\n",
      "Mean predicted OR clean %: 0.1109\n",
      "Mean actual OR clean %:    0.1276\n"
     ]
    }
   ],
   "source": [
    "\n",
    "\n",
    "df_test_eval = X_test.copy()\n",
    "df_test_eval['y_pred'] = y_pred_or\n",
    "df_test_eval['y_true_rate'] = y_test_rate\n",
    "\n",
    "top_10pct = df_test_eval.sort_values('y_pred', ascending=False).head(int(len(df_test_eval)*0.1))\n",
    "top_decile_mean = top_10pct['y_true_rate'].mean()\n",
    "overall_mean = y_test_rate.mean()\n",
    "lift = top_decile_mean / overall_mean\n",
    "\n",
    "# -------------------------------\n",
    "# 6. Mean predicted vs mean actual\n",
    "# -------------------------------\n",
    "mean_pred = np.mean(y_pred_or)\n",
    "mean_actual = np.mean(y_test_rate)\n",
    "\n",
    "print(f\"Top-decile lift: {lift:.2f}\")\n",
    "print(f\"Mean predicted OR clean %: {mean_pred:.4f}\")\n",
    "print(f\"Mean actual OR clean %:    {mean_actual:.4f}\")\n",
    "# -------------------------------\n",
    "\n"
   ]
  },
  {
   "cell_type": "code",
   "execution_count": 31,
   "metadata": {},
   "outputs": [
    {
     "data": {
      "image/png": "[encoded data removed]",
      "text/plain": [
       "<Figure size 640x480 with 1 Axes>"
      ]
     },
     "metadata": {},
     "output_type": "display_data"
    },
    {
     "name": "stdout",
     "output_type": "stream",
     "text": [
      "Top-decile lift: 1.18\n"
     ]
    }
   ],
   "source": [
    "\n",
    "\n",
    "\n",
    "\n",
    "\n",
    "\n",
    "\n",
    "# Calibration curve\n",
    "plt.scatter(y_pred_or, y_test_rate, alpha=0.5)\n",
    "plt.plot([0,1],[0,1], linestyle='--', color='gray')\n",
    "plt.xlabel(\"Predicted OR clean %\")\n",
    "plt.ylabel(\"Actual OR clean %\")\n",
    "plt.title(\"Calibration Scatter\")\n",
    "plt.show()\n",
    "\n",
    "# Top-decile lift\n",
    "df_test_eval = X_test.copy()\n",
    "df_test_eval['y_pred'] = y_pred_or\n",
    "df_test_eval['y_true_rate'] = y_test_rate\n",
    "\n",
    "top_10pct = df_test_eval.sort_values('y_pred', ascending=False).head(int(len(df_test_eval)*0.1))\n",
    "top_decile_mean = top_10pct['y_true_rate'].mean()\n",
    "overall_mean = y_test_rate.mean()\n",
    "lift = top_decile_mean / overall_mean\n",
    "print(f\"Top-decile lift: {lift:.2f}\")\n"
   ]
  },
  {
   "cell_type": "code",
   "execution_count": 32,
   "metadata": {},
   "outputs": [],
   "source": [
    "import pandas as pd\n",
    "import statsmodels.api as sm\n",
    "import ipywidgets as widgets\n",
    "from IPython.display import display\n",
    "\n",
    "# ---- 1️⃣ Prediction helper (unchanged) ----\n",
    "def glm_predict_from_list(model, feature_values, feature_names):\n",
    "    df_new = pd.DataFrame([feature_values], columns=feature_names)\n",
    "    X_new = pd.get_dummies(df_new, drop_first=True)\n",
    "    X_new = sm.add_constant(X_new, has_constant='add')\n",
    "    model_cols = model.params.index\n",
    "    for col in model_cols:\n",
    "        if col not in X_new.columns:\n",
    "            X_new[col] = 0\n",
    "    X_new = X_new[model_cols]\n",
    "    return model.predict(X_new)[0]\n",
    "\n",
    "\n",
    "# ---- 2️⃣ Interactive predictor builder ----\n",
    "def interactive_glm_predict(model, df, categorical_cols, numeric_cols):\n",
    "    \"\"\"\n",
    "    Create an interactive UI for GLM predictions.\n",
    "\n",
    "    Parameters\n",
    "    ----------\n",
    "    model : fitted statsmodels GLMResults\n",
    "    df : pandas DataFrame used for training (to infer categories)\n",
    "    categorical_cols : list of categorical feature names\n",
    "    numeric_cols : list of numeric feature names\n",
    "    \"\"\"\n",
    "\n",
    "    feature_names = categorical_cols + numeric_cols\n",
    "\n",
    "    # Create widgets\n",
    "    widgets_dict = {}\n",
    "\n",
    "    for col in categorical_cols:\n",
    "        # Suggested options from data\n",
    "        options = sorted(df[col].dropna().unique().tolist())\n",
    "        widgets_dict[col] = widgets.Dropdown(\n",
    "            options=options, description=col, style={'description_width': '150px'}\n",
    "        )\n",
    "\n",
    "    for col in numeric_cols:\n",
    "        widgets_dict[col] = widgets.FloatText(description=col, style={'description_width': '150px'})\n",
    "\n",
    "    # Predict button + output display\n",
    "    button = widgets.Button(description=\"Predict\", button_style='success')\n",
    "    output = widgets.Output()\n",
    "\n",
    "    # On-click behavior\n",
    "    def on_click(b):\n",
    "        with output:\n",
    "            output.clear_output()\n",
    "            values = [widgets_dict[f].value for f in feature_names]\n",
    "            pred = glm_predict_from_list(model, values, feature_names)\n",
    "            print(f\"Predicted open rate: {pred:.4f} ({pred*100:.2f}%)\")\n",
    "\n",
    "    button.on_click(on_click)\n",
    "\n",
    "    # Layout\n",
    "    form_items = list(widgets_dict.values())\n",
    "    display(*(form_items + [button, output]))\n"
   ]
  },
  {
   "cell_type": "code",
   "execution_count": null,
   "metadata": {},
   "outputs": [
    {
     "data": {
      "application/vnd.jupyter.widget-view+json": {
       "model_id": "2e25969ef8554fec9bc978787b2a4deb",
       "version_major": 2,
       "version_minor": 0
      },
      "text/plain": [
       "Dropdown(description='Category name', options=('NL Final', 'NL Interval'), style=DescriptionStyle(description_…"
      ]
     },
     "metadata": {},
     "output_type": "display_data"
    },
    {
     "data": {
      "application/vnd.jupyter.widget-view+json": {
       "model_id": "2dec958ff53f41e3b303eb29b707de2e",
       "version_major": 2,
       "version_minor": 0
      },
      "text/plain": [
       "Dropdown(description='Main vs REM', options=('MAIN', 'REM'), style=DescriptionStyle(description_width='150px')…"
      ]
     },
     "metadata": {},
     "output_type": "display_data"
    },
    {
     "data": {
      "application/vnd.jupyter.widget-view+json": {
       "model_id": "64c0e344c8ee4be18d2bec719c3c15b6",
       "version_major": 2,
       "version_minor": 0
      },
      "text/plain": [
       "Dropdown(description='Personalization', options=('no', 'yes'), style=DescriptionStyle(description_width='150px…"
      ]
     },
     "metadata": {},
     "output_type": "display_data"
    },
    {
     "data": {
      "application/vnd.jupyter.widget-view+json": {
       "model_id": "5d06096220ca4e18a6ac58f70bd3e2ae",
       "version_major": 2,
       "version_minor": 0
      },
      "text/plain": [
       "Dropdown(description='Emoji', options=('no', 'yes'), style=DescriptionStyle(description_width='150px'), value=…"
      ]
     },
     "metadata": {},
     "output_type": "display_data"
    },
    {
     "data": {
      "application/vnd.jupyter.widget-view+json": {
       "model_id": "846d051876e848ce85f6ab541c6b12e9",
       "version_major": 2,
       "version_minor": 0
      },
      "text/plain": [
       "Dropdown(description='Urgency', options=('no', 'yes'), style=DescriptionStyle(description_width='150px'), valu…"
      ]
     },
     "metadata": {},
     "output_type": "display_data"
    },
    {
     "data": {
      "application/vnd.jupyter.widget-view+json": {
       "model_id": "8b665369c4454c008392e4ead49fce91",
       "version_major": 2,
       "version_minor": 0
      },
      "text/plain": [
       "Dropdown(description='Tone', options=('no', 'yes'), style=DescriptionStyle(description_width='150px'), value='…"
      ]
     },
     "metadata": {},
     "output_type": "display_data"
    },
    {
     "data": {
      "application/vnd.jupyter.widget-view+json": {
       "model_id": "db2345f915d94fc185e36459be0a6d6e",
       "version_major": 2,
       "version_minor": 0
      },
      "text/plain": [
       "Dropdown(description='Price or Discount', options=('no', 'yes'), style=DescriptionStyle(description_width='150…"
      ]
     },
     "metadata": {},
     "output_type": "display_data"
    },
    {
     "data": {
      "application/vnd.jupyter.widget-view+json": {
       "model_id": "c50e4f5ad6654f17b0d87cfbb5751d29",
       "version_major": 2,
       "version_minor": 0
      },
      "text/plain": [
       "Dropdown(description='imperative ', options=('no', 'yes'), style=DescriptionStyle(description_width='150px'), …"
      ]
     },
     "metadata": {},
     "output_type": "display_data"
    },
    {
     "data": {
      "application/vnd.jupyter.widget-view+json": {
       "model_id": "f04c5ce4a8994d739bea69f42cf2b657",
       "version_major": 2,
       "version_minor": 0
      },
      "text/plain": [
       "Dropdown(description='product', options=('no', 'yes'), style=DescriptionStyle(description_width='150px'), valu…"
      ]
     },
     "metadata": {},
     "output_type": "display_data"
    },
    {
     "data": {
      "application/vnd.jupyter.widget-view+json": {
       "model_id": "c842e67be9d84b36af104ade57c2c7bb",
       "version_major": 2,
       "version_minor": 0
      },
      "text/plain": [
       "Dropdown(description='Month', options=(1, 2, 3, 4, 5, 6, 7, 8, 9, 10, 11, 12), style=DescriptionStyle(descript…"
      ]
     },
     "metadata": {},
     "output_type": "display_data"
    },
    {
     "data": {
      "application/vnd.jupyter.widget-view+json": {
       "model_id": "71d15e2b2a014fb3a2b2bd14c6dc864b",
       "version_major": 2,
       "version_minor": 0
      },
      "text/plain": [
       "Dropdown(description='length of subject', options=('long', 'short'), style=DescriptionStyle(description_width=…"
      ]
     },
     "metadata": {},
     "output_type": "display_data"
    },
    {
     "data": {
      "application/vnd.jupyter.widget-view+json": {
       "model_id": "234874505631403cb2f3b6747de80221",
       "version_major": 2,
       "version_minor": 0
      },
      "text/plain": [
       "FloatText(value=0.0, description='Sendings', style=DescriptionStyle(description_width='150px'))"
      ]
     },
     "metadata": {},
     "output_type": "display_data"
    },
    {
     "data": {
      "application/vnd.jupyter.widget-view+json": {
       "model_id": "d5610cc51de94b09bf7dfaccf168e1b7",
       "version_major": 2,
       "version_minor": 0
      },
      "text/plain": [
       "FloatText(value=0.0, description='letter_count', style=DescriptionStyle(description_width='150px'))"
      ]
     },
     "metadata": {},
     "output_type": "display_data"
    },
    {
     "data": {
      "application/vnd.jupyter.widget-view+json": {
       "model_id": "6e79f5a4b68d4ed18609cb9c32e3f6dd",
       "version_major": 2,
       "version_minor": 0
      },
      "text/plain": [
       "Button(button_style='success', description='Predict', style=ButtonStyle())"
      ]
     },
     "metadata": {},
     "output_type": "display_data"
    },
    {
     "data": {
      "application/vnd.jupyter.widget-view+json": {
       "model_id": "b9be4b8b2a694b049ac32c174f990e75",
       "version_major": 2,
       "version_minor": 0
      },
      "text/plain": [
       "Output()"
      ]
     },
     "metadata": {},
     "output_type": "display_data"
    }
   ],
   "source": [
    "categorical_cols = [\n",
    "     'Category name', 'Main vs REM', 'Personalization',\n",
    "    'Emoji', 'Urgency', 'Tone', 'Price or Discount',\n",
    "    'imperative ', 'product', 'Month','length of subject'\n",
    "]\n",
    "\n",
    "numeric_cols = ['Sendings', 'letter_count']\n",
    "\n",
    "# Run interactive predictor\n",
    "interactive_glm_predict(model_result, df, categorical_cols, numeric_cols)\n"
   ]
  },
  {
   "cell_type": "code",
   "execution_count": 34,
   "metadata": {},
   "outputs": [
    {
     "data": {
      "text/plain": [
       "Index(['Sent date', 'DD', 'Category name', 'Main vs REM', 'Sendings',\n",
       "       'OR clean %', 'length of subject', 'Personalization', 'Emoji',\n",
       "       'Urgency', 'Tone', 'Price or Discount', 'imperative ', 'product',\n",
       "       'letter_count', 'Month', 'opens', 'fails'],\n",
       "      dtype='object')"
      ]
     },
     "execution_count": 34,
     "metadata": {},
     "output_type": "execute_result"
    }
   ],
   "source": [
    "df.columns"
   ]
  },
  {
   "cell_type": "code",
   "execution_count": null,
   "metadata": {},
   "outputs": [],
   "source": []
  },
  {
   "cell_type": "code",
   "execution_count": null,
   "metadata": {},
   "outputs": [],
   "source": []
  }
 ],
 "metadata": {
  "kernelspec": {
   "display_name": "base",
   "language": "python",
   "name": "python3"
  },
  "language_info": {
   "codemirror_mode": {
    "name": "ipython",
    "version": 3
   },
   "file_extension": ".py",
   "mimetype": "text/x-python",
   "name": "python",
   "nbconvert_exporter": "python",
   "pygments_lexer": "ipython3",
   "version": "3.11.7"
  }
 },
 "nbformat": 4,
 "nbformat_minor": 2
}
