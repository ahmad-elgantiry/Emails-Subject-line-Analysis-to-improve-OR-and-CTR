{
 "cells": [
  {
   "cell_type": "code",
   "execution_count": 1,
   "id": "7d632c78",
   "metadata": {},
   "outputs": [],
   "source": [
    "#importing libraries \n",
    "import pandas as pd\n",
    "from sklearn.model_selection import train_test_split\n",
    "from sklearn.preprocessing import OneHotEncoder\n",
    "from sklearn.compose import ColumnTransformer\n",
    "from sklearn.pipeline import Pipeline\n",
    "from sklearn.linear_model import LinearRegression\n",
    "from sklearn.metrics import mean_squared_error, r2_score,mean_absolute_error\n",
    "import statsmodels.api as sm\n",
    "import matplotlib.pyplot as plt\n",
    "import numpy as np"
   ]
  },
  {
   "cell_type": "code",
   "execution_count": 2,
   "id": "2550d90d",
   "metadata": {},
   "outputs": [],
   "source": [
    "#r reading the data as a dataframe\n",
    "df = pd.read_csv(\"Model_Data.csv\")"
   ]
  },
  {
   "cell_type": "code",
   "execution_count": 3,
   "id": "55ca6d53",
   "metadata": {},
   "outputs": [],
   "source": [
    "columns_to_drop = [ \"translation\", \"CTR clean %\",\"Month\"]  \n",
    "df = df.drop(columns=columns_to_drop, errors='ignore')"
   ]
  },
  {
   "cell_type": "code",
   "execution_count": 4,
   "id": "510d85b6",
   "metadata": {},
   "outputs": [],
   "source": [
    "# Convert to datetime\n",
    "df['Sent_Date'] = pd.to_datetime(df['Sent_Date'], errors='coerce')\n",
    "\n",
    "# Create a Month column (numeric)\n",
    "df['Month'] = df['Sent_Date'].dt.month"
   ]
  },
  {
   "cell_type": "code",
   "execution_count": 5,
   "id": "70d1c6ed",
   "metadata": {},
   "outputs": [
    {
     "name": "stdout",
     "output_type": "stream",
     "text": [
      "<class 'pandas.core.frame.DataFrame'>\n",
      "RangeIndex: 1279 entries, 0 to 1278\n",
      "Data columns (total 17 columns):\n",
      " #   Column             Non-Null Count  Dtype         \n",
      "---  ------             --------------  -----         \n",
      " 0   Sent_Date          1279 non-null   datetime64[ns]\n",
      " 1   Day_of_week        1279 non-null   object        \n",
      " 2   Category_name      1279 non-null   object        \n",
      " 3   Main_Vs_REM        1279 non-null   object        \n",
      " 4   Subject            1279 non-null   object        \n",
      " 5   Sendings           1279 non-null   int64         \n",
      " 6   OR                 1279 non-null   float64       \n",
      " 7   Length_Of_subject  1279 non-null   int64         \n",
      " 8   Personalization    1279 non-null   int64         \n",
      " 9   Emoji              1279 non-null   int64         \n",
      " 10  Urgency            1279 non-null   int64         \n",
      " 11  Tone               1279 non-null   int64         \n",
      " 12  Price_or_Discount  1279 non-null   int64         \n",
      " 13  Imperative_Tone    1279 non-null   int64         \n",
      " 14  Product            1279 non-null   int64         \n",
      " 15  Letter_Count       1279 non-null   int64         \n",
      " 16  Month              1279 non-null   int32         \n",
      "dtypes: datetime64[ns](1), float64(1), int32(1), int64(10), object(4)\n",
      "memory usage: 165.0+ KB\n"
     ]
    }
   ],
   "source": [
    "df.info()"
   ]
  },
  {
   "cell_type": "code",
   "execution_count": 6,
   "id": "0e9a38f4",
   "metadata": {},
   "outputs": [],
   "source": [
    "categorical_columns = [\n",
    "    'Day_of_week',\n",
    "    'Category_name',\n",
    "    'Main_Vs_REM',\n",
    "    'Personalization',\n",
    "    'Emoji',\n",
    "    'Urgency',\n",
    "    'Tone',\n",
    "    'Price_or_Discount',\n",
    "    'Imperative_Tone ',\n",
    "    'Product',\n",
    "    'Length_Of_subject',\n",
    "    'Month',\n",
    "    \"Subject\"\n",
    "]\n",
    "\n",
    "for col in categorical_columns:\n",
    "    if col in df.columns:\n",
    "        df[col] = df[col].astype('category')\n",
    "    else:\n",
    "        print(f\"Warning: Column '{col}' not found in DataFrame.\")"
   ]
  },
  {
   "cell_type": "code",
   "execution_count": 7,
   "id": "ad0ab01b",
   "metadata": {},
   "outputs": [],
   "source": [
    "df.columns = df.columns.str.strip()"
   ]
  },
  {
   "cell_type": "code",
   "execution_count": 8,
   "id": "7473b8bc",
   "metadata": {},
   "outputs": [],
   "source": [
    "df = df.sort_values(\"Sent_Date\").reset_index(drop=True)"
   ]
  },
  {
   "cell_type": "code",
   "execution_count": null,
   "id": "cb1becbb",
   "metadata": {},
   "outputs": [],
   "source": []
  },
  {
   "cell_type": "code",
   "execution_count": 9,
   "id": "a0a2680e",
   "metadata": {},
   "outputs": [],
   "source": [
    "formula = (\n",
    "    \"OR ~ C(Day_of_week) + C(Category_name) + C(Main_Vs_REM) + \"\n",
    "    \"C(Personalization) + C(Emoji) + C(Urgency) + C(Tone) + \"\n",
    "    \"C(Price_or_Discount) + C(Imperative_Tone) + C(Product) + \"\n",
    "    \"C(Length_Of_subject) + C(Month) + Letter_Count + Sendings \"\n",
    ")"
   ]
  },
  {
   "cell_type": "code",
   "execution_count": 10,
   "id": "58ed7ea8",
   "metadata": {},
   "outputs": [
    {
     "name": "stdout",
     "output_type": "stream",
     "text": [
      "Train size: 1023, Test size: 256\n"
     ]
    }
   ],
   "source": [
    "train_df, test_df = train_test_split(\n",
    "    df,\n",
    "    test_size=0.2,\n",
    "    random_state=42,\n",
    ")\n",
    "\n",
    "\n",
    "print(f\"Train size: {len(train_df)}, Test size: {len(test_df)}\")"
   ]
  },
  {
   "cell_type": "code",
   "execution_count": 11,
   "id": "d8288de6",
   "metadata": {},
   "outputs": [
    {
     "name": "stderr",
     "output_type": "stream",
     "text": [
      "c:\\Users\\TOWER-PC\\anaconda3\\Lib\\site-packages\\statsmodels\\base\\model.py:607: ConvergenceWarning: Maximum Likelihood optimization failed to converge. Check mle_retvals\n",
      "  warnings.warn(\"Maximum Likelihood optimization failed to \"\n",
      "c:\\Users\\TOWER-PC\\anaconda3\\Lib\\site-packages\\statsmodels\\regression\\mixed_linear_model.py:2201: ConvergenceWarning: Retrying MixedLM optimization with lbfgs\n",
      "  warnings.warn(\n",
      "c:\\Users\\TOWER-PC\\anaconda3\\Lib\\site-packages\\statsmodels\\base\\model.py:607: ConvergenceWarning: Maximum Likelihood optimization failed to converge. Check mle_retvals\n",
      "  warnings.warn(\"Maximum Likelihood optimization failed to \"\n",
      "c:\\Users\\TOWER-PC\\anaconda3\\Lib\\site-packages\\statsmodels\\regression\\mixed_linear_model.py:2201: ConvergenceWarning: Retrying MixedLM optimization with cg\n",
      "  warnings.warn(\n"
     ]
    },
    {
     "name": "stdout",
     "output_type": "stream",
     "text": [
      "                   Mixed Linear Model Regression Results\n",
      "===========================================================================\n",
      "Model:                    MixedLM       Dependent Variable:       OR       \n",
      "No. Observations:         1023          Method:                   REML     \n",
      "No. Groups:               37            Scale:                    0.0008   \n",
      "Min. group size:          1             Log-Likelihood:           2063.3931\n",
      "Max. group size:          72            Converged:                No       \n",
      "Mean group size:          27.6                                             \n",
      "---------------------------------------------------------------------------\n",
      "                                Coef.  Std.Err.    z    P>|z| [0.025 0.975]\n",
      "---------------------------------------------------------------------------\n",
      "Intercept                        0.179    0.016  11.372 0.000  0.148  0.210\n",
      "C(Day_of_week)[T.Monday]        -0.003    0.010  -0.266 0.790 -0.023  0.018\n",
      "C(Day_of_week)[T.Saturday]      -0.011    0.007  -1.455 0.146 -0.025  0.004\n",
      "C(Day_of_week)[T.Sunday]        -0.005    0.005  -1.011 0.312 -0.015  0.005\n",
      "C(Day_of_week)[T.Thursday]      -0.012    0.008  -1.507 0.132 -0.027  0.004\n",
      "C(Day_of_week)[T.Tuesday]       -0.022    0.008  -2.800 0.005 -0.037 -0.007\n",
      "C(Day_of_week)[T.Wednesday]      0.018    0.005   3.683 0.000  0.009  0.028\n",
      "C(Category_name)[T.NL Interval]  0.011    0.013   0.857 0.391 -0.014  0.036\n",
      "C(Main_Vs_REM)[T.REM]            0.013    0.014   0.949 0.342 -0.014  0.040\n",
      "C(Personalization)[T.1]          0.010    0.017   0.564 0.573 -0.024  0.043\n",
      "C(Emoji)[T.1]                   -0.012    0.009  -1.281 0.200 -0.030  0.006\n",
      "C(Urgency)[T.1]                 -0.016    0.005  -3.340 0.001 -0.025 -0.006\n",
      "C(Tone)[T.1]                     0.003    0.007   0.456 0.648 -0.011  0.017\n",
      "C(Price_or_Discount)[T.1]       -0.018    0.005  -3.252 0.001 -0.029 -0.007\n",
      "C(Imperative_Tone)[T.1]         -0.024    0.008  -3.154 0.002 -0.039 -0.009\n",
      "C(Product)[T.1]                  0.007    0.007   1.096 0.273 -0.006  0.020\n",
      "C(Length_Of_subject)[T.1]        0.013    0.009   1.348 0.178 -0.006  0.031\n",
      "C(Month)[T.2]                   -0.010    0.005  -2.110 0.035 -0.020 -0.001\n",
      "C(Month)[T.3]                    0.002    0.005   0.484 0.628 -0.007  0.012\n",
      "C(Month)[T.4]                   -0.002    0.005  -0.345 0.730 -0.011  0.008\n",
      "C(Month)[T.5]                   -0.010    0.005  -2.056 0.040 -0.019 -0.000\n",
      "C(Month)[T.6]                   -0.013    0.005  -2.754 0.006 -0.023 -0.004\n",
      "C(Month)[T.7]                   -0.009    0.005  -1.864 0.062 -0.018  0.000\n",
      "C(Month)[T.8]                   -0.013    0.005  -2.725 0.006 -0.022 -0.004\n",
      "C(Month)[T.9]                   -0.012    0.005  -2.669 0.008 -0.022 -0.003\n",
      "C(Month)[T.10]                  -0.016    0.005  -3.447 0.001 -0.025 -0.007\n",
      "C(Month)[T.11]                  -0.016    0.005  -3.385 0.001 -0.025 -0.007\n",
      "C(Month)[T.12]                  -0.021    0.005  -4.435 0.000 -0.030 -0.012\n",
      "Letter_Count                    -0.001    0.000  -2.387 0.017 -0.002 -0.000\n",
      "Sendings                        -0.000    0.000 -15.101 0.000 -0.000 -0.000\n",
      "Group Var                        0.000    0.001                            \n",
      "===========================================================================\n",
      "\n"
     ]
    },
    {
     "name": "stderr",
     "output_type": "stream",
     "text": [
      "c:\\Users\\TOWER-PC\\anaconda3\\Lib\\site-packages\\statsmodels\\base\\model.py:607: ConvergenceWarning: Maximum Likelihood optimization failed to converge. Check mle_retvals\n",
      "  warnings.warn(\"Maximum Likelihood optimization failed to \"\n",
      "c:\\Users\\TOWER-PC\\anaconda3\\Lib\\site-packages\\statsmodels\\regression\\mixed_linear_model.py:2207: ConvergenceWarning: MixedLM optimization failed, trying a different optimizer may help.\n",
      "  warnings.warn(msg, ConvergenceWarning)\n",
      "c:\\Users\\TOWER-PC\\anaconda3\\Lib\\site-packages\\statsmodels\\regression\\mixed_linear_model.py:2219: ConvergenceWarning: Gradient optimization failed, |grad| = 3.787944\n",
      "  warnings.warn(msg, ConvergenceWarning)\n",
      "c:\\Users\\TOWER-PC\\anaconda3\\Lib\\site-packages\\statsmodels\\regression\\mixed_linear_model.py:2238: ConvergenceWarning: The MLE may be on the boundary of the parameter space.\n",
      "  warnings.warn(msg, ConvergenceWarning)\n"
     ]
    }
   ],
   "source": [
    "import statsmodels.formula.api as smf\n",
    "\n",
    "model = smf.mixedlm(\n",
    "    formula=formula,\n",
    "    data=train_df,\n",
    "    groups=train_df[\"Subject\"]\n",
    ")\n",
    "result = model.fit()\n",
    "print(result.summary())"
   ]
  },
  {
   "cell_type": "code",
   "execution_count": 12,
   "id": "c834fc2b",
   "metadata": {},
   "outputs": [],
   "source": [
    "import matplotlib.pyplot as plt\n",
    "import seaborn as sns\n",
    "\n",
    "# Residuals\n",
    "#resid = result.resid\n",
    "#fitted = result.fittedvalues\n",
    "\n",
    "# Plot residuals vs fitted\n",
    "#sns.scatterplot(x=fitted, y=resid)\n",
    "#plt.axhline(0, color='red', linestyle='--')\n",
    "#plt.title(\"Residuals vs Fitted Values\")\n",
    "#plt.xlabel(\"Fitted\")\n",
    "#plt.ylabel(\"Residuals\")\n",
    "#plt.show()\n",
    "\n",
    "# Residual distribution\n",
    "#sns.histplot(resid, kde=True)\n",
    "#plt.title(\"Residual Distribution\")\n",
    "#plt.show()\n"
   ]
  },
  {
   "cell_type": "code",
   "execution_count": 13,
   "id": "791c7824",
   "metadata": {},
   "outputs": [
    {
     "name": "stdout",
     "output_type": "stream",
     "text": [
      "Train RMSE: 0.0282, R²: 0.449\n",
      "Test RMSE: 0.0312, R²: 0.354\n"
     ]
    },
    {
     "data": {
      "text/plain": [
       "(0.03118685235758794, 0.35363960526801386)"
      ]
     },
     "execution_count": 13,
     "metadata": {},
     "output_type": "execute_result"
    }
   ],
   "source": [
    "# 3️⃣ Generate predictions on both train and test sets\n",
    "train_df[\"predicted\"] = result.predict(train_df)\n",
    "test_df[\"predicted\"]  = result.predict(test_df)\n",
    "\n",
    "# 4️⃣ Evaluate model performance\n",
    "def evaluate_performance(true, pred, label=\"\"):\n",
    "    rmse = np.sqrt(mean_squared_error(true, pred))\n",
    "    r2   = r2_score(true, pred)\n",
    "    print(f\"{label} RMSE: {rmse:.4f}, R²: {r2:.3f}\")\n",
    "    return rmse, r2\n",
    "\n",
    "evaluate_performance(train_df[\"OR\"], train_df[\"predicted\"], \"Train\")\n",
    "evaluate_performance(test_df[\"OR\"],  test_df[\"predicted\"],  \"Test\")"
   ]
  },
  {
   "cell_type": "code",
   "execution_count": 14,
   "id": "9da17888",
   "metadata": {},
   "outputs": [
    {
     "name": "stdout",
     "output_type": "stream",
     "text": [
      "Train metrics:\n",
      "RMSE: 0.0282\n",
      "MAE: 0.0201\n",
      "MAPE (%): 17.4813\n",
      "R²: 0.4487\n",
      "Adj R²: 0.4321\n",
      "Corr: 0.6701\n",
      "Bias: -0.0006\n",
      "\n",
      "Test metrics:\n",
      "RMSE: 0.0312\n",
      "MAE: 0.0223\n",
      "MAPE (%): 19.9967\n",
      "R²: 0.3536\n",
      "Adj R²: 0.2675\n",
      "Corr: 0.5978\n",
      "Bias: -0.0000\n"
     ]
    }
   ],
   "source": [
    "from sklearn.metrics import mean_squared_error, mean_absolute_error, r2_score\n",
    "import numpy as np\n",
    "\n",
    "# Predictions\n",
    "train_pred = result.predict(train_df)\n",
    "test_pred = result.predict(test_df)\n",
    "\n",
    "# True values\n",
    "y_train = train_df[\"OR\"]\n",
    "y_test = test_df[\"OR\"]\n",
    "\n",
    "# Compute metrics\n",
    "def regression_metrics(y_true, y_pred):\n",
    "    mse = mean_squared_error(y_true, y_pred)\n",
    "    rmse = np.sqrt(mse)\n",
    "    mae = mean_absolute_error(y_true, y_pred)\n",
    "    r2 = r2_score(y_true, y_pred)\n",
    "    corr = np.corrcoef(y_true, y_pred)[0,1]\n",
    "    bias = np.mean(y_pred - y_true)\n",
    "    mape = np.mean(np.abs((y_true - y_pred) / (y_true + 1e-8))) * 100  # avoid division by zero\n",
    "    adj_r2 = 1 - (1 - r2) * (len(y_true) - 1) / (len(y_true) - len(result.fe_params) - 1)\n",
    "    return {\n",
    "        \"RMSE\": rmse,\n",
    "        \"MAE\": mae,\n",
    "        \"MAPE (%)\": mape,\n",
    "        \"R²\": r2,\n",
    "        \"Adj R²\": adj_r2,\n",
    "        \"Corr\": corr,\n",
    "        \"Bias\": bias\n",
    "    }\n",
    "\n",
    "train_metrics = regression_metrics(y_train, train_pred)\n",
    "test_metrics = regression_metrics(y_test, test_pred)\n",
    "\n",
    "print(\"Train metrics:\")\n",
    "for k, v in train_metrics.items():\n",
    "    print(f\"{k}: {v:.4f}\")\n",
    "\n",
    "print(\"\\nTest metrics:\")\n",
    "for k, v in test_metrics.items():\n",
    "    print(f\"{k}: {v:.4f}\")"
   ]
  },
  {
   "cell_type": "code",
   "execution_count": 15,
   "id": "b7e0c057",
   "metadata": {},
   "outputs": [],
   "source": [
    "import statsmodels.formula.api as smf\n",
    "from sklearn.metrics import mean_squared_error, r2_score\n",
    "import numpy as np\n",
    "\n",
    "import numpy as np\n",
    "import pandas as pd\n",
    "\n",
    "# Set random seed for reproducibility\n",
    "np.random.seed(42)\n",
    "\n",
    "# 1️⃣ Temporal split (95% train, 5% test)\n",
    "split_date = df[\"Sent_Date\"].quantile(0.95)\n",
    "\n",
    "train_df = df[df[\"Sent_Date\"] <= split_date].copy()\n",
    "test_df  = df[df[\"Sent_Date\"] > split_date].copy()\n",
    "\n",
    "\n",
    "\n",
    "\n",
    "\n"
   ]
  },
  {
   "cell_type": "code",
   "execution_count": 16,
   "id": "b393e14c",
   "metadata": {},
   "outputs": [
    {
     "name": "stderr",
     "output_type": "stream",
     "text": [
      "C:\\Users\\TOWER-PC\\AppData\\Local\\Temp\\ipykernel_3052\\3156646944.py:1: FutureWarning: The default of observed=False is deprecated and will be changed to True in a future version of pandas. Pass observed=False to retain current behavior or observed=True to adopt the future default and silence this warning.\n",
      "  train_df = train_df.groupby(\"Subject\").filter(lambda g: len(g) > 1)\n"
     ]
    }
   ],
   "source": [
    "train_df = train_df.groupby(\"Subject\").filter(lambda g: len(g) > 1)\n"
   ]
  },
  {
   "cell_type": "code",
   "execution_count": 17,
   "id": "3b0fa349",
   "metadata": {},
   "outputs": [
    {
     "data": {
      "text/plain": [
       "0"
      ]
     },
     "execution_count": 17,
     "metadata": {},
     "output_type": "execute_result"
    }
   ],
   "source": [
    "train_df[\"Subject\"].value_counts().min()"
   ]
  },
  {
   "cell_type": "code",
   "execution_count": 18,
   "id": "41119d67",
   "metadata": {},
   "outputs": [
    {
     "data": {
      "text/plain": [
       "0"
      ]
     },
     "execution_count": 18,
     "metadata": {},
     "output_type": "execute_result"
    }
   ],
   "source": [
    "train_df[\"Subject\"].isna().sum()"
   ]
  },
  {
   "cell_type": "code",
   "execution_count": 19,
   "id": "244f497f",
   "metadata": {},
   "outputs": [
    {
     "name": "stdout",
     "output_type": "stream",
     "text": [
      "NaNs in Subject: 0\n",
      "Unique Subjects in train: 28\n",
      "Min group size (nonzero only): 0\n",
      "Subject\n",
      "Otroligt ✨ 3 XXL-format för 249 kr styck               84\n",
      "Dekorativ inredning för hemmet till de bästa priset    83\n",
      "Premiumtryck upp till 78% rabatt!                      83\n",
      "Personlig väggdekoration till fantastiska priser!      82\n",
      "✨ 3 Canvastavlor | 2 dagar | Upp till 54% rabatt!      73\n",
      "Name: count, dtype: int64\n"
     ]
    }
   ],
   "source": [
    "print(\"NaNs in Subject:\", train_df[\"Subject\"].isna().sum())\n",
    "print(\"Unique Subjects in train:\", train_df[\"Subject\"].nunique())\n",
    "print(\"Min group size (nonzero only):\", train_df[\"Subject\"].value_counts().min())\n",
    "print(train_df[\"Subject\"].value_counts().head())\n"
   ]
  },
  {
   "cell_type": "code",
   "execution_count": 20,
   "id": "17cfb78a",
   "metadata": {},
   "outputs": [
    {
     "name": "stderr",
     "output_type": "stream",
     "text": [
      "c:\\Users\\TOWER-PC\\anaconda3\\Lib\\site-packages\\statsmodels\\base\\model.py:607: ConvergenceWarning: Maximum Likelihood optimization failed to converge. Check mle_retvals\n",
      "  warnings.warn(\"Maximum Likelihood optimization failed to \"\n",
      "c:\\Users\\TOWER-PC\\anaconda3\\Lib\\site-packages\\statsmodels\\regression\\mixed_linear_model.py:2201: ConvergenceWarning: Retrying MixedLM optimization with lbfgs\n",
      "  warnings.warn(\n"
     ]
    },
    {
     "name": "stdout",
     "output_type": "stream",
     "text": [
      "                   Mixed Linear Model Regression Results\n",
      "===========================================================================\n",
      "Model:                    MixedLM       Dependent Variable:       OR       \n",
      "No. Observations:         1210          Method:                   REML     \n",
      "No. Groups:               28            Scale:                    0.0008   \n",
      "Min. group size:          2             Log-Likelihood:           2430.6062\n",
      "Max. group size:          84            Converged:                Yes      \n",
      "Mean group size:          43.2                                             \n",
      "---------------------------------------------------------------------------\n",
      "                                Coef.  Std.Err.    z    P>|z| [0.025 0.975]\n",
      "---------------------------------------------------------------------------\n",
      "Intercept                        0.169    0.017   9.809 0.000  0.135  0.202\n",
      "C(Day_of_week)[T.Monday]        -0.005    0.009  -0.543 0.587 -0.023  0.013\n",
      "C(Day_of_week)[T.Saturday]      -0.014    0.007  -1.849 0.064 -0.028  0.001\n",
      "C(Day_of_week)[T.Sunday]        -0.006    0.005  -1.229 0.219 -0.016  0.004\n",
      "C(Day_of_week)[T.Thursday]      -0.009    0.008  -1.182 0.237 -0.025  0.006\n",
      "C(Day_of_week)[T.Tuesday]       -0.016    0.007  -2.288 0.022 -0.030 -0.002\n",
      "C(Day_of_week)[T.Wednesday]      0.011    0.005   2.268 0.023  0.001  0.020\n",
      "C(Category_name)[T.NL Interval]  0.030    0.014   2.096 0.036  0.002  0.057\n",
      "C(Main_Vs_REM)[T.REM]            0.018    0.018   1.033 0.302 -0.016  0.053\n",
      "C(Personalization)[T.1]         -0.023    0.027  -0.859 0.390 -0.076  0.030\n",
      "C(Emoji)[T.1]                   -0.008    0.010  -0.786 0.432 -0.027  0.012\n",
      "C(Urgency)[T.1]                 -0.018    0.005  -3.598 0.000 -0.028 -0.008\n",
      "C(Tone)[T.1]                     0.002    0.008   0.214 0.831 -0.014  0.017\n",
      "C(Price_or_Discount)[T.1]       -0.015    0.006  -2.582 0.010 -0.027 -0.004\n",
      "C(Imperative_Tone)[T.1]         -0.019    0.008  -2.264 0.024 -0.035 -0.003\n",
      "C(Product)[T.1]                  0.005    0.007   0.620 0.535 -0.010  0.019\n",
      "C(Length_Of_subject)[T.1]        0.017    0.010   1.649 0.099 -0.003  0.037\n",
      "C(Month)[T.2]                   -0.010    0.005  -2.303 0.021 -0.019 -0.002\n",
      "C(Month)[T.3]                   -0.001    0.004  -0.300 0.764 -0.010  0.007\n",
      "C(Month)[T.4]                   -0.002    0.004  -0.478 0.633 -0.011  0.007\n",
      "C(Month)[T.5]                   -0.011    0.004  -2.623 0.009 -0.020 -0.003\n",
      "C(Month)[T.6]                   -0.017    0.004  -3.964 0.000 -0.026 -0.009\n",
      "C(Month)[T.7]                   -0.011    0.004  -2.696 0.007 -0.020 -0.003\n",
      "C(Month)[T.8]                   -0.014    0.004  -3.323 0.001 -0.023 -0.006\n",
      "C(Month)[T.9]                   -0.014    0.004  -3.291 0.001 -0.023 -0.006\n",
      "C(Month)[T.10]                  -0.015    0.004  -3.538 0.000 -0.024 -0.007\n",
      "C(Month)[T.11]                  -0.017    0.004  -4.057 0.000 -0.026 -0.009\n",
      "C(Month)[T.12]                  -0.015    0.005  -2.991 0.003 -0.025 -0.005\n",
      "Letter_Count                    -0.001    0.000  -2.386 0.017 -0.002 -0.000\n",
      "Sendings                        -0.000    0.000 -16.164 0.000 -0.000 -0.000\n",
      "Group Var                        0.000    0.001                            \n",
      "===========================================================================\n",
      "\n"
     ]
    },
    {
     "name": "stderr",
     "output_type": "stream",
     "text": [
      "c:\\Users\\TOWER-PC\\anaconda3\\Lib\\site-packages\\statsmodels\\regression\\mixed_linear_model.py:2238: ConvergenceWarning: The MLE may be on the boundary of the parameter space.\n",
      "  warnings.warn(msg, ConvergenceWarning)\n"
     ]
    }
   ],
   "source": [
    "model = smf.mixedlm(\n",
    "    formula=formula,\n",
    "    data=train_df,\n",
    "    groups=train_df[\"Subject\"]\n",
    ")\n",
    "result = model.fit()\n",
    "print(result.summary())"
   ]
  },
  {
   "cell_type": "code",
   "execution_count": 21,
   "id": "b59be0a4",
   "metadata": {},
   "outputs": [
    {
     "name": "stdout",
     "output_type": "stream",
     "text": [
      "Train RMSE: 0.0290, R²: 0.417\n",
      "Test RMSE: 0.0242, R²: 0.451\n"
     ]
    },
    {
     "data": {
      "text/plain": [
       "(0.02420632177590633, 0.45146276030373655)"
      ]
     },
     "execution_count": 21,
     "metadata": {},
     "output_type": "execute_result"
    }
   ],
   "source": [
    "# 3️⃣ Generate predictions on both train and test sets\n",
    "train_df[\"predicted\"] = result.predict(train_df)\n",
    "test_df[\"predicted\"]  = result.predict(test_df)\n",
    "\n",
    "# 4️⃣ Evaluate model performance\n",
    "def evaluate_performance(true, pred, label=\"\"):\n",
    "    rmse = np.sqrt(mean_squared_error(true, pred))\n",
    "    r2   = r2_score(true, pred)\n",
    "    print(f\"{label} RMSE: {rmse:.4f}, R²: {r2:.3f}\")\n",
    "    return rmse, r2\n",
    "\n",
    "evaluate_performance(train_df[\"OR\"], train_df[\"predicted\"], \"Train\")\n",
    "evaluate_performance(test_df[\"OR\"],  test_df[\"predicted\"],  \"Test\")"
   ]
  },
  {
   "cell_type": "code",
   "execution_count": 22,
   "id": "b6b24e0e",
   "metadata": {},
   "outputs": [
    {
     "name": "stdout",
     "output_type": "stream",
     "text": [
      "Train metrics:\n",
      "RMSE: 0.0290\n",
      "MAE: 0.0204\n",
      "MAPE (%): 17.7164\n",
      "R²: 0.4169\n",
      "Adj R²: 0.4020\n",
      "Corr: 0.6460\n",
      "Bias: -0.0006\n",
      "\n",
      "Test metrics:\n",
      "RMSE: 0.0242\n",
      "MAE: 0.0195\n",
      "MAPE (%): 21.7673\n",
      "R²: 0.4515\n",
      "Adj R²: -0.0794\n",
      "Corr: 0.7438\n",
      "Bias: 0.0088\n"
     ]
    }
   ],
   "source": [
    "from sklearn.metrics import mean_squared_error, mean_absolute_error, r2_score\n",
    "import numpy as np\n",
    "\n",
    "# Predictions\n",
    "train_pred = result.predict(train_df)\n",
    "test_pred = result.predict(test_df)\n",
    "\n",
    "# True values\n",
    "y_train = train_df[\"OR\"]\n",
    "y_test = test_df[\"OR\"]\n",
    "\n",
    "# Compute metrics\n",
    "def regression_metrics(y_true, y_pred):\n",
    "    mse = mean_squared_error(y_true, y_pred)\n",
    "    rmse = np.sqrt(mse)\n",
    "    mae = mean_absolute_error(y_true, y_pred)\n",
    "    r2 = r2_score(y_true, y_pred)\n",
    "    corr = np.corrcoef(y_true, y_pred)[0,1]\n",
    "    bias = np.mean(y_pred - y_true)\n",
    "    mape = np.mean(np.abs((y_true - y_pred) / (y_true + 1e-8))) * 100  # avoid division by zero\n",
    "    adj_r2 = 1 - (1 - r2) * (len(y_true) - 1) / (len(y_true) - len(result.fe_params) - 1)\n",
    "    return {\n",
    "        \"RMSE\": rmse,\n",
    "        \"MAE\": mae,\n",
    "        \"MAPE (%)\": mape,\n",
    "        \"R²\": r2,\n",
    "        \"Adj R²\": adj_r2,\n",
    "        \"Corr\": corr,\n",
    "        \"Bias\": bias\n",
    "    }\n",
    "\n",
    "train_metrics = regression_metrics(y_train, train_pred)\n",
    "test_metrics = regression_metrics(y_test, test_pred)\n",
    "\n",
    "print(\"Train metrics:\")\n",
    "for k, v in train_metrics.items():\n",
    "    print(f\"{k}: {v:.4f}\")\n",
    "\n",
    "print(\"\\nTest metrics:\")\n",
    "for k, v in test_metrics.items():\n",
    "    print(f\"{k}: {v:.4f}\")\n"
   ]
  },
  {
   "cell_type": "code",
   "execution_count": 23,
   "id": "01b93108",
   "metadata": {},
   "outputs": [
    {
     "data": {
      "image/png": "[encoded data removed]",
      "text/plain": [
       "<Figure size 640x480 with 1 Axes>"
      ]
     },
     "metadata": {},
     "output_type": "display_data"
    }
   ],
   "source": [
    "sns.scatterplot(x=y_test, y=test_pred)\n",
    "plt.plot([0, 1], [0, 1], 'r--', label='Perfect Prediction')\n",
    "\n",
    "# Dynamically set axis limits based on data\n",
    "min_val = min(y_test.min(), test_pred.min()) * 0.9\n",
    "max_val = max(y_test.max(), test_pred.max()) * 1.1\n",
    "plt.xlim(min_val, max_val)\n",
    "plt.ylim(min_val, max_val)\n",
    "\n",
    "plt.xlabel(\"Actual Open Rate\")\n",
    "plt.ylabel(\"Predicted Open Rate\")\n",
    "plt.title(\"Actual vs Predicted (Test Set)\")\n",
    "plt.legend()\n",
    "plt.show()\n"
   ]
  },
  {
   "cell_type": "code",
   "execution_count": 24,
   "id": "52c52ab7",
   "metadata": {},
   "outputs": [],
   "source": [
    "import pandas as pd\n",
    "\n",
    "def predict_open_rate(model_result, new_data):\n",
    "    \"\"\"\n",
    "    Predict open rate (OR) using a fitted MixedLM model and new input features.\n",
    "\n",
    "    Parameters\n",
    "    ----------\n",
    "    model_result : statsmodels.regression.mixed_linear_model.MixedLMResults\n",
    "        The fitted mixed-effects model.\n",
    "    new_data : dict or pd.DataFrame\n",
    "        A dictionary (single observation) or DataFrame of new inputs.\n",
    "\n",
    "    Returns\n",
    "    -------\n",
    "    predictions : np.ndarray\n",
    "        Predicted open rates.\n",
    "    \"\"\"\n",
    "    # Convert dict input to DataFrame if needed\n",
    "    if isinstance(new_data, dict):\n",
    "        new_data = pd.DataFrame([new_data])\n",
    "\n",
    "    # Ensure all categorical variables are treated as categories\n",
    "\n",
    "\n",
    "    # Use the trained model to predict\n",
    "    preds = model_result.predict(new_data)\n",
    "    return preds\n"
   ]
  },
  {
   "cell_type": "code",
   "execution_count": 25,
   "id": "6918bf15",
   "metadata": {},
   "outputs": [
    {
     "name": "stdout",
     "output_type": "stream",
     "text": [
      "Predicted Open Rate: 0.072\n"
     ]
    }
   ],
   "source": [
    "# Example new subject line (replace with your real values)\n",
    "new_subject = {\n",
    "    \"Day_of_week\": \"Saturday\",\n",
    "    \"Category_name\": \"NL Final\",\n",
    "    \"Main_Vs_REM\": \"MAIN\",\n",
    "    \"Personalization\": 1,\n",
    "    \"Emoji\": 1,\n",
    "    \"Urgency\": 1,\n",
    "    \"Tone\": 1,\n",
    "    \"Price_or_Discount\": 1,\n",
    "    \"Imperative_Tone\": 1,\n",
    "    \"Product\": 1,\n",
    "    \"Length_Of_subject\": 0,\n",
    "    \"Month\": 1,\n",
    "    \"Letter_Count\": 6,\n",
    "    \"Sendings\": 500\n",
    "}\n",
    "\n",
    "# Predict open rate\n",
    "predicted_or = predict_open_rate(result, new_subject)\n",
    "print(f\"Predicted Open Rate: {predicted_or[0]:.3f}\")\n"
   ]
  },
  {
   "cell_type": "code",
   "execution_count": 26,
   "id": "bd8cb337",
   "metadata": {},
   "outputs": [
    {
     "name": "stdout",
     "output_type": "stream",
     "text": [
      "<class 'pandas.core.frame.DataFrame'>\n",
      "Index: 1210 entries, 0 to 1216\n",
      "Data columns (total 18 columns):\n",
      " #   Column             Non-Null Count  Dtype         \n",
      "---  ------             --------------  -----         \n",
      " 0   Sent_Date          1210 non-null   datetime64[ns]\n",
      " 1   Day_of_week        1210 non-null   category      \n",
      " 2   Category_name      1210 non-null   category      \n",
      " 3   Main_Vs_REM        1210 non-null   category      \n",
      " 4   Subject            1210 non-null   category      \n",
      " 5   Sendings           1210 non-null   int64         \n",
      " 6   OR                 1210 non-null   float64       \n",
      " 7   Length_Of_subject  1210 non-null   category      \n",
      " 8   Personalization    1210 non-null   category      \n",
      " 9   Emoji              1210 non-null   category      \n",
      " 10  Urgency            1210 non-null   category      \n",
      " 11  Tone               1210 non-null   category      \n",
      " 12  Price_or_Discount  1210 non-null   category      \n",
      " 13  Imperative_Tone    1210 non-null   category      \n",
      " 14  Product            1210 non-null   category      \n",
      " 15  Letter_Count       1210 non-null   int64         \n",
      " 16  Month              1210 non-null   category      \n",
      " 17  predicted          1210 non-null   float64       \n",
      "dtypes: category(13), datetime64[ns](1), float64(2), int64(2)\n",
      "memory usage: 75.3 KB\n"
     ]
    }
   ],
   "source": [
    "train_df.info()"
   ]
  },
  {
   "cell_type": "code",
   "execution_count": 27,
   "id": "0154fcba",
   "metadata": {},
   "outputs": [],
   "source": [
    "import pandas as pd\n",
    "\n",
    "def interactive_predict_open_rate(model_result, train_df):\n",
    "    \"\"\"\n",
    "    Interactively ask the user for input values for each feature and\n",
    "    predict the open rate (OR) using the trained MixedLM model.\n",
    "    \"\"\"\n",
    "\n",
    "    print(\"\\n📬 Interactive Email Open Rate Predictor\")\n",
    "    print(\"Please enter/select values for each variable:\\n\")\n",
    "\n",
    "    input_data = {}\n",
    "\n",
    "    # Loop through each column except target or group columns\n",
    "    exclude_cols = [\"OR\", \"Subject\", \"Sent_Date\"]\n",
    "    for col in train_df.columns:\n",
    "        if col in exclude_cols:\n",
    "            continue\n",
    "\n",
    "        # Get unique values if categorical\n",
    "        uniques = train_df[col].dropna().unique()\n",
    "\n",
    "        # If the column is categorical (string or few unique values)\n",
    "        if train_df[col].dtype == \"object\" or len(uniques) < 15:\n",
    "            print(f\"\\n➡️ {col} — choose one of the following:\")\n",
    "            for i, val in enumerate(uniques):\n",
    "                print(f\"   {i+1}. {val}\")\n",
    "            choice = input(f\"Select 1–{len(uniques)} or type your own value: \")\n",
    "            try:\n",
    "                choice_idx = int(choice) - 1\n",
    "                if 0 <= choice_idx < len(uniques):\n",
    "                    value = uniques[choice_idx]\n",
    "                else:\n",
    "                    value = choice\n",
    "            except:\n",
    "                value = choice\n",
    "            input_data[col] = value\n",
    "\n",
    "        # If numeric\n",
    "        else:\n",
    "            example_val = round(train_df[col].mean(), 3)\n",
    "            value = input(f\"\\n➡️ {col} (numeric, e.g. {example_val}): \")\n",
    "            try:\n",
    "                value = float(value)\n",
    "            except:\n",
    "                value = example_val\n",
    "            input_data[col] = value\n",
    "\n",
    "    # Convert to DataFrame\n",
    "    new_data = pd.DataFrame([input_data])\n",
    "\n",
    "    # Predict using model\n",
    "    pred = model_result.predict(new_data)[0]\n",
    "\n",
    "    print(\"\\n🎯 Predicted Open Rate (OR): {:.2%}\".format(pred))\n",
    "    return pred, new_data\n"
   ]
  },
  {
   "cell_type": "code",
   "execution_count": 29,
   "id": "6793f900",
   "metadata": {},
   "outputs": [],
   "source": [
    "import streamlit as st\n",
    "import pandas as pd\n",
    "import numpy as np\n",
    "\n",
    "def run_predictor(model_result, train_df):\n",
    "    st.title(\"📬 Email Open Rate Predictor (Mixed Effects Model)\")\n",
    "\n",
    "    st.markdown(\"\"\"\n",
    "    This tool predicts the **expected open rate (OR)** for a new email subject line \n",
    "    based on historical data and a trained mixed-effects model.\n",
    "    \"\"\")\n",
    "\n",
    "    # --- Prepare inputs ---\n",
    "    exclude_cols = [\"OR\", \"Subject\", \"Sent_Date\"]\n",
    "    input_data = {}\n",
    "\n",
    "    st.sidebar.header(\"Set Input Features\")\n",
    "\n",
    "    for col in train_df.columns:\n",
    "        if col in exclude_cols:\n",
    "            continue\n",
    "\n",
    "        uniques = train_df[col].dropna().unique()\n",
    "\n",
    "        # Categorical columns\n",
    "        if train_df[col].dtype == \"object\" or len(uniques) < 15:\n",
    "            choice = st.sidebar.selectbox(f\"{col}\", options=list(uniques))\n",
    "            input_data[col] = choice\n",
    "\n",
    "        # Numeric columns\n",
    "        else:\n",
    "            val = st.sidebar.number_input(\n",
    "                f\"{col}\",\n",
    "                min_value=float(train_df[col].min()),\n",
    "                max_value=float(train_df[col].max()),\n",
    "                value=float(train_df[col].mean())\n",
    "            )\n",
    "            input_data[col] = val\n",
    "\n",
    "    # --- Predict button ---\n",
    "    if st.button(\"🔮 Predict Open Rate\"):\n",
    "        new_data = pd.DataFrame([input_data])\n",
    "        pred = model_result.predict(new_data)[0]\n",
    "        st.success(f\"### 🎯 Predicted Open Rate: **{pred:.2%}**\")\n",
    "\n",
    "        with st.expander(\"See input details\"):\n",
    "            st.write(new_data)\n",
    "\n",
    "\n"
   ]
  },
  {
   "cell_type": "code",
   "execution_count": 30,
   "id": "fa26dae6",
   "metadata": {},
   "outputs": [],
   "source": [
    "import pandas as pd\n",
    "from ipywidgets import interact, Dropdown, IntSlider, FloatSlider, fixed\n",
    "import ipywidgets as widgets\n",
    "\n",
    "def interactive_open_rate_predictor(model_result, train_df):\n",
    "    \"\"\"\n",
    "    Interactive widget to predict open rate for a new email subject line\n",
    "    using a fitted MixedLM model and category options automatically derived from train_df.\n",
    "    \"\"\"\n",
    "\n",
    "    # Identify categorical and numeric columns\n",
    "    categorical_cols = [\n",
    "        \"Day_of_week\", \"Category_name\", \"Main_Vs_REM\", \"Personalization\",\n",
    "        \"Emoji\", \"Urgency\", \"Tone\", \"Price_or_Discount\", \"Imperative_Tone\",\n",
    "        \"Product\", \"Length_Of_subject\", \"Month\"\n",
    "    ]\n",
    "    numeric_cols = [\"Letter_Count\", \"Sendings\"]\n",
    "\n",
    "    # Automatically get unique values from training data\n",
    "    cat_options = {}\n",
    "    for col in categorical_cols:\n",
    "        if col in train_df.columns:\n",
    "            vals = sorted(train_df[col].dropna().unique().tolist())\n",
    "            cat_options[col] = vals if len(vals) > 0 else [\"Unknown\"]\n",
    "\n",
    "    # Define the prediction function for the interactive widget\n",
    "    def _predict(\n",
    "        Day_of_week,\n",
    "        Category_name,\n",
    "        Main_Vs_REM,\n",
    "        Personalization,\n",
    "        Emoji,\n",
    "        Urgency,\n",
    "        Tone,\n",
    "        Price_or_Discount,\n",
    "        Imperative_Tone,\n",
    "        Product,\n",
    "        Length_Of_subject,\n",
    "        Month,\n",
    "        Letter_Count,\n",
    "        Sendings\n",
    "    ):\n",
    "        # Prepare input as DataFrame\n",
    "        new_data = pd.DataFrame([{\n",
    "            \"Day_of_week\": Day_of_week,\n",
    "            \"Category_name\": Category_name,\n",
    "            \"Main_Vs_REM\": Main_Vs_REM,\n",
    "            \"Personalization\": Personalization,\n",
    "            \"Emoji\": Emoji,\n",
    "            \"Urgency\": Urgency,\n",
    "            \"Tone\": Tone,\n",
    "            \"Price_or_Discount\": Price_or_Discount,\n",
    "            \"Imperative_Tone\": Imperative_Tone,\n",
    "            \"Product\": Product,\n",
    "            \"Length_Of_subject\": Length_Of_subject,\n",
    "            \"Month\": Month,\n",
    "            \"Letter_Count\": Letter_Count,\n",
    "            \"Sendings\": Sendings\n",
    "        }])\n",
    "\n",
    "        # Cast categorical columns properly\n",
    "        for col in categorical_cols:\n",
    "            if col in new_data.columns:\n",
    "                new_data[col] = new_data[col].astype(\"category\")\n",
    "\n",
    "        # Predict\n",
    "        pred = model_result.predict(new_data)[0]\n",
    "        print(f\"\\n📧 Predicted Open Rate: {pred:.3f} ({pred*100:.1f}%)\")\n",
    "\n",
    "    # Build interactive widget\n",
    "    interact(\n",
    "        _predict,\n",
    "        Day_of_week=Dropdown(options=cat_options.get(\"Day_of_week\", [\"Monday\"]), description=\"Day\"),\n",
    "        Category_name=Dropdown(options=cat_options.get(\"Category_name\", [\"Promo\"]), description=\"Category\"),\n",
    "        Main_Vs_REM=Dropdown(options=cat_options.get(\"Main_Vs_REM\", [\"Main\", \"REM\"]), description=\"Main/REM\"),\n",
    "        Personalization=Dropdown(options=cat_options.get(\"Personalization\", [0, 1]), description=\"Personalization\"),\n",
    "        Emoji=Dropdown(options=cat_options.get(\"Emoji\", [0, 1]), description=\"Emoji\"),\n",
    "        Urgency=Dropdown(options=cat_options.get(\"Urgency\", [0, 1]), description=\"Urgency\"),\n",
    "        Tone=Dropdown(options=cat_options.get(\"Tone\", [0, 1]), description=\"Tone\"),\n",
    "        Price_or_Discount=Dropdown(options=cat_options.get(\"Price_or_Discount\", [0, 1]), description=\"Price/Discount\"),\n",
    "        Imperative_Tone=Dropdown(options=cat_options.get(\"Imperative_Tone\", [0, 1]), description=\"Imperative Tone\"),\n",
    "        Product=Dropdown(options=cat_options.get(\"Product\", [\"Canvas\"]), description=\"Product\"),\n",
    "        Length_Of_subject=Dropdown(options=cat_options.get(\"Length_Of_subject\", [\"Medium\"]), description=\"Length\"),\n",
    "        Month=Dropdown(options=cat_options.get(\"Month\", [\"October\"]), description=\"Month\"),\n",
    "        Letter_Count=IntSlider(\n",
    "            value=int(train_df[\"Letter_Count\"].mean() if \"Letter_Count\" in train_df else 40),\n",
    "            min=10, max=100, step=1, description=\"Letter Count\"\n",
    "        ),\n",
    "        Sendings=IntSlider(\n",
    "            value=int(train_df[\"Sendings\"].mean() if \"Sendings\" in train_df else 3000),\n",
    "            min=100, max=10000, step=100, description=\"Sendings\"\n",
    "        )\n",
    "    )\n"
   ]
  },
  {
   "cell_type": "code",
   "execution_count": 31,
   "id": "97ec81c1",
   "metadata": {},
   "outputs": [
    {
     "data": {
      "application/vnd.jupyter.widget-view+json": {
       "model_id": "f041aeafb9754c7ab7f33e983c62e68e",
       "version_major": 2,
       "version_minor": 0
      },
      "text/plain": [
       "interactive(children=(Dropdown(description='Day', options=('Friday', 'Monday', 'Saturday', 'Sunday', 'Thursday…"
      ]
     },
     "metadata": {},
     "output_type": "display_data"
    }
   ],
   "source": [
    "interactive_open_rate_predictor(result, train_df)"
   ]
  }
 ],
 "metadata": {
  "kernelspec": {
   "display_name": "base",
   "language": "python",
   "name": "python3"
  },
  "language_info": {
   "codemirror_mode": {
    "name": "ipython",
    "version": 3
   },
   "file_extension": ".py",
   "mimetype": "text/x-python",
   "name": "python",
   "nbconvert_exporter": "python",
   "pygments_lexer": "ipython3",
   "version": "3.11.7"
  }
 },
 "nbformat": 4,
 "nbformat_minor": 5
}
