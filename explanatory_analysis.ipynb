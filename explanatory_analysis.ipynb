{
 "cells": [
  {
   "cell_type": "markdown",
   "metadata": {},
   "source": [
    "### Data explanatory analysis\n",
    "I will focus in exploring factors which affect  OR%   and CTR%\n",
    "I will try to find the best emails subject lines in terms of OR%  and CTR%"
   ]
  },
  {
   "cell_type": "code",
   "execution_count": 1,
   "metadata": {},
   "outputs": [
    {
     "name": "stdout",
     "output_type": "stream",
     "text": [
      "Requirement already satisfied: openpyxl in c:\\users\\tower-pc\\anaconda3\\lib\\site-packages (3.0.10)\n",
      "Requirement already satisfied: et_xmlfile in c:\\users\\tower-pc\\anaconda3\\lib\\site-packages (from openpyxl) (1.1.0)\n"
     ]
    }
   ],
   "source": [
    "# a code to open excel files as a dataframe \n",
    "!pip install openpyxl"
   ]
  },
  {
   "cell_type": "code",
   "execution_count": 2,
   "metadata": {},
   "outputs": [],
   "source": [
    "# importing libraries\n",
    "import pandas as pd\n",
    "import numpy as np\n",
    "import matplotlib.pyplot as plt\n",
    "import seaborn as sns\n",
    "import warnings\n",
    "warnings.filterwarnings('ignore')\n",
    "import re\n",
    "%matplotlib inline\n"
   ]
  },
  {
   "cell_type": "code",
   "execution_count": 3,
   "metadata": {},
   "outputs": [],
   "source": [
    "# reading excel file \n",
    "df=pd.read_excel(\"Promotional_emails_subject lines.xlsx\")"
   ]
  },
  {
   "cell_type": "code",
   "execution_count": 4,
   "metadata": {},
   "outputs": [
    {
     "data": {
      "text/html": [
       "<div>\n",
       "<style scoped>\n",
       "    .dataframe tbody tr th:only-of-type {\n",
       "        vertical-align: middle;\n",
       "    }\n",
       "\n",
       "    .dataframe tbody tr th {\n",
       "        vertical-align: top;\n",
       "    }\n",
       "\n",
       "    .dataframe thead th {\n",
       "        text-align: right;\n",
       "    }\n",
       "</style>\n",
       "<table border=\"1\" class=\"dataframe\">\n",
       "  <thead>\n",
       "    <tr style=\"text-align: right;\">\n",
       "      <th></th>\n",
       "      <th>Sent date</th>\n",
       "      <th>DD</th>\n",
       "      <th>Category name</th>\n",
       "      <th>Main vs REM</th>\n",
       "      <th>Subject</th>\n",
       "      <th>Sendings</th>\n",
       "      <th>OR clean %</th>\n",
       "      <th>CTR clean %</th>\n",
       "    </tr>\n",
       "  </thead>\n",
       "  <tbody>\n",
       "    <tr>\n",
       "      <th>0</th>\n",
       "      <td>2024-11-01</td>\n",
       "      <td>Wednesday</td>\n",
       "      <td>NL Interval</td>\n",
       "      <td>MAIN</td>\n",
       "      <td>Premiumtryck upp till 78% rabatt!</td>\n",
       "      <td>333</td>\n",
       "      <td>0.2342</td>\n",
       "      <td>0.3462</td>\n",
       "    </tr>\n",
       "    <tr>\n",
       "      <th>1</th>\n",
       "      <td>2024-08-02</td>\n",
       "      <td>Wednesday</td>\n",
       "      <td>NL Interval</td>\n",
       "      <td>MAIN</td>\n",
       "      <td>Dekorativ inredning för hemmet till de bästa p...</td>\n",
       "      <td>246</td>\n",
       "      <td>0.2927</td>\n",
       "      <td>0.3333</td>\n",
       "    </tr>\n",
       "  </tbody>\n",
       "</table>\n",
       "</div>"
      ],
      "text/plain": [
       "   Sent date         DD Category name Main vs REM  \\\n",
       "0 2024-11-01  Wednesday   NL Interval        MAIN   \n",
       "1 2024-08-02  Wednesday   NL Interval        MAIN   \n",
       "\n",
       "                                             Subject  Sendings  OR clean %  \\\n",
       "0                  Premiumtryck upp till 78% rabatt!       333      0.2342   \n",
       "1  Dekorativ inredning för hemmet till de bästa p...       246      0.2927   \n",
       "\n",
       "   CTR clean %  \n",
       "0       0.3462  \n",
       "1       0.3333  "
      ]
     },
     "execution_count": 4,
     "metadata": {},
     "output_type": "execute_result"
    }
   ],
   "source": [
    "df.head(2)"
   ]
  },
  {
   "cell_type": "code",
   "execution_count": 5,
   "metadata": {},
   "outputs": [
    {
     "name": "stdout",
     "output_type": "stream",
     "text": [
      "<class 'pandas.core.frame.DataFrame'>\n",
      "RangeIndex: 1279 entries, 0 to 1278\n",
      "Data columns (total 8 columns):\n",
      " #   Column         Non-Null Count  Dtype         \n",
      "---  ------         --------------  -----         \n",
      " 0   Sent date      1279 non-null   datetime64[ns]\n",
      " 1   DD             1279 non-null   object        \n",
      " 2   Category name  1279 non-null   object        \n",
      " 3   Main vs REM    1279 non-null   object        \n",
      " 4   Subject        1279 non-null   object        \n",
      " 5   Sendings       1279 non-null   int64         \n",
      " 6   OR clean %     1279 non-null   float64       \n",
      " 7   CTR clean %    1279 non-null   float64       \n",
      "dtypes: datetime64[ns](1), float64(2), int64(1), object(4)\n",
      "memory usage: 80.1+ KB\n"
     ]
    }
   ],
   "source": [
    "df.info()"
   ]
  },
  {
   "cell_type": "code",
   "execution_count": 6,
   "metadata": {},
   "outputs": [
    {
     "data": {
      "text/html": [
       "<div>\n",
       "<style scoped>\n",
       "    .dataframe tbody tr th:only-of-type {\n",
       "        vertical-align: middle;\n",
       "    }\n",
       "\n",
       "    .dataframe tbody tr th {\n",
       "        vertical-align: top;\n",
       "    }\n",
       "\n",
       "    .dataframe thead th {\n",
       "        text-align: right;\n",
       "    }\n",
       "</style>\n",
       "<table border=\"1\" class=\"dataframe\">\n",
       "  <thead>\n",
       "    <tr style=\"text-align: right;\">\n",
       "      <th></th>\n",
       "      <th>Subject</th>\n",
       "      <th>count</th>\n",
       "    </tr>\n",
       "  </thead>\n",
       "  <tbody>\n",
       "    <tr>\n",
       "      <th>0</th>\n",
       "      <td>Premiumtryck upp till 78% rabatt!</td>\n",
       "      <td>86</td>\n",
       "    </tr>\n",
       "    <tr>\n",
       "      <th>1</th>\n",
       "      <td>Dekorativ inredning för hemmet till de bästa p...</td>\n",
       "      <td>85</td>\n",
       "    </tr>\n",
       "    <tr>\n",
       "      <th>2</th>\n",
       "      <td>Personlig väggdekoration till fantastiska priser!</td>\n",
       "      <td>85</td>\n",
       "    </tr>\n",
       "    <tr>\n",
       "      <th>3</th>\n",
       "      <td>3 dagar - 4 produkter - upp till 76% rabatt!</td>\n",
       "      <td>78</td>\n",
       "    </tr>\n",
       "    <tr>\n",
       "      <th>4</th>\n",
       "      <td>✨ 3 Canvastavlor | 2 dagar | Upp till 54% rabatt!</td>\n",
       "      <td>77</td>\n",
       "    </tr>\n",
       "    <tr>\n",
       "      <th>5</th>\n",
       "      <td>Missa inte - Fotopresenter från endast 59 kr!</td>\n",
       "      <td>76</td>\n",
       "    </tr>\n",
       "    <tr>\n",
       "      <th>6</th>\n",
       "      <td>Skynda dig! Väggdekor från endast 39kr!</td>\n",
       "      <td>76</td>\n",
       "    </tr>\n",
       "    <tr>\n",
       "      <th>7</th>\n",
       "      <td>(72h) Upp till 65% rabatt på Väggdekorationer!</td>\n",
       "      <td>75</td>\n",
       "    </tr>\n",
       "    <tr>\n",
       "      <th>8</th>\n",
       "      <td>Skynda dig | -54% på XXL-Canvastavla!</td>\n",
       "      <td>75</td>\n",
       "    </tr>\n",
       "    <tr>\n",
       "      <th>9</th>\n",
       "      <td>3 format ➔ 3 dagar ➔ 1 pris</td>\n",
       "      <td>63</td>\n",
       "    </tr>\n",
       "    <tr>\n",
       "      <th>10</th>\n",
       "      <td>WOW! Canvastavla 80x60cm för 189 kr</td>\n",
       "      <td>63</td>\n",
       "    </tr>\n",
       "    <tr>\n",
       "      <th>11</th>\n",
       "      <td>Hem och livsstil-produkter från 49 kr</td>\n",
       "      <td>62</td>\n",
       "    </tr>\n",
       "    <tr>\n",
       "      <th>12</th>\n",
       "      <td>Dina bilder på Canvastavla eller Fotopresenter...</td>\n",
       "      <td>62</td>\n",
       "    </tr>\n",
       "    <tr>\n",
       "      <th>13</th>\n",
       "      <td>Otroligt ✨3 XXL-format för 249 kr styck</td>\n",
       "      <td>62</td>\n",
       "    </tr>\n",
       "    <tr>\n",
       "      <th>14</th>\n",
       "      <td>Canvastavla 100x75cm för bara 199 kr</td>\n",
       "      <td>62</td>\n",
       "    </tr>\n",
       "    <tr>\n",
       "      <th>15</th>\n",
       "      <td>Upp till -63% på favorit Väggdekorationer!</td>\n",
       "      <td>42</td>\n",
       "    </tr>\n",
       "    <tr>\n",
       "      <th>16</th>\n",
       "      <td>Upp till 58% rabatt på de mest älskade Canvast...</td>\n",
       "      <td>41</td>\n",
       "    </tr>\n",
       "    <tr>\n",
       "      <th>17</th>\n",
       "      <td>2 dagar | Canvastavlor från endast 185 kr!</td>\n",
       "      <td>40</td>\n",
       "    </tr>\n",
       "    <tr>\n",
       "      <th>18</th>\n",
       "      <td>Otroligt ✨ 3 XXL-format för 249 kr styck</td>\n",
       "      <td>24</td>\n",
       "    </tr>\n",
       "    <tr>\n",
       "      <th>19</th>\n",
       "      <td>&amp;#x1f575;&amp;#xfe0f;&amp;#x200d;&amp;#x2640;&amp;#xfe0f; Lås ...</td>\n",
       "      <td>5</td>\n",
       "    </tr>\n",
       "    <tr>\n",
       "      <th>20</th>\n",
       "      <td>Mystisk försäljning: Vad är din hemliga rabatt...</td>\n",
       "      <td>5</td>\n",
       "    </tr>\n",
       "    <tr>\n",
       "      <th>21</th>\n",
       "      <td>Använd din kod 39GX32V0 &amp;#x1f525; | Spara nu!</td>\n",
       "      <td>4</td>\n",
       "    </tr>\n",
       "    <tr>\n",
       "      <th>22</th>\n",
       "      <td>Otroligt! Upp till 84% rabatt + 25% MER den 2 ...</td>\n",
       "      <td>3</td>\n",
       "    </tr>\n",
       "    <tr>\n",
       "      <th>23</th>\n",
       "      <td>&amp;#x1f381; Ta en titt... Det här är ett Mystisk...</td>\n",
       "      <td>3</td>\n",
       "    </tr>\n",
       "    <tr>\n",
       "      <th>24</th>\n",
       "      <td>-20% EXTRA på hela din beställning | Kod i det...</td>\n",
       "      <td>3</td>\n",
       "    </tr>\n",
       "    <tr>\n",
       "      <th>25</th>\n",
       "      <td>Vi ger dig 100 kr gratis{% if contact.1 == '' ...</td>\n",
       "      <td>2</td>\n",
       "    </tr>\n",
       "    <tr>\n",
       "      <th>26</th>\n",
       "      <td>En hemlig erbjudande bara för dig, skynda! &amp;#x...</td>\n",
       "      <td>2</td>\n",
       "    </tr>\n",
       "    <tr>\n",
       "      <th>27</th>\n",
       "      <td>&amp;#x1f4af; Ju större duk, desto större rabatt! ...</td>\n",
       "      <td>2</td>\n",
       "    </tr>\n",
       "    <tr>\n",
       "      <th>28</th>\n",
       "      <td>&amp;#x1f4a5; Black Week börjar! | MEGA rabatter r...</td>\n",
       "      <td>2</td>\n",
       "    </tr>\n",
       "    <tr>\n",
       "      <th>29</th>\n",
       "      <td>&amp;#x1f92b; Tiden håller på att rinna ut! Myster...</td>\n",
       "      <td>2</td>\n",
       "    </tr>\n",
       "    <tr>\n",
       "      <th>30</th>\n",
       "      <td>100 kr rabatt på din beställning! &amp;#x1f4b8; En...</td>\n",
       "      <td>2</td>\n",
       "    </tr>\n",
       "    <tr>\n",
       "      <th>31</th>\n",
       "      <td>Upp till 89% rabatt på de mest älskade Canvast...</td>\n",
       "      <td>1</td>\n",
       "    </tr>\n",
       "    <tr>\n",
       "      <th>32</th>\n",
       "      <td>&amp;#x1f3f4;Försäljningen av BLACK FRIDAY har bör...</td>\n",
       "      <td>1</td>\n",
       "    </tr>\n",
       "    <tr>\n",
       "      <th>33</th>\n",
       "      <td>&amp;#x1f381; Shh... Det är ett mystiskt erbjudand...</td>\n",
       "      <td>1</td>\n",
       "    </tr>\n",
       "    <tr>\n",
       "      <th>34</th>\n",
       "      <td>Använd din kod HA0PJLXC &amp;#x1f525; | Spara nu!</td>\n",
       "      <td>1</td>\n",
       "    </tr>\n",
       "    <tr>\n",
       "      <th>35</th>\n",
       "      <td>&amp;#x23f0; Avslöja dolda rabatter: Din mystiska ...</td>\n",
       "      <td>1</td>\n",
       "    </tr>\n",
       "    <tr>\n",
       "      <th>36</th>\n",
       "      <td>&amp;#x1f6a8; Bara två dagar kvar av Black Week Me...</td>\n",
       "      <td>1</td>\n",
       "    </tr>\n",
       "    <tr>\n",
       "      <th>37</th>\n",
       "      <td>&amp;#x1f385;&amp;#x1f3fb; Din hemliga rabatt går snar...</td>\n",
       "      <td>1</td>\n",
       "    </tr>\n",
       "    <tr>\n",
       "      <th>38</th>\n",
       "      <td>Skynda dig! Ju större Canvas, desto större rab...</td>\n",
       "      <td>1</td>\n",
       "    </tr>\n",
       "    <tr>\n",
       "      <th>39</th>\n",
       "      <td>Sista chansen: Priser från 30,80 kr - Erbjudan...</td>\n",
       "      <td>1</td>\n",
       "    </tr>\n",
       "    <tr>\n",
       "      <th>40</th>\n",
       "      <td>&amp;#x1f4b0; Få 100 KR rabatt på din beställning{...</td>\n",
       "      <td>1</td>\n",
       "    </tr>\n",
       "  </tbody>\n",
       "</table>\n",
       "</div>"
      ],
      "text/plain": [
       "                                              Subject  count\n",
       "0                   Premiumtryck upp till 78% rabatt!     86\n",
       "1   Dekorativ inredning för hemmet till de bästa p...     85\n",
       "2   Personlig väggdekoration till fantastiska priser!     85\n",
       "3        3 dagar - 4 produkter - upp till 76% rabatt!     78\n",
       "4   ✨ 3 Canvastavlor | 2 dagar | Upp till 54% rabatt!     77\n",
       "5       Missa inte - Fotopresenter från endast 59 kr!     76\n",
       "6             Skynda dig! Väggdekor från endast 39kr!     76\n",
       "7      (72h) Upp till 65% rabatt på Väggdekorationer!     75\n",
       "8               Skynda dig | -54% på XXL-Canvastavla!     75\n",
       "9                         3 format ➔ 3 dagar ➔ 1 pris     63\n",
       "10                WOW! Canvastavla 80x60cm för 189 kr     63\n",
       "11              Hem och livsstil-produkter från 49 kr     62\n",
       "12  Dina bilder på Canvastavla eller Fotopresenter...     62\n",
       "13            Otroligt ✨3 XXL-format för 249 kr styck     62\n",
       "14               Canvastavla 100x75cm för bara 199 kr     62\n",
       "15         Upp till -63% på favorit Väggdekorationer!     42\n",
       "16  Upp till 58% rabatt på de mest älskade Canvast...     41\n",
       "17         2 dagar | Canvastavlor från endast 185 kr!     40\n",
       "18           Otroligt ✨ 3 XXL-format för 249 kr styck     24\n",
       "19  &#x1f575;&#xfe0f;&#x200d;&#x2640;&#xfe0f; Lås ...      5\n",
       "20  Mystisk försäljning: Vad är din hemliga rabatt...      5\n",
       "21      Använd din kod 39GX32V0 &#x1f525; | Spara nu!      4\n",
       "22  Otroligt! Upp till 84% rabatt + 25% MER den 2 ...      3\n",
       "23  &#x1f381; Ta en titt... Det här är ett Mystisk...      3\n",
       "24  -20% EXTRA på hela din beställning | Kod i det...      3\n",
       "25  Vi ger dig 100 kr gratis{% if contact.1 == '' ...      2\n",
       "26  En hemlig erbjudande bara för dig, skynda! &#x...      2\n",
       "27  &#x1f4af; Ju större duk, desto större rabatt! ...      2\n",
       "28  &#x1f4a5; Black Week börjar! | MEGA rabatter r...      2\n",
       "29  &#x1f92b; Tiden håller på att rinna ut! Myster...      2\n",
       "30  100 kr rabatt på din beställning! &#x1f4b8; En...      2\n",
       "31  Upp till 89% rabatt på de mest älskade Canvast...      1\n",
       "32  &#x1f3f4;Försäljningen av BLACK FRIDAY har bör...      1\n",
       "33  &#x1f381; Shh... Det är ett mystiskt erbjudand...      1\n",
       "34      Använd din kod HA0PJLXC &#x1f525; | Spara nu!      1\n",
       "35  &#x23f0; Avslöja dolda rabatter: Din mystiska ...      1\n",
       "36  &#x1f6a8; Bara två dagar kvar av Black Week Me...      1\n",
       "37  &#x1f385;&#x1f3fb; Din hemliga rabatt går snar...      1\n",
       "38  Skynda dig! Ju större Canvas, desto större rab...      1\n",
       "39  Sista chansen: Priser från 30,80 kr - Erbjudan...      1\n",
       "40  &#x1f4b0; Få 100 KR rabatt på din beställning{...      1"
      ]
     },
     "execution_count": 6,
     "metadata": {},
     "output_type": "execute_result"
    }
   ],
   "source": [
    " # invistigating the subject line column \n",
    "df['Subject'].value_counts().reset_index()"
   ]
  },
  {
   "cell_type": "markdown",
   "metadata": {},
   "source": [
    "I noticed that there is a repetition  for two subject line , but with minor typing mistake , so i merege the similar subject line in one group , because its the same subject line \n"
   ]
  },
  {
   "cell_type": "code",
   "execution_count": 7,
   "metadata": {},
   "outputs": [],
   "source": [
    "#merging the similar two subject lines \n",
    "df['Subject'] = df['Subject'].str.replace('Otroligt ✨3 XXL-format för 249 kr styck', 'Otroligt ✨ 3 XXL-format för 249 kr styck', regex=False)"
   ]
  },
  {
   "cell_type": "code",
   "execution_count": 8,
   "metadata": {},
   "outputs": [],
   "source": [
    "#mergig the two subject lines \n",
    "df['Subject'] = df['Subject'].str.replace('Använd din kod HA0PJLXC &#x1f525; | Spara nu!', 'Använd din kod 39GX32V0 &#x1f525; | Spara nu!', regex=False)"
   ]
  },
  {
   "cell_type": "code",
   "execution_count": 9,
   "metadata": {},
   "outputs": [],
   "source": [
    "df['Subject'] = df['Subject'].str.replace(\"Upp till 89% rabatt på de mest älskade Canvastavlor! &#x1f929;\"\n",
    ",\"Upp till 58% rabatt på de mest älskade Canvastavlor! &#x1F929;\"\n",
    ", regex=False)"
   ]
  },
  {
   "cell_type": "code",
   "execution_count": 12,
   "metadata": {},
   "outputs": [
    {
     "name": "stdout",
     "output_type": "stream",
     "text": [
      "All values in 'OR' are valid percentages (0 to 1).\n"
     ]
    }
   ],
   "source": [
    "# Check if all values are between 0 and 1\n",
    "valid_percentage = df[\"OR clean %\"].between(0, 1).all()\n",
    "\n",
    "if valid_percentage:\n",
    "    print(\"All values in 'OR' are valid percentages (0 to 1).\")\n",
    "else:\n",
    "    # Show which rows are invalid\n",
    "    invalid_rows = df[~df[\"OR clean %\"].between(0, 1)]\n",
    "    print(\"Some values are outside 0 to 1:\")\n",
    "    display(invalid_rows)\n"
   ]
  },
  {
   "cell_type": "markdown",
   "metadata": {},
   "source": [
    "### Now, I will get a list of the unique subject lines , later I will engineer features \n"
   ]
  },
  {
   "cell_type": "code",
   "execution_count": null,
   "metadata": {},
   "outputs": [],
   "source": [
    "df['Subject'].value_counts().reset_index()"
   ]
  },
  {
   "cell_type": "markdown",
   "metadata": {},
   "source": [
    "Now I will find the  relation between the email subjects lines  and OR% ( Emails Open Rate )"
   ]
  },
  {
   "cell_type": "code",
   "execution_count": null,
   "metadata": {},
   "outputs": [],
   "source": [
    "df.groupby(\"Subject\")['OR clean %'].mean().reset_index().sort_values(by=\"OR clean %\", ascending=False)"
   ]
  },
  {
   "cell_type": "code",
   "execution_count": null,
   "metadata": {},
   "outputs": [],
   "source": [
    "\n",
    "# I will make a chart for the best five subject lines in terms of OR%\n",
    "\n",
    "top5 = df.groupby(\"Subject\")['OR clean %'].mean().reset_index().sort_values(by=\"OR clean %\", ascending=False).head(5)\n",
    "\n",
    "plt.figure(figsize=(10,6))\n",
    "sns.barplot(x='OR clean %', y='Subject', data=top5, palette='viridis')\n",
    "plt.xlabel('Average OR clean %')\n",
    "plt.ylabel('Subject')\n",
    "plt.title('Top 5 Subjects by OR clean %')\n",
    "plt.show()\n"
   ]
  },
  {
   "cell_type": "markdown",
   "metadata": {},
   "source": [
    "Now I try to Summerize the relation between  emails subject lines and CTR%( Click through Rate )"
   ]
  },
  {
   "cell_type": "code",
   "execution_count": null,
   "metadata": {},
   "outputs": [],
   "source": [
    "df.groupby(\"Subject\")[\"CTR clean %\"].mean().reset_index().sort_values(by=\"CTR clean %\", ascending=False)"
   ]
  },
  {
   "cell_type": "markdown",
   "metadata": {},
   "source": [
    "In the previous table , the first two rows have unlogigal values  , CTR cannot be more than 1 in this contex , I think its a mistake in data collection , so I will delete the first two rows . beside it is not considered as promotional emails "
   ]
  },
  {
   "cell_type": "code",
   "execution_count": null,
   "metadata": {},
   "outputs": [],
   "source": [
    "# deleting two rows from the datafram \n",
    "df = df[~df['Subject'].isin(['Vill du fortfarande höra från oss?', 'Vi kommer snart att radera dig från mailinglistan!'])]"
   ]
  },
  {
   "cell_type": "markdown",
   "metadata": {},
   "source": [
    "Now I will check if there is any outliers values in ( OR% , CTR% )"
   ]
  },
  {
   "cell_type": "code",
   "execution_count": null,
   "metadata": {},
   "outputs": [],
   "source": [
    "# afunction to check outliers \n",
    "\n",
    "def detect_outliers_in_column_table(df, col):\n",
    "    if col not in df.columns:\n",
    "        raise ValueError(f\"Column '{col}' not found in DataFrame.\")\n",
    "    \n",
    "    Q1 = df[col].quantile(0.25)\n",
    "    Q3 = df[col].quantile(0.75)\n",
    "    IQR = Q3 - Q1\n",
    "    \n",
    "    lower_bound = Q1 - 1.5 * IQR\n",
    "    upper_bound = Q3 + 1.5 * IQR\n",
    "    \n",
    "    # Filter out the outliers\n",
    "    outliers = df[(df[col] < lower_bound) | (df[col] > upper_bound)].copy()\n",
    "    \n",
    "    # Optional: Add a column showing the outlier value clearly\n",
    "    outliers['outlier_value'] = outliers[col]\n",
    "    \n",
    "    return outliers\n",
    "\n"
   ]
  },
  {
   "cell_type": "code",
   "execution_count": null,
   "metadata": {},
   "outputs": [],
   "source": [
    "\n",
    "outliers_OR = detect_outliers_in_column_table(df, \"OR clean %\")\n",
    "display(outliers_OR)  \n"
   ]
  },
  {
   "cell_type": "code",
   "execution_count": null,
   "metadata": {},
   "outputs": [],
   "source": [
    "outliers_CTR = detect_outliers_in_column_table(df, \"CTR clean %\")\n",
    "display(outliers_CTR)  "
   ]
  },
  {
   "cell_type": "markdown",
   "metadata": {},
   "source": [
    "There is few outliers values in both OR% and CTR% , this should be revised and make sure it is not a mistake in data collection , I will leave it here because I am doing explanatory data analysis , and I will do any model now !"
   ]
  },
  {
   "cell_type": "markdown",
   "metadata": {},
   "source": [
    "next , Creating a chart for the relation between email subject lines  and the CTR% "
   ]
  },
  {
   "cell_type": "code",
   "execution_count": null,
   "metadata": {},
   "outputs": [],
   "source": [
    "df.groupby(\"Subject\")[\"CTR clean %\"].mean().reset_index().sort_values(by=\"CTR clean %\", ascending=False)"
   ]
  },
  {
   "cell_type": "code",
   "execution_count": null,
   "metadata": {},
   "outputs": [],
   "source": [
    "#  a chart for the top best subject lines interms of CTR percentage \n",
    "sorted_ctr = df.groupby(\"Subject\")[\"CTR clean %\"].mean().reset_index().sort_values(by=\"CTR clean %\", ascending=False)\n",
    "subset_ctr = sorted_ctr.iloc[0:10]\n",
    "\n",
    "plt.figure(figsize=(10,6))\n",
    "sns.barplot(x='CTR clean %', y='Subject', data=subset_ctr, palette='viridis')\n",
    "plt.xlabel('Average CTR clean %')\n",
    "plt.ylabel('Subject')\n",
    "plt.title('Subjects Ranked top ten by CTR clean %')\n",
    "plt.show()"
   ]
  },
  {
   "cell_type": "markdown",
   "metadata": {},
   "source": [
    "Now I will investigate the relation between ( OR% , CTR% ) , and Time ( Quarters , Months , Days of week ) to see if there is any Time series patterns"
   ]
  },
  {
   "cell_type": "code",
   "execution_count": null,
   "metadata": {},
   "outputs": [],
   "source": [
    "#converting date column to a date datatype \n",
    "df['Date'] = pd.to_datetime(df['Sent date'])"
   ]
  },
  {
   "cell_type": "code",
   "execution_count": null,
   "metadata": {},
   "outputs": [],
   "source": [
    "# create a month colume\n",
    "df['Month'] = df['Date'].dt.month\n"
   ]
  },
  {
   "cell_type": "code",
   "execution_count": null,
   "metadata": {},
   "outputs": [],
   "source": [
    "# OR% for each day of the week\n",
    "df.groupby(\"DD\")['OR clean %'].mean().reset_index().sort_values(by='OR clean %', ascending=False)"
   ]
  },
  {
   "cell_type": "markdown",
   "metadata": {},
   "source": [
    "I can not see any relation between day of the weak and OR% \n",
    "- This analysis needs more historical data  \n",
    "- Confirming  that emails are sent the same hour of the day\n",
    "- Confirming that all subject lines are sent in diffent  weak days \n",
    "If after all conditions , still there is no relation , so there might be no relation !!"
   ]
  },
  {
   "cell_type": "code",
   "execution_count": null,
   "metadata": {},
   "outputs": [],
   "source": [
    "df.groupby(\"DD\")[\"CTR clean %\"].mean().reset_index().sort_values(by=\"CTR clean %\", ascending=False)"
   ]
  },
  {
   "cell_type": "markdown",
   "metadata": {},
   "source": [
    "Saturday is the best day to send emails in terms of CTR%\n",
    "Monday is the worst day to send emails in terms of CTR%\n",
    "But there is two conditions must be confirmed \n",
    "- first , all emails sent in the same hour of the day \n",
    "- Seconf , all subject lines sent in all day weaks "
   ]
  },
  {
   "cell_type": "markdown",
   "metadata": {},
   "source": [
    "### Now investegating the monthly performance of OR% and CTR%"
   ]
  },
  {
   "cell_type": "code",
   "execution_count": null,
   "metadata": {},
   "outputs": [],
   "source": [
    "# OR% performance per month\n",
    "df.groupby(\"Month\")['OR clean %'].mean().reset_index().sort_values(by='OR clean %', ascending=False)"
   ]
  },
  {
   "cell_type": "code",
   "execution_count": null,
   "metadata": {},
   "outputs": [],
   "source": [
    "\n",
    "\n",
    "# Group, average, and sort by Month in ascending order\n",
    "trend_df = df.groupby(\"Month\")['OR clean %'].mean().reset_index().sort_values(by='Month')\n",
    "\n",
    "# Plot the trend\n",
    "plt.figure(figsize=(10,5))\n",
    "plt.plot(trend_df['Month'], trend_df['OR clean %'], marker='o')\n",
    "plt.xlabel('Month')\n",
    "plt.ylabel('Average OR clean %')\n",
    "plt.title('Time Trend of OR clean % by Month')\n",
    "plt.grid(True)\n",
    "plt.show()\n"
   ]
  },
  {
   "cell_type": "markdown",
   "metadata": {},
   "source": [
    "There a clear trend shows a drawback in terms of OR%"
   ]
  },
  {
   "cell_type": "code",
   "execution_count": null,
   "metadata": {},
   "outputs": [],
   "source": [
    "#CTR performance per month\n",
    "df.groupby(\"Month\")[\"CTR clean %\"].mean().reset_index().sort_values(by=\"CTR clean %\", ascending=False)"
   ]
  },
  {
   "cell_type": "code",
   "execution_count": null,
   "metadata": {},
   "outputs": [],
   "source": [
    "# Group, average, and sort by Month in ascending order\n",
    "trend_df = df.groupby(\"Month\")[\"CTR clean %\"].mean().reset_index().sort_values(by='Month')\n",
    "\n",
    "# Plot the trend\n",
    "plt.figure(figsize=(10,5))\n",
    "plt.plot(trend_df['Month'], trend_df[\"CTR clean %\"], marker='o')\n",
    "plt.xlabel('Month')\n",
    "plt.ylabel('Average OR clean %')\n",
    "plt.title('Time Trend of OR clean % by Month')\n",
    "plt.grid(True)\n",
    "plt.show()"
   ]
  },
  {
   "cell_type": "markdown",
   "metadata": {},
   "source": [
    "The previous chart shows improvment in terms of CTR  "
   ]
  },
  {
   "cell_type": "markdown",
   "metadata": {},
   "source": [
    "--------------------------------------------------------------------------------------------------------"
   ]
  },
  {
   "cell_type": "markdown",
   "metadata": {},
   "source": [
    "Understanding the correlation between emails numbers and OR% , and CTR%"
   ]
  },
  {
   "cell_type": "code",
   "execution_count": null,
   "metadata": {},
   "outputs": [],
   "source": [
    "df['Sendings'].corr(df['OR clean %'])"
   ]
  },
  {
   "cell_type": "code",
   "execution_count": null,
   "metadata": {},
   "outputs": [],
   "source": [
    "df['Sendings'].corr(df['CTR clean %'])"
   ]
  },
  {
   "cell_type": "markdown",
   "metadata": {},
   "source": [
    "There is a correlation between (OR% / CTR%) and the volume of sending emails "
   ]
  },
  {
   "cell_type": "markdown",
   "metadata": {},
   "source": [
    "----------------------------------------------------------------------------------------"
   ]
  },
  {
   "cell_type": "markdown",
   "metadata": {},
   "source": [
    "I prepared a sheet which explains  the features for each subject , in terms of ( number of words , tone , having emoji or not , included price or discount , personalization ) \n",
    "I will merge this (subject features sheet) to the current dataframe , so I will have one datafram containning all features "
   ]
  },
  {
   "cell_type": "code",
   "execution_count": null,
   "metadata": {},
   "outputs": [],
   "source": [
    "subjects_features=pd.read_excel(\"subject_features1_data.xlsx\")"
   ]
  },
  {
   "cell_type": "code",
   "execution_count": null,
   "metadata": {},
   "outputs": [],
   "source": [
    "subjects_features.info()"
   ]
  },
  {
   "cell_type": "code",
   "execution_count": null,
   "metadata": {},
   "outputs": [],
   "source": [
    "# construction a dataframe of emials subjects features and (OR / CTR ) precentages \n",
    "merged_df = df.merge(subjects_features, on='Subject', how='left')  \n"
   ]
  },
  {
   "cell_type": "code",
   "execution_count": null,
   "metadata": {},
   "outputs": [],
   "source": [
    "merged_df.info()"
   ]
  },
  {
   "cell_type": "code",
   "execution_count": null,
   "metadata": {},
   "outputs": [],
   "source": [
    "merged_df.head(2)"
   ]
  },
  {
   "cell_type": "markdown",
   "metadata": {},
   "source": [
    "#### Now I will study the effect of engeneered features on (OR% and CTR%)"
   ]
  },
  {
   "cell_type": "markdown",
   "metadata": {},
   "source": [
    "##### 1-Personalization effect \n"
   ]
  },
  {
   "cell_type": "code",
   "execution_count": null,
   "metadata": {},
   "outputs": [],
   "source": [
    "\n",
    "merged_df.groupby(\"Personalization\").agg({\n",
    "    'Sendings': 'sum',\n",
    "    'OR clean %': 'mean'\n",
    "}).reset_index().sort_values(by='Sendings', ascending=False)"
   ]
  },
  {
   "cell_type": "code",
   "execution_count": null,
   "metadata": {},
   "outputs": [],
   "source": [
    "merged_df.groupby(\"Personalization\").agg({\n",
    "    'Sendings': 'sum',\n",
    "    'CTR clean %': 'mean'\n",
    "}).reset_index().sort_values(by='Sendings', ascending=False)"
   ]
  },
  {
   "cell_type": "markdown",
   "metadata": {},
   "source": [
    "Although , there is a clear effect of personalization for OR% , but the volume of emails sent is not balanced in the two categories "
   ]
  },
  {
   "cell_type": "markdown",
   "metadata": {},
   "source": [
    "#### 2-Price or Discount effect"
   ]
  },
  {
   "cell_type": "code",
   "execution_count": null,
   "metadata": {},
   "outputs": [],
   "source": [
    "merged_df.groupby(\"Price or Discount\").agg({\n",
    "    'Sendings': 'sum',\n",
    "    'OR clean %': 'mean'\n",
    "}).reset_index().sort_values(by='Sendings', ascending=False)"
   ]
  },
  {
   "cell_type": "code",
   "execution_count": null,
   "metadata": {},
   "outputs": [],
   "source": [
    "merged_df.groupby(\"Price or Discount\").agg({\n",
    "    'Sendings': 'sum',\n",
    "    'CTR clean %': 'mean'\n",
    "}).reset_index().sort_values(by='Sendings', ascending=False)"
   ]
  },
  {
   "cell_type": "markdown",
   "metadata": {},
   "source": [
    "#### 3- Mentioning of Product effect"
   ]
  },
  {
   "cell_type": "code",
   "execution_count": null,
   "metadata": {},
   "outputs": [],
   "source": [
    "merged_df.groupby(\"product\").agg({\n",
    "    'Sendings': 'sum',\n",
    "    'OR clean %': 'mean'\n",
    "}).reset_index().sort_values(by='Sendings', ascending=False)"
   ]
  },
  {
   "cell_type": "code",
   "execution_count": null,
   "metadata": {},
   "outputs": [],
   "source": [
    "merged_df.groupby(\"product\").agg({\n",
    "    'Sendings': 'sum',\n",
    "    'CTR clean %': 'mean'\n",
    "}).reset_index().sort_values(by='Sendings', ascending=False)"
   ]
  },
  {
   "cell_type": "markdown",
   "metadata": {},
   "source": [
    "Finally , I will create a data file  to use to build a simple model to predict the OR rate and the CTR \n",
    "the features I will use to make predictions are ( the subject of email , month , day of week , number of emails sent )"
   ]
  },
  {
   "cell_type": "code",
   "execution_count": null,
   "metadata": {},
   "outputs": [],
   "source": [
    "merged_df.to_csv(\"model_data.csv\", index=False)"
   ]
  }
 ],
 "metadata": {
  "kernelspec": {
   "display_name": "Python 3",
   "language": "python",
   "name": "python3"
  },
  "language_info": {
   "codemirror_mode": {
    "name": "ipython",
    "version": 3
   },
   "file_extension": ".py",
   "mimetype": "text/x-python",
   "name": "python",
   "nbconvert_exporter": "python",
   "pygments_lexer": "ipython3",
   "version": "3.12.4"
  }
 },
 "nbformat": 4,
 "nbformat_minor": 2
}
