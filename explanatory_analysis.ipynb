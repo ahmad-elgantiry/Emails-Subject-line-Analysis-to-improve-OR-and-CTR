{
 "cells": [
  {
   "cell_type": "markdown",
   "metadata": {},
   "source": [
    "### Data explanatory analysis\n",
    "I will focus in exploring factors which affect  OR%   and CTR%\n",
    "I will try to find the best emails subject lines in terms of OR%  and CTR%"
   ]
  },
  {
   "cell_type": "code",
   "execution_count": null,
   "metadata": {},
   "outputs": [],
   "source": [
    "# a code to open excel files as a dataframe \n",
    "!pip install openpyxl"
   ]
  },
  {
   "cell_type": "code",
   "execution_count": null,
   "metadata": {},
   "outputs": [],
   "source": [
    "# importing libraries\n",
    "import pandas as pd\n",
    "import numpy as np\n",
    "import matplotlib.pyplot as plt\n",
    "import seaborn as sns\n",
    "import warnings\n",
    "warnings.filterwarnings('ignore')\n",
    "import re\n",
    "%matplotlib inline\n"
   ]
  },
  {
   "cell_type": "code",
   "execution_count": null,
   "metadata": {},
   "outputs": [],
   "source": [
    "# reading excel file \n",
    "df=pd.read_excel(\"Promotional_emails_subject lines.xlsx\")"
   ]
  },
  {
   "cell_type": "code",
   "execution_count": null,
   "metadata": {},
   "outputs": [],
   "source": [
    "df.head(2)"
   ]
  },
  {
   "cell_type": "code",
   "execution_count": null,
   "metadata": {},
   "outputs": [],
   "source": [
    "df.info()"
   ]
  },
  {
   "cell_type": "code",
   "execution_count": null,
   "metadata": {},
   "outputs": [],
   "source": [
    " # invistigating the subject line column \n",
    "df['Subject'].value_counts().reset_index()"
   ]
  },
  {
   "cell_type": "markdown",
   "metadata": {},
   "source": [
    "I noticed that there is a repetition  for two subject line , but with minor typing mistake , so i merege the similar subject line in one group , because its the same subject line \n"
   ]
  },
  {
   "cell_type": "code",
   "execution_count": null,
   "metadata": {},
   "outputs": [],
   "source": [
    "#merging the similar two subject lines \n",
    "df['Subject'] = df['Subject'].str.replace('Otroligt ✨3 XXL-format för 249 kr styck', 'Otroligt ✨ 3 XXL-format för 249 kr styck', regex=False)"
   ]
  },
  {
   "cell_type": "code",
   "execution_count": null,
   "metadata": {},
   "outputs": [],
   "source": [
    "#mergig the two subject lines \n",
    "df['Subject'] = df['Subject'].str.replace('Använd din kod HA0PJLXC &#x1f525; | Spara nu!', 'Använd din kod 39GX32V0 &#x1f525; | Spara nu!', regex=False)"
   ]
  },
  {
   "cell_type": "code",
   "execution_count": null,
   "metadata": {},
   "outputs": [],
   "source": [
    "df['Subject'] = df['Subject'].str.replace(\"Upp till 89% rabatt på de mest älskade Canvastavlor! &#x1f929;\"\n",
    ",\"Upp till 58% rabatt på de mest älskade Canvastavlor! &#x1F929;\"\n",
    ", regex=False)"
   ]
  },
  {
   "cell_type": "markdown",
   "metadata": {},
   "source": [
    "### Now, I will get a list of the unique subject lines , later I will engineer features \n"
   ]
  },
  {
   "cell_type": "code",
   "execution_count": null,
   "metadata": {},
   "outputs": [],
   "source": [
    "df['Subject'].value_counts().reset_index()"
   ]
  },
  {
   "cell_type": "markdown",
   "metadata": {},
   "source": [
    "Now I will find the  relation between the email subjects lines  and OR% ( Emails Open Rate )"
   ]
  },
  {
   "cell_type": "code",
   "execution_count": null,
   "metadata": {},
   "outputs": [],
   "source": [
    "df.groupby(\"Subject\")['OR clean %'].mean().reset_index().sort_values(by=\"OR clean %\", ascending=False)"
   ]
  },
  {
   "cell_type": "code",
   "execution_count": null,
   "metadata": {},
   "outputs": [],
   "source": [
    "\n",
    "# I will make a chart for the best five subject lines in terms of OR%\n",
    "\n",
    "top5 = df.groupby(\"Subject\")['OR clean %'].mean().reset_index().sort_values(by=\"OR clean %\", ascending=False).head(5)\n",
    "\n",
    "plt.figure(figsize=(10,6))\n",
    "sns.barplot(x='OR clean %', y='Subject', data=top5, palette='viridis')\n",
    "plt.xlabel('Average OR clean %')\n",
    "plt.ylabel('Subject')\n",
    "plt.title('Top 5 Subjects by OR clean %')\n",
    "plt.show()\n"
   ]
  },
  {
   "cell_type": "markdown",
   "metadata": {},
   "source": [
    "Now I try to Summerize the relation between  emails subject lines and CTR%( Click through Rate )"
   ]
  },
  {
   "cell_type": "code",
   "execution_count": null,
   "metadata": {},
   "outputs": [],
   "source": [
    "df.groupby(\"Subject\")[\"CTR clean %\"].mean().reset_index().sort_values(by=\"CTR clean %\", ascending=False)"
   ]
  },
  {
   "cell_type": "markdown",
   "metadata": {},
   "source": [
    "In the previous table , the first two rows have unlogigal values  , CTR cannot be more than 1 in this contex , I think its a mistake in data collection , so I will delete the first two rows . beside it is not considered as promotional emails "
   ]
  },
  {
   "cell_type": "code",
   "execution_count": null,
   "metadata": {},
   "outputs": [],
   "source": [
    "# deleting two rows from the datafram \n",
    "df = df[~df['Subject'].isin(['Vill du fortfarande höra från oss?', 'Vi kommer snart att radera dig från mailinglistan!'])]"
   ]
  },
  {
   "cell_type": "markdown",
   "metadata": {},
   "source": [
    "Now I will check if there is any outliers values in ( OR% , CTR% )"
   ]
  },
  {
   "cell_type": "code",
   "execution_count": null,
   "metadata": {},
   "outputs": [],
   "source": [
    "# afunction to check outliers \n",
    "\n",
    "def detect_outliers_in_column_table(df, col):\n",
    "    if col not in df.columns:\n",
    "        raise ValueError(f\"Column '{col}' not found in DataFrame.\")\n",
    "    \n",
    "    Q1 = df[col].quantile(0.25)\n",
    "    Q3 = df[col].quantile(0.75)\n",
    "    IQR = Q3 - Q1\n",
    "    \n",
    "    lower_bound = Q1 - 1.5 * IQR\n",
    "    upper_bound = Q3 + 1.5 * IQR\n",
    "    \n",
    "    # Filter out the outliers\n",
    "    outliers = df[(df[col] < lower_bound) | (df[col] > upper_bound)].copy()\n",
    "    \n",
    "    # Optional: Add a column showing the outlier value clearly\n",
    "    outliers['outlier_value'] = outliers[col]\n",
    "    \n",
    "    return outliers\n",
    "\n"
   ]
  },
  {
   "cell_type": "code",
   "execution_count": null,
   "metadata": {},
   "outputs": [],
   "source": [
    "\n",
    "outliers_OR = detect_outliers_in_column_table(df, \"OR clean %\")\n",
    "display(outliers_OR)  \n"
   ]
  },
  {
   "cell_type": "code",
   "execution_count": null,
   "metadata": {},
   "outputs": [],
   "source": [
    "outliers_CTR = detect_outliers_in_column_table(df, \"CTR clean %\")\n",
    "display(outliers_CTR)  "
   ]
  },
  {
   "cell_type": "markdown",
   "metadata": {},
   "source": [
    "There is few outliers values in both OR% and CTR% , this should be revised and make sure it is not a mistake in data collection , I will leave it here because I am doing explanatory data analysis , and I will do any model now !"
   ]
  },
  {
   "cell_type": "markdown",
   "metadata": {},
   "source": [
    "next , Creating a chart for the relation between email subject lines  and the CTR% "
   ]
  },
  {
   "cell_type": "code",
   "execution_count": null,
   "metadata": {},
   "outputs": [],
   "source": [
    "df.groupby(\"Subject\")[\"CTR clean %\"].mean().reset_index().sort_values(by=\"CTR clean %\", ascending=False)"
   ]
  },
  {
   "cell_type": "code",
   "execution_count": null,
   "metadata": {},
   "outputs": [],
   "source": [
    "#  a chart for the top best subject lines interms of CTR percentage \n",
    "sorted_ctr = df.groupby(\"Subject\")[\"CTR clean %\"].mean().reset_index().sort_values(by=\"CTR clean %\", ascending=False)\n",
    "subset_ctr = sorted_ctr.iloc[0:10]\n",
    "\n",
    "plt.figure(figsize=(10,6))\n",
    "sns.barplot(x='CTR clean %', y='Subject', data=subset_ctr, palette='viridis')\n",
    "plt.xlabel('Average CTR clean %')\n",
    "plt.ylabel('Subject')\n",
    "plt.title('Subjects Ranked top ten by CTR clean %')\n",
    "plt.show()"
   ]
  },
  {
   "cell_type": "markdown",
   "metadata": {},
   "source": [
    "Now I will investigate the relation between ( OR% , CTR% ) , and Time ( Quarters , Months , Days of week ) to see if there is any Time series patterns"
   ]
  },
  {
   "cell_type": "code",
   "execution_count": null,
   "metadata": {},
   "outputs": [],
   "source": [
    "#converting date column to a date datatype \n",
    "df['Date'] = pd.to_datetime(df['Sent date'])"
   ]
  },
  {
   "cell_type": "code",
   "execution_count": null,
   "metadata": {},
   "outputs": [],
   "source": [
    "# create a month colume\n",
    "df['Month'] = df['Date'].dt.month\n"
   ]
  },
  {
   "cell_type": "code",
   "execution_count": null,
   "metadata": {},
   "outputs": [],
   "source": [
    "# OR% for each day of the week\n",
    "df.groupby(\"DD\")['OR clean %'].mean().reset_index().sort_values(by='OR clean %', ascending=False)"
   ]
  },
  {
   "cell_type": "markdown",
   "metadata": {},
   "source": [
    "I can not see any relation between day of the weak and OR% \n",
    "- This analysis needs more historical data  \n",
    "- Confirming  that emails are sent the same hour of the day\n",
    "- Confirming that all subject lines are sent in diffent  weak days \n",
    "If after all conditions , still there is no relation , so there might be no relation !!"
   ]
  },
  {
   "cell_type": "code",
   "execution_count": null,
   "metadata": {},
   "outputs": [],
   "source": [
    "df.groupby(\"DD\")[\"CTR clean %\"].mean().reset_index().sort_values(by=\"CTR clean %\", ascending=False)"
   ]
  },
  {
   "cell_type": "markdown",
   "metadata": {},
   "source": [
    "Saturday is the best day to send emails in terms of CTR%\n",
    "Monday is the worst day to send emails in terms of CTR%\n",
    "But there is two conditions must be confirmed \n",
    "- first , all emails sent in the same hour of the day \n",
    "- Seconf , all subject lines sent in all day weaks "
   ]
  },
  {
   "cell_type": "markdown",
   "metadata": {},
   "source": [
    "### Now investegating the monthly performance of OR% and CTR%"
   ]
  },
  {
   "cell_type": "code",
   "execution_count": null,
   "metadata": {},
   "outputs": [],
   "source": [
    "# OR% performance per month\n",
    "df.groupby(\"Month\")['OR clean %'].mean().reset_index().sort_values(by='OR clean %', ascending=False)"
   ]
  },
  {
   "cell_type": "code",
   "execution_count": null,
   "metadata": {},
   "outputs": [],
   "source": [
    "\n",
    "\n",
    "# Group, average, and sort by Month in ascending order\n",
    "trend_df = df.groupby(\"Month\")['OR clean %'].mean().reset_index().sort_values(by='Month')\n",
    "\n",
    "# Plot the trend\n",
    "plt.figure(figsize=(10,5))\n",
    "plt.plot(trend_df['Month'], trend_df['OR clean %'], marker='o')\n",
    "plt.xlabel('Month')\n",
    "plt.ylabel('Average OR clean %')\n",
    "plt.title('Time Trend of OR clean % by Month')\n",
    "plt.grid(True)\n",
    "plt.show()\n"
   ]
  },
  {
   "cell_type": "markdown",
   "metadata": {},
   "source": [
    "There a clear trend shows a drawback in terms of OR%"
   ]
  },
  {
   "cell_type": "code",
   "execution_count": null,
   "metadata": {},
   "outputs": [],
   "source": [
    "#CTR performance per month\n",
    "df.groupby(\"Month\")[\"CTR clean %\"].mean().reset_index().sort_values(by=\"CTR clean %\", ascending=False)"
   ]
  },
  {
   "cell_type": "code",
   "execution_count": null,
   "metadata": {},
   "outputs": [],
   "source": [
    "# Group, average, and sort by Month in ascending order\n",
    "trend_df = df.groupby(\"Month\")[\"CTR clean %\"].mean().reset_index().sort_values(by='Month')\n",
    "\n",
    "# Plot the trend\n",
    "plt.figure(figsize=(10,5))\n",
    "plt.plot(trend_df['Month'], trend_df[\"CTR clean %\"], marker='o')\n",
    "plt.xlabel('Month')\n",
    "plt.ylabel('Average OR clean %')\n",
    "plt.title('Time Trend of OR clean % by Month')\n",
    "plt.grid(True)\n",
    "plt.show()"
   ]
  },
  {
   "cell_type": "markdown",
   "metadata": {},
   "source": [
    "The previous chart shows improvment in terms of CTR  "
   ]
  },
  {
   "cell_type": "markdown",
   "metadata": {},
   "source": [
    "--------------------------------------------------------------------------------------------------------"
   ]
  },
  {
   "cell_type": "markdown",
   "metadata": {},
   "source": [
    "Understanding the correlation between emails numbers and OR% , and CTR%"
   ]
  },
  {
   "cell_type": "code",
   "execution_count": null,
   "metadata": {},
   "outputs": [],
   "source": [
    "df['Sendings'].corr(df['OR clean %'])"
   ]
  },
  {
   "cell_type": "code",
   "execution_count": null,
   "metadata": {},
   "outputs": [],
   "source": [
    "df['Sendings'].corr(df['CTR clean %'])"
   ]
  },
  {
   "cell_type": "markdown",
   "metadata": {},
   "source": [
    "There is a correlation between (OR% / CTR%) and the volume of sending emails "
   ]
  },
  {
   "cell_type": "markdown",
   "metadata": {},
   "source": [
    "----------------------------------------------------------------------------------------"
   ]
  },
  {
   "cell_type": "markdown",
   "metadata": {},
   "source": [
    "I prepared a sheet which explains  the features for each subject , in terms of ( number of words , tone , having emoji or not , included price or discount , personalization ) \n",
    "I will merge this (subject features sheet) to the current dataframe , so I will have one datafram containning all features "
   ]
  },
  {
   "cell_type": "code",
   "execution_count": null,
   "metadata": {},
   "outputs": [],
   "source": [
    "subjects_features=pd.read_excel(\"subject_features1_data.xlsx\")"
   ]
  },
  {
   "cell_type": "code",
   "execution_count": null,
   "metadata": {},
   "outputs": [],
   "source": [
    "subjects_features.info()"
   ]
  },
  {
   "cell_type": "code",
   "execution_count": null,
   "metadata": {},
   "outputs": [],
   "source": [
    "# construction a dataframe of emials subjects features and (OR / CTR ) precentages \n",
    "merged_df = df.merge(subjects_features, on='Subject', how='left')  \n"
   ]
  },
  {
   "cell_type": "code",
   "execution_count": null,
   "metadata": {},
   "outputs": [],
   "source": [
    "merged_df.info()"
   ]
  },
  {
   "cell_type": "code",
   "execution_count": null,
   "metadata": {},
   "outputs": [],
   "source": [
    "merged_df.head(2)"
   ]
  },
  {
   "cell_type": "markdown",
   "metadata": {},
   "source": [
    "#### Now I will study the effect of engeneered features on (OR% and CTR%)"
   ]
  },
  {
   "cell_type": "markdown",
   "metadata": {},
   "source": [
    "##### 1-Personalization effect \n"
   ]
  },
  {
   "cell_type": "code",
   "execution_count": null,
   "metadata": {},
   "outputs": [],
   "source": [
    "\n",
    "merged_df.groupby(\"Personalization\").agg({\n",
    "    'Sendings': 'sum',\n",
    "    'OR clean %': 'mean'\n",
    "}).reset_index().sort_values(by='Sendings', ascending=False)"
   ]
  },
  {
   "cell_type": "code",
   "execution_count": null,
   "metadata": {},
   "outputs": [],
   "source": [
    "merged_df.groupby(\"Personalization\").agg({\n",
    "    'Sendings': 'sum',\n",
    "    'CTR clean %': 'mean'\n",
    "}).reset_index().sort_values(by='Sendings', ascending=False)"
   ]
  },
  {
   "cell_type": "markdown",
   "metadata": {},
   "source": [
    "Although , there is a clear effect of personalization for OR% , but the volume of emails sent is not balanced in the two categories "
   ]
  },
  {
   "cell_type": "markdown",
   "metadata": {},
   "source": [
    "#### 2-Price or Discount effect"
   ]
  },
  {
   "cell_type": "code",
   "execution_count": null,
   "metadata": {},
   "outputs": [],
   "source": [
    "merged_df.groupby(\"Price or Discount\").agg({\n",
    "    'Sendings': 'sum',\n",
    "    'OR clean %': 'mean'\n",
    "}).reset_index().sort_values(by='Sendings', ascending=False)"
   ]
  },
  {
   "cell_type": "code",
   "execution_count": null,
   "metadata": {},
   "outputs": [],
   "source": [
    "merged_df.groupby(\"Price or Discount\").agg({\n",
    "    'Sendings': 'sum',\n",
    "    'CTR clean %': 'mean'\n",
    "}).reset_index().sort_values(by='Sendings', ascending=False)"
   ]
  },
  {
   "cell_type": "markdown",
   "metadata": {},
   "source": [
    "#### 3- Mentioning of Product effect"
   ]
  },
  {
   "cell_type": "code",
   "execution_count": null,
   "metadata": {},
   "outputs": [],
   "source": [
    "merged_df.groupby(\"product\").agg({\n",
    "    'Sendings': 'sum',\n",
    "    'OR clean %': 'mean'\n",
    "}).reset_index().sort_values(by='Sendings', ascending=False)"
   ]
  },
  {
   "cell_type": "code",
   "execution_count": null,
   "metadata": {},
   "outputs": [],
   "source": [
    "merged_df.groupby(\"product\").agg({\n",
    "    'Sendings': 'sum',\n",
    "    'CTR clean %': 'mean'\n",
    "}).reset_index().sort_values(by='Sendings', ascending=False)"
   ]
  },
  {
   "cell_type": "markdown",
   "metadata": {},
   "source": [
    "Finally , I will create a data file  to use to build a simple model to predict the OR rate and the CTR \n",
    "the features I will use to make predictions are ( the subject of email , month , day of week , number of emails sent )"
   ]
  },
  {
   "cell_type": "code",
   "execution_count": null,
   "metadata": {},
   "outputs": [],
   "source": [
    "merged_df.to_csv(\"model_data.csv\", index=False)"
   ]
  }
 ],
 "metadata": {
  "kernelspec": {
   "display_name": "Python 3",
   "language": "python",
   "name": "python3"
  },
  "language_info": {
   "codemirror_mode": {
    "name": "ipython",
    "version": 3
   },
   "file_extension": ".py",
   "mimetype": "text/x-python",
   "name": "python",
   "nbconvert_exporter": "python",
   "pygments_lexer": "ipython3",
   "version": "3.12.4"
  }
 },
 "nbformat": 4,
 "nbformat_minor": 2
}
