{
 "cells": [
  {
   "cell_type": "markdown",
   "id": "bf90d2e2",
   "metadata": {},
   "source": [
    "### Building Bionomial GLM To predict Emails Open Rates (OR%) , Based on the following Features \n",
    "- Time ( month of the year , day of the week )\n",
    "- Pirority of email , main or reminder \n",
    "- Category ( interval , final )\n",
    "- Number of emails sent in each subject\n",
    "- Constructed Features\n",
    " - Length of the subject \n",
    " - Personalization of Email\n",
    " - Having emoji or not\n",
    " - Casual tone or formal \n",
    " - Urgency at the subject \n",
    " - Metion of price or discount in the subject \n",
    " - Imperative tone in the subject \n",
    " - Mention of product in the subject"
   ]
  },
  {
   "cell_type": "code",
   "execution_count": 1,
   "id": "4fbfe835",
   "metadata": {},
   "outputs": [],
   "source": [
    "#importing libraries \n",
    "import pandas as pd\n",
    "from sklearn.model_selection import train_test_split\n",
    "from sklearn.preprocessing import OneHotEncoder\n",
    "from sklearn.compose import ColumnTransformer\n",
    "from sklearn.pipeline import Pipeline\n",
    "from sklearn.linear_model import LinearRegression\n",
    "from sklearn.metrics import mean_squared_error, r2_score,mean_absolute_error\n",
    "import statsmodels.api as sm\n",
    "import statsmodels.formula.api as smf\n",
    "import matplotlib.pyplot as plt\n"
   ]
  },
  {
   "cell_type": "code",
   "execution_count": 2,
   "id": "8a77b113",
   "metadata": {},
   "outputs": [],
   "source": [
    "#r reading the data as a dataframe\n",
    "df = pd.read_csv(\"Model_Data.csv\")\n",
    "df.columns = df.columns.str.strip()"
   ]
  },
  {
   "cell_type": "code",
   "execution_count": 3,
   "id": "0dba3d71",
   "metadata": {},
   "outputs": [
    {
     "name": "stdout",
     "output_type": "stream",
     "text": [
      "<class 'pandas.core.frame.DataFrame'>\n",
      "RangeIndex: 1279 entries, 0 to 1278\n",
      "Data columns (total 17 columns):\n",
      " #   Column             Non-Null Count  Dtype  \n",
      "---  ------             --------------  -----  \n",
      " 0   Sent_Date          1279 non-null   object \n",
      " 1   Day_of_week        1279 non-null   object \n",
      " 2   Category_name      1279 non-null   object \n",
      " 3   Main_Vs_REM        1279 non-null   object \n",
      " 4   Subject            1279 non-null   object \n",
      " 5   Sendings           1279 non-null   int64  \n",
      " 6   OR                 1279 non-null   float64\n",
      " 7   Length_Of_subject  1279 non-null   int64  \n",
      " 8   Personalization    1279 non-null   int64  \n",
      " 9   Emoji              1279 non-null   int64  \n",
      " 10  Urgency            1279 non-null   int64  \n",
      " 11  Tone               1279 non-null   int64  \n",
      " 12  Price_or_Discount  1279 non-null   int64  \n",
      " 13  Imperative_Tone    1279 non-null   int64  \n",
      " 14  Product            1279 non-null   int64  \n",
      " 15  Month              1279 non-null   int64  \n",
      " 16  Letter_Count       1279 non-null   int64  \n",
      "dtypes: float64(1), int64(11), object(5)\n",
      "memory usage: 170.0+ KB\n"
     ]
    }
   ],
   "source": [
    "df.info()"
   ]
  },
  {
   "cell_type": "code",
   "execution_count": 4,
   "id": "d5d2a2ac",
   "metadata": {},
   "outputs": [],
   "source": [
    "columns_to_drop = [ \"translation\", \"CTR clean %\",\"Subject\"]  \n",
    "df = df.drop(columns=columns_to_drop, errors='ignore')"
   ]
  },
  {
   "cell_type": "code",
   "execution_count": null,
   "id": "44670a25",
   "metadata": {},
   "outputs": [],
   "source": []
  },
  {
   "cell_type": "code",
   "execution_count": null,
   "id": "b8328d46",
   "metadata": {},
   "outputs": [],
   "source": []
  },
  {
   "cell_type": "code",
   "execution_count": 5,
   "id": "e5556a40",
   "metadata": {},
   "outputs": [
    {
     "name": "stdout",
     "output_type": "stream",
     "text": [
      "<class 'pandas.core.frame.DataFrame'>\n",
      "RangeIndex: 1279 entries, 0 to 1278\n",
      "Data columns (total 16 columns):\n",
      " #   Column             Non-Null Count  Dtype  \n",
      "---  ------             --------------  -----  \n",
      " 0   Sent_Date          1279 non-null   object \n",
      " 1   Day_of_week        1279 non-null   object \n",
      " 2   Category_name      1279 non-null   object \n",
      " 3   Main_Vs_REM        1279 non-null   object \n",
      " 4   Sendings           1279 non-null   int64  \n",
      " 5   OR                 1279 non-null   float64\n",
      " 6   Length_Of_subject  1279 non-null   int64  \n",
      " 7   Personalization    1279 non-null   int64  \n",
      " 8   Emoji              1279 non-null   int64  \n",
      " 9   Urgency            1279 non-null   int64  \n",
      " 10  Tone               1279 non-null   int64  \n",
      " 11  Price_or_Discount  1279 non-null   int64  \n",
      " 12  Imperative_Tone    1279 non-null   int64  \n",
      " 13  Product            1279 non-null   int64  \n",
      " 14  Month              1279 non-null   int64  \n",
      " 15  Letter_Count       1279 non-null   int64  \n",
      "dtypes: float64(1), int64(11), object(4)\n",
      "memory usage: 160.0+ KB\n"
     ]
    }
   ],
   "source": [
    "df.info()"
   ]
  },
  {
   "cell_type": "code",
   "execution_count": 6,
   "id": "184e8268",
   "metadata": {},
   "outputs": [
    {
     "name": "stdout",
     "output_type": "stream",
     "text": [
      "(1279, 16)\n",
      "Sent_Date             object\n",
      "Day_of_week           object\n",
      "Category_name         object\n",
      "Main_Vs_REM           object\n",
      "Sendings               int64\n",
      "OR                   float64\n",
      "Length_Of_subject      int64\n",
      "Personalization        int64\n",
      "Emoji                  int64\n",
      "Urgency                int64\n",
      "Tone                   int64\n",
      "Price_or_Discount      int64\n",
      "Imperative_Tone        int64\n",
      "Product                int64\n",
      "Month                  int64\n",
      "Letter_Count           int64\n",
      "dtype: object\n",
      "                OR       Sendings\n",
      "count  1279.000000    1279.000000\n",
      "mean      0.127393   45371.516810\n",
      "std       0.038115   63819.814309\n",
      "min       0.024500     186.000000\n",
      "25%       0.098450    5010.000000\n",
      "50%       0.129800   31812.000000\n",
      "75%       0.151000   45117.000000\n",
      "max       0.320000  244401.000000\n"
     ]
    }
   ],
   "source": [
    "import pandas as pd\n",
    "import numpy as np\n",
    "import statsmodels.api as sm\n",
    "\n",
    "# Show head & info quick checks\n",
    "print(df.shape)\n",
    "print(df.dtypes)\n",
    "print(df[['OR', 'Sendings']].describe())\n",
    "\n",
    "# Ensure Sendings are positive integers\n",
    "if (df['Sendings'] <= 0).any():\n",
    "    raise ValueError(\"Some Sendings <= 0. GLM freq_weights must be positive.\")\n",
    "\n",
    "# If OR is >1, assume it's percent and convert to proportion\n",
    "if df['OR'].max() > 1:\n",
    "    print(\"Converting OR from percent to proportion (dividing by 100).\")\n",
    "    df['OR'] = df['OR'] / 100.0\n",
    "\n",
    "# Quick sanity\n",
    "assert df['OR'].min() >= 0 and df['OR'].max() <= 1, \"OR must be within [0,1] after conversion.\"\n"
   ]
  },
  {
   "cell_type": "code",
   "execution_count": null,
   "id": "dd3e9aa5",
   "metadata": {},
   "outputs": [],
   "source": []
  },
  {
   "cell_type": "code",
   "execution_count": 7,
   "id": "f4235a92",
   "metadata": {},
   "outputs": [
    {
     "name": "stdout",
     "output_type": "stream",
     "text": [
      "Opens min,max: 27 19682\n",
      "Sendings min,max: 186 244401\n"
     ]
    }
   ],
   "source": [
    "# Create count variables\n",
    "df['Opens'] = (df['OR'] * df['Sendings']).round().astype(int)\n",
    "# Ensure Opens are within [0, Sendings]\n",
    "df['Opens'] = df[['Opens', 'Sendings']].apply(lambda r: min(max(r['Opens'], 0), r['Sendings']), axis=1)\n",
    "df['Failures'] = df['Sendings'] - df['Opens']\n",
    "\n",
    "# Quick checks\n",
    "print(\"Opens min,max:\", df['Opens'].min(), df['Opens'].max())\n",
    "print(\"Sendings min,max:\", df['Sendings'].min(), df['Sendings'].max())\n"
   ]
  },
  {
   "cell_type": "code",
   "execution_count": 8,
   "id": "77e03dea",
   "metadata": {},
   "outputs": [],
   "source": [
    "import pandas as pd\n",
    "import numpy as np\n",
    "from scipy import stats\n",
    "\n",
    "def get_column_outliers(df, columns=['Sendings', 'OR'], threshold=3):\n",
    "    \"\"\"\n",
    "    Detect outliers in each specified numeric column using Z-score.\n",
    "    \n",
    "    Parameters:\n",
    "    - df: pandas DataFrame\n",
    "    - columns: list of column names to check\n",
    "    - threshold: Z-score cutoff (default 3)\n",
    "    \n",
    "    Returns:\n",
    "    - Dictionary: column name -> DataFrame of outlier rows\n",
    "    \"\"\"\n",
    "    outlier_dict = {}\n",
    "    \n",
    "    for col in columns:\n",
    "        if col in df.columns:\n",
    "            col_data = df[col]\n",
    "            z_scores = np.abs(stats.zscore(col_data.dropna()))\n",
    "            col_outliers = df.loc[col_data.dropna().index[z_scores > threshold]]\n",
    "            outlier_dict[col] = col_outliers\n",
    "        else:\n",
    "            print(f\"Warning: Column '{col}' not found in DataFrame.\")\n",
    "            outlier_dict[col] = pd.DataFrame()  # empty DataFrame if column not found\n",
    "    \n",
    "    return outlier_dict\n",
    "\n",
    "\n",
    "\n"
   ]
  },
  {
   "cell_type": "code",
   "execution_count": 9,
   "id": "6a3c93b3",
   "metadata": {},
   "outputs": [
    {
     "name": "stdout",
     "output_type": "stream",
     "text": [
      "Sendings: capped below 357.000, capped above 241306.620\n",
      "OR: capped below 0.057, capped above 0.229\n"
     ]
    }
   ],
   "source": [
    "# Set Winsorization thresholds (percentiles)\n",
    "lower_pct = 0.01  # 1st percentile\n",
    "upper_pct = 0.99  # 99th percentile\n",
    "\n",
    "# List of columns to Winsorize\n",
    "columns_to_winsorize = ['Sendings', 'OR']\n",
    "\n",
    "for col in columns_to_winsorize:\n",
    "    lower = df[col].quantile(lower_pct)\n",
    "    upper = df[col].quantile(upper_pct)\n",
    "    df[col] = np.clip(df[col], lower, upper)  # Cap values at thresholds\n",
    "    print(f\"{col}: capped below {lower:.3f}, capped above {upper:.3f}\")\n",
    "\n",
    "# Now df has Winsorized columns ready for modeling"
   ]
  },
  {
   "cell_type": "code",
   "execution_count": 10,
   "id": "94a4a614",
   "metadata": {},
   "outputs": [],
   "source": [
    "# List the columns where you want to replace 1/0\n",
    "cols_to_replace = ['Personalization',\"Emoji\",'Urgency','Price_or_Discount','Imperative_Tone','Product']\n",
    "  \n",
    "\n",
    "# Replace 1 → 'yes' and 0 → 'no' in those columns\n",
    "df[cols_to_replace] = df[cols_to_replace].replace({1: 'yes', 0: 'no'})\n",
    "df[\"Length_Of_subject\"]=df[\"Length_Of_subject\"].replace({1: \"long\", 0:\"short\"})\n",
    "df[\"Tone\"]=df[\"Tone\"].replace({1: \"Casual\", 0:\"Formal\"})\n",
    "month_map = {\n",
    "    1: \"January\",\n",
    "    2: \"February\",\n",
    "    3: \"March\",\n",
    "    4: \"April\",\n",
    "    5: \"May\",\n",
    "    6: \"June\",\n",
    "    7: \"July\",\n",
    "    8: \"August\",\n",
    "    9: \"September\",\n",
    "    10: \"October\",\n",
    "    11: \"November\",\n",
    "    12: \"December\"\n",
    "}\n",
    "\n",
    "# Replace numeric month values with names\n",
    "df[\"Month\"] = df[\"Month\"].map(month_map)\n",
    "\n",
    "\n",
    "\n",
    "\n"
   ]
  },
  {
   "cell_type": "code",
   "execution_count": 11,
   "id": "fdb30f5d",
   "metadata": {},
   "outputs": [
    {
     "name": "stdout",
     "output_type": "stream",
     "text": [
      "All features present.\n"
     ]
    }
   ],
   "source": [
    "FEATURES = [\n",
    "    'Day_of_week', 'Category_name', 'Main_Vs_REM', 'Personalization',\n",
    "    'Emoji', 'Urgency', 'Tone', 'Price_or_Discount', 'Imperative_Tone',\n",
    "    'Product', 'Length_Of_subject', 'Month', 'Letter_Count'\n",
    "]\n",
    "\n",
    "missing = [f for f in FEATURES if f not in df.columns]\n",
    "if missing:\n",
    "    raise KeyError(f\"Missing features in df: {missing}\")\n",
    "else:\n",
    "    print(\"All features present.\")\n"
   ]
  },
  {
   "cell_type": "code",
   "execution_count": 12,
   "id": "bb97a00f",
   "metadata": {},
   "outputs": [
    {
     "name": "stdout",
     "output_type": "stream",
     "text": [
      "Training samples: 1023, Test samples: 256\n"
     ]
    }
   ],
   "source": [
    "from sklearn.model_selection import train_test_split\n",
    "\n",
    "# -----------------------------\n",
    "# Define target and features\n",
    "# -----------------------------\n",
    "X = df[FEATURES].copy()\n",
    "y = df[['Opens', 'Failures']]  # binomial target (successes + failures)\n",
    "\n",
    "# -----------------------------\n",
    "# Split data\n",
    "# -----------------------------\n",
    "X_train, X_test, y_train, y_test = train_test_split(\n",
    "    X, y,\n",
    "    test_size=0.2,          # 80% training / 20% testing\n",
    "    random_state=42,        # reproducibility\n",
    "    stratify=None           # optional, you can stratify by a variable like 'Main_Vs_REM' if desired\n",
    ")\n",
    "\n",
    "print(f\"Training samples: {len(X_train)}, Test samples: {len(X_test)}\")\n"
   ]
  },
  {
   "cell_type": "code",
   "execution_count": 13,
   "id": "1286b347",
   "metadata": {},
   "outputs": [
    {
     "name": "stdout",
     "output_type": "stream",
     "text": [
      "Any non-numeric columns? Series([], dtype: object)\n",
      "                 Generalized Linear Model Regression Results                  \n",
      "==============================================================================\n",
      "Dep. Variable:                      y   No. Observations:                 1023\n",
      "Model:                            GLM   Df Residuals:                 48360922\n",
      "Model Family:                Binomial   Df Model:                           28\n",
      "Link Function:                  Logit   Scale:                          1.0000\n",
      "Method:                          IRLS   Log-Likelihood:            -1.1589e+07\n",
      "Date:                Thu, 23 Oct 2025   Deviance:                   2.3198e+05\n",
      "Time:                        18:12:34   Pearson chi2:                 2.41e+05\n",
      "No. Iterations:                     6   Pseudo R-squ. (CS):              1.000\n",
      "Covariance Type:            nonrobust                                         \n",
      "==============================================================================\n",
      "                 coef    std err          z      P>|z|      [0.025      0.975]\n",
      "------------------------------------------------------------------------------\n",
      "const         -0.2155      0.001   -212.424      0.000      -0.217      -0.214\n",
      "x1            -0.0238      0.000   -201.443      0.000      -0.024      -0.024\n",
      "x2            -0.2052      0.002   -108.162      0.000      -0.209      -0.201\n",
      "x3             0.0730      0.005     16.138      0.000       0.064       0.082\n",
      "x4             0.1033      0.004     23.280      0.000       0.095       0.112\n",
      "x5            -0.1012      0.002    -48.296      0.000      -0.105      -0.097\n",
      "x6             0.0569      0.004     14.078      0.000       0.049       0.065\n",
      "x7            -0.1953      0.004    -45.692      0.000      -0.204      -0.187\n",
      "x8             0.0529      0.002     27.508      0.000       0.049       0.057\n",
      "x9            -0.3820      0.003   -115.273      0.000      -0.389      -0.376\n",
      "x10            0.1665      0.003     48.825      0.000       0.160       0.173\n",
      "x11           -0.2261      0.004    -57.790      0.000      -0.234      -0.218\n",
      "x12            0.0107      0.004      2.396      0.017       0.002       0.019\n",
      "x13           -0.0466      0.004    -10.980      0.000      -0.055      -0.038\n",
      "x14           -0.1689      0.005    -36.158      0.000      -0.178      -0.160\n",
      "x15           -0.1068      0.002    -68.588      0.000      -0.110      -0.104\n",
      "x16           -0.1086      0.002    -58.995      0.000      -0.112      -0.105\n",
      "x17            0.1038      0.001    115.393      0.000       0.102       0.106\n",
      "x18           -0.3192      0.001   -442.851      0.000      -0.321      -0.318\n",
      "x19           -0.1368      0.001   -115.438      0.000      -0.139      -0.135\n",
      "x20           -0.0786      0.001    -55.492      0.000      -0.081      -0.076\n",
      "x21            0.1242      0.001    123.197      0.000       0.122       0.126\n",
      "x22           -0.3397      0.001   -411.733      0.000      -0.341      -0.338\n",
      "x23           -0.0065      0.001     -4.577      0.000      -0.009      -0.004\n",
      "x24           -0.2089      0.002   -126.530      0.000      -0.212      -0.206\n",
      "x25           -0.1370      0.001   -158.415      0.000      -0.139      -0.135\n",
      "x26           -0.0784      0.001    -70.702      0.000      -0.081      -0.076\n",
      "x27            0.1575      0.002     87.465      0.000       0.154       0.161\n",
      "x28           -0.3730      0.002   -247.425      0.000      -0.376      -0.370\n",
      "x29           -0.0021      0.002     -1.302      0.193      -0.005       0.001\n",
      "x30           -0.0734      0.002    -48.687      0.000      -0.076      -0.070\n",
      "x31           -0.0725      0.001    -48.709      0.000      -0.075      -0.070\n",
      "x32            0.0501      0.002     28.669      0.000       0.047       0.054\n",
      "x33            0.1151      0.002     66.994      0.000       0.112       0.118\n",
      "x34           -0.0232      0.002    -14.856      0.000      -0.026      -0.020\n",
      "x35           -0.0796      0.002    -46.268      0.000      -0.083      -0.076\n",
      "x36            0.0218      0.002     13.115      0.000       0.019       0.025\n",
      "x37           -0.0410      0.002    -25.430      0.000      -0.044      -0.038\n",
      "x38           -0.0400      0.002    -25.511      0.000      -0.043      -0.037\n",
      "x39           -0.0286      0.001    -19.129      0.000      -0.032      -0.026\n",
      "x40           -0.0422      0.002    -26.194      0.000      -0.045      -0.039\n",
      "==============================================================================\n"
     ]
    }
   ],
   "source": [
    "import statsmodels.api as sm\n",
    "import numpy as np\n",
    "import pandas as pd\n",
    "\n",
    "# --- Step 1: One-hot encode ---\n",
    "#X_train_enc = pd.get_dummies(X_train, drop_first=True)\n",
    "#X_test_enc  = pd.get_dummies(X_test, drop_first=True)\n",
    "#X_test_enc  = X_test_enc.reindex(columns=X_train_enc.columns, fill_value=0)\n",
    "\n",
    "X_train_enc = pd.get_dummies(X_train, drop_first=False)\n",
    "X_test_enc = pd.get_dummies(X_test, drop_first=False)\n",
    "\n",
    "# 2️⃣ Align columns between train and test\n",
    "X_test_enc = X_test_enc.reindex(columns=X_train_enc.columns, fill_value=0)\n",
    "\n",
    "# --- Step 2: Force numeric dtype ---\n",
    "X_train_enc = X_train_enc.astype(float)\n",
    "X_test_enc  = X_test_enc.astype(float)\n",
    "\n",
    "# --- Step 3: Check for non-numeric columns ---\n",
    "print(\"Any non-numeric columns?\", X_train_enc.dtypes[X_train_enc.dtypes == 'object'])\n",
    "\n",
    "# --- Step 4: Prepare y ---\n",
    "y_ratio_train = (y_train['Opens'] / (y_train['Opens'] + y_train['Failures'])).astype(float)\n",
    "weights_train = (y_train['Opens'] + y_train['Failures']).astype(float)\n",
    "\n",
    "# --- Step 5: Convert to NumPy arrays (bypasses Pandas dtype issues) ---\n",
    "X_np = sm.add_constant(X_train_enc.values)\n",
    "y_np = np.asarray(y_ratio_train)\n",
    "w_np = np.asarray(weights_train)\n",
    "\n",
    "# --- Step 6: Fit model ---\n",
    "glm_binom = sm.GLM(\n",
    "    y_np,\n",
    "    X_np,\n",
    "    family=sm.families.Binomial(),\n",
    "    freq_weights=w_np\n",
    ").fit()\n",
    "\n",
    "print(glm_binom.summary())\n",
    "\n",
    "\n",
    "\n",
    "\n"
   ]
  },
  {
   "cell_type": "code",
   "execution_count": 14,
   "id": "858a2491",
   "metadata": {},
   "outputs": [
    {
     "name": "stdout",
     "output_type": "stream",
     "text": [
      "      Actual_OR  Predicted_OR  Sendings\n",
      "1239   0.084407      0.089097     50067\n",
      "1187   0.078499      0.074088    239724\n",
      "560    0.131514      0.129855     32202\n",
      "767    0.138007      0.158583     44679\n",
      "714    0.112113      0.097592      4656\n",
      "Mean actual OR: 0.12754428000476503\n",
      "Mean predicted OR: 0.11089781084388431\n"
     ]
    }
   ],
   "source": [
    "# Predict OR (probability of open)\n",
    "pred_OR = glm_binom.predict(sm.add_constant(X_test_enc.values))\n",
    "\n",
    "# Compare with actuals\n",
    "results = pd.DataFrame({\n",
    "    'Actual_OR': y_test['Opens'] / (y_test['Opens'] + y_test['Failures']),\n",
    "    'Predicted_OR': pred_OR,\n",
    "    'Sendings': y_test['Opens'] + y_test['Failures']\n",
    "})\n",
    "\n",
    "print(results.head())\n",
    "print(\"Mean actual OR:\", results['Actual_OR'].mean())\n",
    "print(\"Mean predicted OR:\", results['Predicted_OR'].mean())\n",
    "\n"
   ]
  },
  {
   "cell_type": "code",
   "execution_count": 15,
   "id": "cc3918c7",
   "metadata": {},
   "outputs": [
    {
     "name": "stdout",
     "output_type": "stream",
     "text": [
      "MAE: 0.02854\n",
      "RMSE: 0.03798\n"
     ]
    }
   ],
   "source": [
    "from sklearn.metrics import mean_absolute_error, mean_squared_error\n",
    "import numpy as np\n",
    "\n",
    "mae = mean_absolute_error(results['Actual_OR'], results['Predicted_OR'])\n",
    "rmse = np.sqrt(mean_squared_error(results['Actual_OR'], results['Predicted_OR']))\n",
    "\n",
    "print(f\"MAE: {mae:.5f}\")\n",
    "print(f\"RMSE: {rmse:.5f}\")"
   ]
  },
  {
   "cell_type": "code",
   "execution_count": 16,
   "id": "83bd8ff3",
   "metadata": {},
   "outputs": [
    {
     "name": "stdout",
     "output_type": "stream",
     "text": [
      "Calibration table (deciles):\n",
      "   decile  mean_pred  weighted_actual  count\n",
      "0       0   0.069291         0.076979   26.0\n",
      "1       1   0.075160         0.084771   26.0\n",
      "2       2   0.079701         0.075154   25.0\n",
      "3       3   0.089448         0.081073   28.0\n",
      "4       4   0.103726         0.104411   23.0\n",
      "5       5   0.118904         0.149427   29.0\n",
      "6       6   0.128118         0.145489   22.0\n",
      "7       7   0.134815         0.144360   26.0\n",
      "8       8   0.147250         0.147327   25.0\n",
      "9       9   0.165312         0.149249   26.0\n"
     ]
    }
   ],
   "source": [
    "results['decile'] = pd.qcut(results['Predicted_OR'], 10, labels=False)\n",
    "\n",
    "calibration = results.groupby('decile').apply(\n",
    "    lambda d: pd.Series({\n",
    "        'mean_pred': d['Predicted_OR'].mean(),\n",
    "        'weighted_actual': np.average(d['Actual_OR'], weights=d['Sendings']),\n",
    "        'count': len(d)\n",
    "    })\n",
    ").reset_index()\n",
    "\n",
    "print(\"Calibration table (deciles):\")\n",
    "print(calibration)\n"
   ]
  },
  {
   "cell_type": "code",
   "execution_count": 17,
   "id": "c38e3aa2",
   "metadata": {},
   "outputs": [
    {
     "name": "stdout",
     "output_type": "stream",
     "text": [
      "=== Top-decile lift ===\n",
      "Overall avg OR: 0.1153\n",
      "Top 10% avg OR: 0.1498\n",
      "Lift: 1.30×\n"
     ]
    }
   ],
   "source": [
    "overall_avg = np.average(results['Actual_OR'], weights=results['Sendings'])\n",
    "top_decile = results.nlargest(int(len(results) * 0.1), 'Predicted_OR')\n",
    "top_avg = np.average(top_decile['Actual_OR'], weights=top_decile['Sendings'])\n",
    "\n",
    "lift = top_avg / overall_avg\n",
    "print(f\"=== Top-decile lift ===\\nOverall avg OR: {overall_avg:.4f}\\nTop 10% avg OR: {top_avg:.4f}\\nLift: {lift:.2f}×\")"
   ]
  },
  {
   "cell_type": "code",
   "execution_count": 18,
   "id": "19c3e7c2",
   "metadata": {},
   "outputs": [
    {
     "data": {
      "image/png": "[encoded data removed]",
      "text/plain": [
       "<Figure size 600x600 with 1 Axes>"
      ]
     },
     "metadata": {},
     "output_type": "display_data"
    }
   ],
   "source": [
    "import matplotlib.pyplot as plt\n",
    "import numpy as np\n",
    "\n",
    "# Sort predictions into 10 bins\n",
    "results['decile'] = pd.qcut(results['Predicted_OR'], 10, labels=False)\n",
    "\n",
    "calibration = results.groupby('decile').apply(\n",
    "    lambda d: pd.Series({\n",
    "        'mean_pred': d['Predicted_OR'].mean(),\n",
    "        'weighted_actual': np.average(d['Actual_OR'], weights=d['Sendings'])\n",
    "    })\n",
    ").reset_index()\n",
    "\n",
    "# Plot calibration curve\n",
    "plt.figure(figsize=(6, 6))\n",
    "plt.plot(calibration['mean_pred'], calibration['weighted_actual'], marker='o', label='Actual')\n",
    "plt.plot([0, 1], [0, 1], 'k--', label='Perfect calibration')\n",
    "plt.xlabel('Predicted OR')\n",
    "plt.ylabel('Actual OR')\n",
    "plt.title('Calibration (Reliability) Curve')\n",
    "plt.xlim(0, 0.3)\n",
    "plt.ylim(0, 0.3)\n",
    "plt.legend()\n",
    "plt.grid(True)\n",
    "plt.show()\n",
    "\n"
   ]
  },
  {
   "cell_type": "code",
   "execution_count": 19,
   "id": "bedb8d45",
   "metadata": {},
   "outputs": [
    {
     "data": {
      "image/png": "[encoded data removed]",
      "text/plain": [
       "<Figure size 600x600 with 1 Axes>"
      ]
     },
     "metadata": {},
     "output_type": "display_data"
    }
   ],
   "source": [
    "plt.figure(figsize=(6, 6))\n",
    "plt.scatter(results['Actual_OR'], results['Predicted_OR'], alpha=0.6)\n",
    "plt.plot([0, 1], [0, 1], 'k--')\n",
    "plt.xlabel('Actual OR')\n",
    "plt.ylabel('Predicted OR')\n",
    "plt.title('Predicted vs Actual Open Rate')\n",
    "plt.xlim(0, 0.3)\n",
    "plt.ylim(0, 0.3)\n",
    "plt.grid(True)\n",
    "plt.show()\n",
    "\n"
   ]
  },
  {
   "cell_type": "code",
   "execution_count": 23,
   "id": "b1ffeb6f",
   "metadata": {},
   "outputs": [],
   "source": [
    "import pandas as pd\n",
    "import numpy as np\n",
    "import statsmodels.api as sm\n",
    "\n",
    "# --- Helper: reproducible mapping (same as training) ---\n",
    "_binary_map = {1: 'yes', 0: 'no'}\n",
    "_length_map = {1: 'long', 0: 'short'}\n",
    "_tone_map = {1: 'Casual', 0: 'Formal'}\n",
    "_month_map = {\n",
    "    1: \"January\", 2: \"February\", 3: \"March\", 4: \"April\", 5: \"May\", 6: \"June\",\n",
    "    7: \"July\", 8: \"August\", 9: \"September\", 10: \"October\", 11: \"November\", 12: \"December\"\n",
    "}\n",
    "\n",
    "def predict_open_rate(new_data,\n",
    "                      glm_model,\n",
    "                      train_columns,\n",
    "                      sendings_col=None,\n",
    "                      features_to_binary=['Personalization','Emoji','Urgency','Price_or_Discount','Imperative_Tone','Product'],\n",
    "                      length_col='Length_Of_subject',\n",
    "                      tone_col='Tone',\n",
    "                      month_col='Month'):\n",
    "    \"\"\"\n",
    "    Predict open rate(s) using a fitted binomial GLM (statsmodels).\n",
    "\n",
    "    Parameters\n",
    "    ----------\n",
    "    new_data : dict or pandas.DataFrame\n",
    "        Single-row dict or DataFrame (can be several rows) containing the same raw features used at training.\n",
    "    glm_model : statsmodels.genmod.generalized_linear_model.GLMResults\n",
    "        Fitted binomial GLM (what you named `glm_binom`).\n",
    "    train_columns : list-like\n",
    "        The list of columns produced by pd.get_dummies(X_train, drop_first=False).columns\n",
    "        (i.e., X_train_enc.columns.tolist()) — does NOT include the constant.\n",
    "    sendings_col : str or None\n",
    "        If provided and present in new_data, expected opens will be computed (Predicted_OR * Sendings).\n",
    "    features_to_binary : list\n",
    "        Names of columns that should map 1/0 -> 'yes'/'no'.\n",
    "    length_col, tone_col, month_col : str\n",
    "        Column names used for length/tone/month mapping.\n",
    "\n",
    "    Returns\n",
    "    -------\n",
    "    DataFrame with columns:\n",
    "      - Predicted_OR : predicted probability (open rate)\n",
    "      - Expected_Opens (if sendings available)\n",
    "      - Input_Sendings (if sendings available)\n",
    "      - Any warnings in a 'notes' column\n",
    "    \"\"\"\n",
    "\n",
    "    # Normalize input to DataFrame\n",
    "    if isinstance(new_data, dict):\n",
    "        df_new = pd.DataFrame([new_data])\n",
    "    elif isinstance(new_data, pd.Series):\n",
    "        df_new = pd.DataFrame([new_data.to_dict()])\n",
    "    else:\n",
    "        df_new = pd.DataFrame(new_data).copy()\n",
    "\n",
    "    notes = []\n",
    "\n",
    "    # Basic checks\n",
    "    if df_new.shape[0] == 0:\n",
    "        raise ValueError(\"new_data is empty\")\n",
    "\n",
    "    # Apply the same mapping as training for binary features (if column exists and values are 1/0)\n",
    "    for c in features_to_binary:\n",
    "        if c in df_new.columns:\n",
    "            df_new[c] = df_new[c].replace(_binary_map)  # if already 'yes'/'no', no change\n",
    "\n",
    "    # Length / Tone mapping\n",
    "    if length_col in df_new.columns:\n",
    "        df_new[length_col] = df_new[length_col].replace(_length_map)\n",
    "    if tone_col in df_new.columns:\n",
    "        df_new[tone_col] = df_new[tone_col].replace(_tone_map)\n",
    "\n",
    "    # Month mapping (numeric -> name) if numeric\n",
    "    if month_col in df_new.columns:\n",
    "        # only map numeric months; if names already present, leave as-is\n",
    "        if pd.api.types.is_numeric_dtype(df_new[month_col]):\n",
    "            df_new[month_col] = df_new[month_col].map(_month_map).fillna(df_new[month_col])\n",
    "\n",
    "    # Warn about missing expected feature columns (non-fatal)\n",
    "    missing_features = [c for c in train_columns if c not in df_new.columns and '_' not in c]\n",
    "    # Note: we don't strictly require every one-hot column in raw data; reindex will add zeros for unseen categories.\n",
    "    if missing_features:\n",
    "        # This is informational only; reindex will handle the one-hot columns\n",
    "        notes.append(f\"Input did not contain some raw feature names ({len(missing_features)} missing). \"\n",
    "                     \"Unseen columns will be filled with zeros after one-hot encoding.\")\n",
    "\n",
    "    # One-hot encode using same strategy as training\n",
    "    X_new_enc = pd.get_dummies(df_new, drop_first=False)\n",
    "\n",
    "    # Align the one-hot encoded frame to the training columns (fill missing dummies with 0)\n",
    "    X_new_aligned = X_new_enc.reindex(columns=train_columns, fill_value=0)\n",
    "\n",
    "    # Force numeric dtype\n",
    "    X_new_aligned = X_new_aligned.astype(float)\n",
    "\n",
    "    # Add constant (statsmodels style) — match training\n",
    "    X_new_with_const = sm.add_constant(X_new_aligned.values, has_constant='add')\n",
    "\n",
    "    # Predict\n",
    "    try:\n",
    "        preds = glm_model.predict(X_new_with_const)\n",
    "    except Exception as e:\n",
    "        raise RuntimeError(f\"Prediction failed: {e}\")\n",
    "\n",
    "    # Build result DataFrame\n",
    "    result = pd.DataFrame({\n",
    "        'Predicted_OR': np.asarray(preds).astype(float)\n",
    "    }, index=df_new.index)\n",
    "\n",
    "    # If sendings present, compute expected opens\n",
    "    if sendings_col and sendings_col in df_new.columns:\n",
    "        sendings_vals = pd.to_numeric(df_new[sendings_col], errors='coerce').fillna(0).astype(float)\n",
    "        result['Input_Sendings'] = sendings_vals.values\n",
    "        result['Expected_Opens'] = (result['Predicted_OR'] * result['Input_Sendings']).round().astype(int)\n",
    "    elif 'Sendings' in df_new.columns:\n",
    "        sendings_vals = pd.to_numeric(df_new['Sendings'], errors='coerce').fillna(0).astype(float)\n",
    "        result['Input_Sendings'] = sendings_vals.values\n",
    "        result['Expected_Opens'] = (result['Predicted_OR'] * result['Input_Sendings']).round().astype(int)\n",
    "\n",
    "    # Attach any notes/warnings\n",
    "    result['notes'] = \"; \".join(notes) if notes else \"\"\n",
    "\n",
    "    return result\n"
   ]
  },
  {
   "cell_type": "code",
   "execution_count": null,
   "id": "5f1922c7",
   "metadata": {},
   "outputs": [],
   "source": []
  },
  {
   "cell_type": "code",
   "execution_count": 24,
   "id": "486a60d7",
   "metadata": {},
   "outputs": [
    {
     "name": "stdout",
     "output_type": "stream",
     "text": [
      "   Predicted_OR  Input_Sendings  Expected_Opens notes\n",
      "0      0.178292         10000.0            1783      \n"
     ]
    }
   ],
   "source": [
    "# Prepare these before calling:\n",
    "train_columns = X_train_enc.columns.tolist()   # X_train_enc from your training step\n",
    "# glm_binom is your fitted model from earlier\n",
    "\n",
    "# Example single-row dict (raw features; include Sendings if you want expected opens)\n",
    "new_row = {\n",
    "    'Day_of_week': 'Sunday',\n",
    "    'Category_name': 'NL Interval',\n",
    "    'Main_Vs_REM': 'MAIN',\n",
    "    'Personalization': 1,\n",
    "    'Emoji': 0,\n",
    "    'Urgency': 0,\n",
    "    'Tone': 1,                  # numeric or \"Formal\"/\"Casual\"\n",
    "    'Price_or_Discount': 1,\n",
    "    'Imperative_Tone': 1,\n",
    "    'Product': 0,\n",
    "    'Length_Of_subject': 1,     # numeric or 'long'/'short'\n",
    "    'Month': 10,\n",
    "    'Letter_Count': 12,\n",
    "    'Sendings': 10000\n",
    "}\n",
    "\n",
    "out = predict_open_rate(new_row, glm_binom, train_columns, sendings_col='Sendings')\n",
    "print(out)\n"
   ]
  },
  {
   "cell_type": "code",
   "execution_count": 25,
   "id": "84b0ad6d",
   "metadata": {},
   "outputs": [
    {
     "data": {
      "application/vnd.jupyter.widget-view+json": {
       "model_id": "de424fe5e0884e3d96909ef14592a775",
       "version_major": 2,
       "version_minor": 0
      },
      "text/plain": [
       "VBox(children=(HBox(children=(Dropdown(description='Day:', options=('Sunday', 'Monday', 'Tuesday', 'Wednesday'…"
      ]
     },
     "metadata": {},
     "output_type": "display_data"
    }
   ],
   "source": [
    "import ipywidgets as widgets\n",
    "from IPython.display import display, clear_output\n",
    "\n",
    "def glm_predictor_widget(glm_model, train_columns):\n",
    "    \"\"\"\n",
    "    Interactive widget for predicting open rate using fitted GLM.\n",
    "    \"\"\"\n",
    "\n",
    "    # --- Define available options based on your training schema ---\n",
    "    day_options = ['Sunday', 'Monday', 'Tuesday', 'Wednesday', 'Thursday', 'Friday', 'Saturday']\n",
    "    category_options = ['NL Interval']  # adjust if more exist\n",
    "    main_rem_options = ['MAIN', 'REM']\n",
    "    yes_no = ['yes', 'no']\n",
    "    tone_options = ['Formal', 'Casual']\n",
    "    length_options = ['short', 'long']\n",
    "    month_options = [\n",
    "        'January','February','March','April','May','June',\n",
    "        'July','August','September','October','November','December'\n",
    "    ]\n",
    "    product_options = ['yes', 'no']  # can replace with actual product names if categorical\n",
    "\n",
    "    # --- Create widgets ---\n",
    "    w_day = widgets.Dropdown(options=day_options, description='Day:')\n",
    "    w_cat = widgets.Dropdown(options=category_options, description='Category:')\n",
    "    w_main = widgets.Dropdown(options=main_rem_options, description='Main vs REM:')\n",
    "    w_personal = widgets.Dropdown(options=yes_no, description='Personalization:')\n",
    "    w_emoji = widgets.Dropdown(options=yes_no, description='Emoji:')\n",
    "    w_urgency = widgets.Dropdown(options=yes_no, description='Urgency:')\n",
    "    w_tone = widgets.Dropdown(options=tone_options, description='Tone:')\n",
    "    w_discount = widgets.Dropdown(options=yes_no, description='Price/Discount:')\n",
    "    w_imperative = widgets.Dropdown(options=yes_no, description='Imperative Tone:')\n",
    "    w_product = widgets.Dropdown(options=product_options, description='Product:')\n",
    "    w_length = widgets.Dropdown(options=length_options, description='Subject Length:')\n",
    "    w_month = widgets.Dropdown(options=month_options, description='Month:')\n",
    "    w_letter_count = widgets.IntSlider(value=100, min=5, max=60, step=5, description='Letter Count:')\n",
    "    w_sendings = widgets.IntText(value=10000, description='Sendings:')\n",
    "\n",
    "    out_box = widgets.Output()\n",
    "\n",
    "    # --- Prediction callback ---\n",
    "    def on_predict(change=None):\n",
    "        with out_box:\n",
    "            clear_output()\n",
    "\n",
    "            new_input = {\n",
    "                'Day_of_week': w_day.value,\n",
    "                'Category_name': w_cat.value,\n",
    "                'Main_Vs_REM': w_main.value,\n",
    "                'Personalization': w_personal.value,\n",
    "                'Emoji': w_emoji.value,\n",
    "                'Urgency': w_urgency.value,\n",
    "                'Tone': w_tone.value,\n",
    "                'Price_or_Discount': w_discount.value,\n",
    "                'Imperative_Tone': w_imperative.value,\n",
    "                'Product': w_product.value,\n",
    "                'Length_Of_subject': w_length.value,\n",
    "                'Month': w_month.value,\n",
    "                'Letter_Count': w_letter_count.value,\n",
    "                'Sendings': w_sendings.value\n",
    "            }\n",
    "\n",
    "            pred = predict_open_rate(new_input, glm_model, train_columns, sendings_col='Sendings')\n",
    "            open_rate = float(pred['Predicted_OR'].iloc[0]) * 100\n",
    "            expected_opens = int(pred['Expected_Opens'].iloc[0])\n",
    "            sendings = int(pred['Input_Sendings'].iloc[0])\n",
    "\n",
    "            print(\"=== Prediction Result ===\")\n",
    "            print(f\"Predicted Open Rate: {open_rate:.2f}%\")\n",
    "            print(f\"Expected Opens: {expected_opens:,} (out of {sendings:,})\")\n",
    "\n",
    "    # --- Predict button ---\n",
    "    predict_btn = widgets.Button(description='🔮 Predict Open Rate', button_style='success')\n",
    "    predict_btn.on_click(on_predict)\n",
    "\n",
    "    # --- Layout ---\n",
    "    ui = widgets.VBox([\n",
    "        widgets.HBox([w_day, w_cat, w_main]),\n",
    "        widgets.HBox([w_personal, w_emoji, w_urgency]),\n",
    "        widgets.HBox([w_tone, w_discount, w_imperative]),\n",
    "        widgets.HBox([w_product, w_length, w_month]),\n",
    "        widgets.HBox([w_letter_count, w_sendings]),\n",
    "        predict_btn,\n",
    "        out_box\n",
    "    ])\n",
    "\n",
    "    display(ui)\n",
    "\n",
    "# ✅ Run this line to activate your widget (after glm_binom and train_columns exist)\n",
    "glm_predictor_widget(glm_binom, train_columns)\n"
   ]
  }
 ],
 "metadata": {
  "kernelspec": {
   "display_name": "base",
   "language": "python",
   "name": "python3"
  },
  "language_info": {
   "codemirror_mode": {
    "name": "ipython",
    "version": 3
   },
   "file_extension": ".py",
   "mimetype": "text/x-python",
   "name": "python",
   "nbconvert_exporter": "python",
   "pygments_lexer": "ipython3",
   "version": "3.11.7"
  }
 },
 "nbformat": 4,
 "nbformat_minor": 5
}
